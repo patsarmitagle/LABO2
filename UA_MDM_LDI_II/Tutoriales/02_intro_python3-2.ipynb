{
  "cells": [
    {
      "cell_type": "markdown",
      "metadata": {
        "colab_type": "text",
        "id": "gwajd8OViTHi"
      },
      "source": [
        "### Definición de funciones\n",
        "\n",
        "Las funciones se definen con la palabra clave `def`\n",
        "\n",
        "```python\n",
        "def funcion(argumento1, argumento2, argumento_con_default=None, \n",
        "            *argumentos_posicionales_aninimos, **otros_argumentos_con_nombre)\n",
        "    # hacer algo\n",
        "    algo = 0\n",
        "    return algo\n",
        "```"
      ]
    },
    {
      "cell_type": "code",
      "execution_count": 1,
      "metadata": {
        "colab": {},
        "colab_type": "code",
        "id": "chSZ5gyiiTHk",
        "tags": []
      },
      "outputs": [
        {
          "name": "stdout",
          "output_type": "stream",
          "text": [
            "fuera de funcion\n"
          ]
        }
      ],
      "source": [
        "def fun():\n",
        "    print(\"hago cuentas\")\n",
        "    return 1, 2, 3\n",
        "print(\"fuera de funcion\")"
      ]
    },
    {
      "cell_type": "code",
      "execution_count": 2,
      "metadata": {
        "colab": {},
        "colab_type": "code",
        "id": "JOksxlTiiTH1",
        "tags": []
      },
      "outputs": [
        {
          "name": "stdout",
          "output_type": "stream",
          "text": [
            "hago cuentas\n"
          ]
        },
        {
          "data": {
            "text/plain": [
              "(1, 2, 3)"
            ]
          },
          "execution_count": 2,
          "metadata": {},
          "output_type": "execute_result"
        }
      ],
      "source": [
        "fun()"
      ]
    },
    {
      "cell_type": "code",
      "execution_count": 3,
      "metadata": {
        "colab": {},
        "colab_type": "code",
        "id": "7ggA0CG0iTIA",
        "tags": []
      },
      "outputs": [],
      "source": [
        "def funcionCompleja(a, b=1, *args, **kwargs):\n",
        "    \"esta viene con ayuda\"\n",
        "    print(\"a =\", a)\n",
        "    print(\"b =\", b)\n",
        "    for i, arg in enumerate(args):\n",
        "        print(\"elemento {0} de args es igual a {1}\".format(i, arg))\n",
        "    for i, arg in enumerate(kwargs):\n",
        "        print(\"elemento {0} de kwargs es igual a {1}\".format(arg, kwargs[arg]))\n",
        "    return 1\n",
        "\n"
      ]
    },
    {
      "cell_type": "code",
      "execution_count": 4,
      "metadata": {
        "colab": {},
        "colab_type": "code",
        "id": "lU3rUv2kiTII",
        "tags": []
      },
      "outputs": [
        {
          "name": "stdout",
          "output_type": "stream",
          "text": [
            "a = 10\n",
            "b = 1\n"
          ]
        },
        {
          "data": {
            "text/plain": [
              "1"
            ]
          },
          "execution_count": 4,
          "metadata": {},
          "output_type": "execute_result"
        }
      ],
      "source": [
        "funcionCompleja(10)"
      ]
    },
    {
      "cell_type": "code",
      "execution_count": 5,
      "metadata": {
        "colab": {},
        "colab_type": "code",
        "id": "tf6MQ8WaiTIb",
        "tags": []
      },
      "outputs": [
        {
          "name": "stdout",
          "output_type": "stream",
          "text": [
            "a = a\n",
            "b = b\n",
            "elemento 0 de args es igual a otro1\n",
            "elemento 1 de args es igual a otro2\n",
            "elemento nombrado1 de kwargs es igual a tiene nombre\n",
            "elemento nombrado2 de kwargs es igual a este tambien\n"
          ]
        },
        {
          "data": {
            "text/plain": [
              "1"
            ]
          },
          "execution_count": 5,
          "metadata": {},
          "output_type": "execute_result"
        }
      ],
      "source": [
        "funcionCompleja(\"a\", \"b\", \"otro1\", \"otro2\", nombrado1=\"tiene nombre\", nombrado2=\"este tambien\")"
      ]
    },
    {
      "cell_type": "code",
      "execution_count": 6,
      "metadata": {
        "colab": {},
        "colab_type": "code",
        "id": "A2Cd-byoiTIw",
        "tags": []
      },
      "outputs": [
        {
          "name": "stdout",
          "output_type": "stream",
          "text": [
            "hago cuentas\n",
            "j es igual a (1, 2, 3)\n",
            "hago cuentas\n"
          ]
        },
        {
          "data": {
            "text/plain": [
              "'x es igual a 1'"
            ]
          },
          "execution_count": 6,
          "metadata": {},
          "output_type": "execute_result"
        }
      ],
      "source": [
        "#unpacking \n",
        "j = fun()\n",
        "print(f\"j es igual a {j}\")\n",
        "x, y, z = fun()\n",
        "f\"x es igual a {x}\""
      ]
    },
    {
      "cell_type": "code",
      "execution_count": 7,
      "metadata": {
        "colab": {},
        "colab_type": "code",
        "id": "aFOH4NyRiTI7",
        "tags": []
      },
      "outputs": [
        {
          "name": "stdout",
          "output_type": "stream",
          "text": [
            "Help on function funcionCompleja in module __main__:\n",
            "\n",
            "funcionCompleja(a, b=1, *args, **kwargs)\n",
            "    esta viene con ayuda\n",
            "\n"
          ]
        }
      ],
      "source": [
        "help(funcionCompleja)"
      ]
    },
    {
      "cell_type": "code",
      "execution_count": 8,
      "metadata": {
        "colab": {},
        "colab_type": "code",
        "id": "fvo-EQbviTJE"
      },
      "outputs": [
        {
          "name": "stdout",
          "output_type": "stream",
          "text": [
            "\u001b[0;31mSignature:\u001b[0m \u001b[0mfuncionCompleja\u001b[0m\u001b[0;34m(\u001b[0m\u001b[0ma\u001b[0m\u001b[0;34m,\u001b[0m \u001b[0mb\u001b[0m\u001b[0;34m=\u001b[0m\u001b[0;36m1\u001b[0m\u001b[0;34m,\u001b[0m \u001b[0;34m*\u001b[0m\u001b[0margs\u001b[0m\u001b[0;34m,\u001b[0m \u001b[0;34m**\u001b[0m\u001b[0mkwargs\u001b[0m\u001b[0;34m)\u001b[0m\u001b[0;34m\u001b[0m\u001b[0;34m\u001b[0m\u001b[0m\n",
            "\u001b[0;31mDocstring:\u001b[0m esta viene con ayuda\n",
            "\u001b[0;31mFile:\u001b[0m      /tmp/ipykernel_310700/6209638.py\n",
            "\u001b[0;31mType:\u001b[0m      function"
          ]
        }
      ],
      "source": [
        "funcionCompleja?"
      ]
    },
    {
      "cell_type": "markdown",
      "metadata": {
        "colab_type": "text",
        "id": "G3giR5xciTJL"
      },
      "source": [
        "### Definición de Clases\n",
        "\n",
        "Python admite dos paradigmas de programación:\n",
        "*   Programación Estructurada \n",
        "*   Programación Orientada a Objetos \n",
        "\n",
        "Para lo segundo, introducimos el concepto de **Clases**\n"
      ]
    },
    {
      "cell_type": "markdown",
      "metadata": {
        "colab_type": "text",
        "id": "d9MLYYCfphP8"
      },
      "source": [
        "A partir de una clase creamos determinados **Objetos** con caracteristicas definidas. \n",
        "\n",
        "Dichos Objetos son entidades que tienen un *Comportamiento*; un *Estado*; *Almacenan Información* y pueden *Realizar Tareas*."
      ]
    },
    {
      "cell_type": "markdown",
      "metadata": {
        "colab_type": "text",
        "id": "JbTvB-EEpLfw"
      },
      "source": [
        "\n",
        "---\n",
        "\n",
        "Ejemplo simple para los que no vienen de formación en Programación:\n",
        "\n",
        "Tenemos la Clase: **Animal**\n",
        "\n",
        "El objeto instanciado (creado a partir de esa clase): **Perro**\n",
        "\n",
        "Que tiene sus atributos:\n",
        "*   Color: negro\n",
        "*   Raza: Coquer\n",
        "*   Tiene collar: True\n",
        "\n",
        "Y tiene sus métodos:\n",
        "*   Ladra (“Guau; guau”)\n",
        "*   Corre ()\n",
        "*   Camina()\n",
        "*   Olfatea()\n",
        "\n",
        "---\n"
      ]
    },
    {
      "cell_type": "markdown",
      "metadata": {
        "colab_type": "text",
        "id": "QsGpGBvbsHdi"
      },
      "source": [
        "\n",
        "Las clases se definen con la palabra clave `class`, los argumentos de una clase tienen que ser otras clases de las cuales hereda"
      ]
    },
    {
      "cell_type": "code",
      "execution_count": 9,
      "metadata": {
        "colab": {},
        "colab_type": "code",
        "id": "4JxPAqKLvuRY"
      },
      "outputs": [],
      "source": [
        "class perro(object):\n",
        "    \"\"\"\n",
        "    doc string de la clase\n",
        "    \"\"\"\n",
        "    def __init__(self, Color, Edad):\n",
        "        \"\"\"\n",
        "        el método __init__ es el que se llama al crear una instancia de la clase, \n",
        "        tiene ciertas similitudes con un constructor en otros lenguajes. \n",
        "        \"\"\"\n",
        "        self.Color = Color\n",
        "        self.Edad = Edad\n",
        "\n",
        "    def presentar(self):\n",
        "        \"\"\"\n",
        "        doc string del método\n",
        "        \"\"\"\n",
        "        return f\"Es un perro de color {self.Color} y de {self.Edad} años de edad\""
      ]
    },
    {
      "cell_type": "code",
      "execution_count": 10,
      "metadata": {
        "colab": {},
        "colab_type": "code",
        "id": "BGeHaNfIvvhk"
      },
      "outputs": [],
      "source": [
        "Coquer = perro(Color = \"Marron\", Edad = 10)"
      ]
    },
    {
      "cell_type": "code",
      "execution_count": 11,
      "metadata": {
        "colab": {},
        "colab_type": "code",
        "id": "_8tbi5qRwTMj"
      },
      "outputs": [
        {
          "data": {
            "text/plain": [
              "'Es un perro de color Marron y de 10 años de edad'"
            ]
          },
          "execution_count": 11,
          "metadata": {},
          "output_type": "execute_result"
        }
      ],
      "source": [
        "Coquer.presentar()"
      ]
    },
    {
      "cell_type": "code",
      "execution_count": 12,
      "metadata": {
        "colab": {},
        "colab_type": "code",
        "id": "KZs0xs5IiTJN"
      },
      "outputs": [],
      "source": [
        "class MiClase(object):\n",
        "    \"\"\"\n",
        "    doc string de la clase\n",
        "    \"\"\"\n",
        "    \n",
        "    def __init__(self, arg1=None, arg2=None):\n",
        "        \"\"\"\n",
        "        el método __init__ es el que se llama al crear una instancia de la clase\n",
        "        \"\"\"\n",
        "        self.arg1 = arg1\n",
        "        self.arg2 = arg2\n",
        "\n",
        "    def metodo1(self):\n",
        "        \"\"\"\n",
        "        doc string del método\n",
        "        \"\"\"\n",
        "        return self.arg1 + self.arg2\n",
        "   "
      ]
    },
    {
      "cell_type": "code",
      "execution_count": 13,
      "metadata": {
        "colab": {},
        "colab_type": "code",
        "id": "Vh0FjjpeiTJY"
      },
      "outputs": [],
      "source": [
        "instanacia = MiClase(15, 1)"
      ]
    },
    {
      "cell_type": "code",
      "execution_count": 14,
      "metadata": {
        "colab": {},
        "colab_type": "code",
        "id": "qgzymLi8jRMt"
      },
      "outputs": [
        {
          "data": {
            "text/plain": [
              "16"
            ]
          },
          "execution_count": 14,
          "metadata": {},
          "output_type": "execute_result"
        }
      ],
      "source": [
        "instanacia.metodo1()"
      ]
    },
    {
      "cell_type": "code",
      "execution_count": 15,
      "metadata": {
        "colab": {},
        "colab_type": "code",
        "id": "jyJ92pAqiTJk"
      },
      "outputs": [
        {
          "name": "stdout",
          "output_type": "stream",
          "text": [
            "\u001b[0;31mInit signature:\u001b[0m \u001b[0mMiClase\u001b[0m\u001b[0;34m(\u001b[0m\u001b[0marg1\u001b[0m\u001b[0;34m=\u001b[0m\u001b[0;32mNone\u001b[0m\u001b[0;34m,\u001b[0m \u001b[0marg2\u001b[0m\u001b[0;34m=\u001b[0m\u001b[0;32mNone\u001b[0m\u001b[0;34m)\u001b[0m\u001b[0;34m\u001b[0m\u001b[0;34m\u001b[0m\u001b[0m\n",
            "\u001b[0;31mDocstring:\u001b[0m      doc string de la clase\n",
            "\u001b[0;31mInit docstring:\u001b[0m el método __init__ es el que se llama al crear una instancia de la clase\n",
            "\u001b[0;31mType:\u001b[0m           type\n",
            "\u001b[0;31mSubclasses:\u001b[0m     "
          ]
        }
      ],
      "source": [
        "MiClase?"
      ]
    },
    {
      "cell_type": "code",
      "execution_count": 16,
      "metadata": {
        "colab": {},
        "colab_type": "code",
        "id": "ic2opG_OiTJq"
      },
      "outputs": [
        {
          "name": "stdout",
          "output_type": "stream",
          "text": [
            "\u001b[0;31mSignature:\u001b[0m \u001b[0minstanacia\u001b[0m\u001b[0;34m.\u001b[0m\u001b[0mmetodo1\u001b[0m\u001b[0;34m(\u001b[0m\u001b[0;34m)\u001b[0m\u001b[0;34m\u001b[0m\u001b[0;34m\u001b[0m\u001b[0m\n",
            "\u001b[0;31mDocstring:\u001b[0m doc string del método\n",
            "\u001b[0;31mFile:\u001b[0m      /tmp/ipykernel_310700/919376530.py\n",
            "\u001b[0;31mType:\u001b[0m      method"
          ]
        }
      ],
      "source": [
        "instanacia.metodo1?"
      ]
    },
    {
      "cell_type": "markdown",
      "metadata": {
        "colab_type": "text",
        "id": "bK5eNHTKiTJ0"
      },
      "source": [
        "#### Generadores\n",
        "\n",
        "Los generadores son un tipo especial de iteradores. A diferencia de una lista, por ejemplo, no contienen en memoria todos sus elementos, sino que los van \"generando\" a medida que le son requeridos"
      ]
    },
    {
      "cell_type": "code",
      "execution_count": 17,
      "metadata": {
        "colab": {},
        "colab_type": "code",
        "id": "Qd8CgLyxiTJ1"
      },
      "outputs": [
        {
          "data": {
            "text/plain": [
              "<generator object <genexpr> at 0x737b2420d700>"
            ]
          },
          "execution_count": 17,
          "metadata": {},
          "output_type": "execute_result"
        }
      ],
      "source": [
        "generator = (a for a in range(10))\n",
        "generator"
      ]
    },
    {
      "cell_type": "code",
      "execution_count": 18,
      "metadata": {
        "colab": {},
        "colab_type": "code",
        "id": "66rYUvt-iTJ9",
        "tags": []
      },
      "outputs": [
        {
          "name": "stdout",
          "output_type": "stream",
          "text": [
            "0\n",
            "1\n",
            "2\n",
            "3\n",
            "4\n",
            "5\n",
            "6\n",
            "7\n",
            "8\n",
            "9\n"
          ]
        }
      ],
      "source": [
        "for a in generator:\n",
        "    print(a)"
      ]
    },
    {
      "cell_type": "code",
      "execution_count": 19,
      "metadata": {
        "colab": {},
        "colab_type": "code",
        "id": "JnmK2WkziTKF"
      },
      "outputs": [
        {
          "data": {
            "text/plain": [
              "[]"
            ]
          },
          "execution_count": 19,
          "metadata": {},
          "output_type": "execute_result"
        }
      ],
      "source": [
        "list(generator)"
      ]
    },
    {
      "cell_type": "markdown",
      "metadata": {
        "colab_type": "text",
        "id": "e4CrX35bkGHV"
      },
      "source": [
        "Usando Yield obtenemos un resultado similar a usar \"return\", excepto que se guardará el estado de la misma para ser usada como un generador"
      ]
    },
    {
      "cell_type": "code",
      "execution_count": 20,
      "metadata": {
        "colab": {},
        "colab_type": "code",
        "id": "UXeF_1aoiTKL"
      },
      "outputs": [],
      "source": [
        "def gen():\n",
        "    for a in range(10):\n",
        "        yield a"
      ]
    },
    {
      "cell_type": "code",
      "execution_count": 21,
      "metadata": {
        "colab": {},
        "colab_type": "code",
        "id": "f3f35gKWiTKU"
      },
      "outputs": [],
      "source": [
        "generator = gen()"
      ]
    },
    {
      "cell_type": "code",
      "execution_count": 22,
      "metadata": {
        "colab": {},
        "colab_type": "code",
        "id": "NacV31VJiTKa"
      },
      "outputs": [
        {
          "data": {
            "text/plain": [
              "function"
            ]
          },
          "execution_count": 22,
          "metadata": {},
          "output_type": "execute_result"
        }
      ],
      "source": [
        "type(gen)"
      ]
    },
    {
      "cell_type": "code",
      "execution_count": 23,
      "metadata": {
        "colab": {},
        "colab_type": "code",
        "id": "3mtZ7RKRiTKn"
      },
      "outputs": [
        {
          "data": {
            "text/plain": [
              "generator"
            ]
          },
          "execution_count": 23,
          "metadata": {},
          "output_type": "execute_result"
        }
      ],
      "source": [
        "type(generator)"
      ]
    },
    {
      "cell_type": "code",
      "execution_count": 24,
      "metadata": {
        "colab": {},
        "colab_type": "code",
        "id": "xzWowDX3iTKx",
        "tags": []
      },
      "outputs": [
        {
          "name": "stdout",
          "output_type": "stream",
          "text": [
            "0\n",
            "1\n",
            "2\n",
            "3\n",
            "4\n",
            "5\n",
            "6\n",
            "7\n",
            "8\n",
            "9\n"
          ]
        }
      ],
      "source": [
        "for a in generator:\n",
        "    print(a)"
      ]
    },
    {
      "cell_type": "code",
      "execution_count": 25,
      "metadata": {
        "colab": {},
        "colab_type": "code",
        "id": "fDOlFv5qkpdA"
      },
      "outputs": [],
      "source": [
        "generator = gen()"
      ]
    },
    {
      "cell_type": "code",
      "execution_count": 26,
      "metadata": {
        "colab": {},
        "colab_type": "code",
        "id": "cTZ_z-54iTK5"
      },
      "outputs": [
        {
          "data": {
            "text/plain": [
              "0"
            ]
          },
          "execution_count": 26,
          "metadata": {},
          "output_type": "execute_result"
        }
      ],
      "source": [
        "next(generator)"
      ]
    },
    {
      "cell_type": "code",
      "execution_count": 27,
      "metadata": {
        "colab": {},
        "colab_type": "code",
        "id": "0JIlSilgiTLB"
      },
      "outputs": [],
      "source": [
        "from time import time\n",
        "def gen():\n",
        "    while True:\n",
        "        yield time()"
      ]
    },
    {
      "cell_type": "code",
      "execution_count": 28,
      "metadata": {
        "colab": {},
        "colab_type": "code",
        "id": "mM-OhKZFiTLL",
        "tags": []
      },
      "outputs": [
        {
          "name": "stdout",
          "output_type": "stream",
          "text": [
            "1717099134.3213131\n",
            "1717099134.3213468\n",
            "1717099134.3213527\n",
            "1717099134.3213573\n",
            "1717099134.3213625\n",
            "1717099134.3213668\n",
            "1717099134.321371\n",
            "1717099134.3213754\n",
            "1717099134.3213801\n",
            "1717099134.3213842\n",
            "1717099134.3213882\n",
            "1717099134.321393\n"
          ]
        }
      ],
      "source": [
        "for i, t in enumerate(gen()):\n",
        "    print(t)\n",
        "    if i > 10:\n",
        "        break"
      ]
    }
  ],
  "metadata": {
    "colab": {
      "name": "02_intro_python3.ipynb",
      "provenance": []
    },
    "kernelspec": {
      "display_name": "Python 3",
      "language": "python",
      "name": "python3"
    },
    "language_info": {
      "codemirror_mode": {
        "name": "ipython",
        "version": 3
      },
      "file_extension": ".py",
      "mimetype": "text/x-python",
      "name": "python",
      "nbconvert_exporter": "python",
      "pygments_lexer": "ipython3",
      "version": "3.11.6"
    }
  },
  "nbformat": 4,
  "nbformat_minor": 0
}
