{
 "cells": [
  {
   "cell_type": "code",
   "execution_count": 28,
   "metadata": {},
   "outputs": [],
   "source": [
    "import numpy as np \n",
    "import pandas as pd \n",
    "import lightgbm as lgb\n",
    "\n",
    "from sklearn.model_selection import train_test_split, StratifiedKFold\n",
    "from sklearn.metrics import cohen_kappa_score, accuracy_score,balanced_accuracy_score\n",
    "from sklearn.utils import shuffle\n",
    "\n",
    "from plotly import express as px\n",
    "\n",
    "from utils import plot_confusion_matrix\n",
    "\n",
    "import os\n",
    "\n",
    "import optuna\n",
    "from optuna.artifacts import FileSystemArtifactStore, upload_artifact\n",
    "\n",
    "from joblib import load, dump\n"
   ]
  },
  {
   "cell_type": "code",
   "execution_count": 29,
   "metadata": {},
   "outputs": [],
   "source": [
    "# Paths\n",
    "BASE_DIR = '../..'\n",
    "PATH_TO_TRAIN = os.path.join(BASE_DIR, \"input/petfinder-adoption-prediction/train/train.csv\")\n",
    "PATH_TO_MODELS = os.path.join(BASE_DIR, \"UA_MDM_LDI_II/work/models\")\n",
    "PATH_TO_TEMP_FILES = os.path.join(BASE_DIR, \"UA_MDM_LDI_II/work/optuna_temp_artifacts\")\n",
    "PATH_TO_OPTUNA_ARTIFACTS = os.path.join(BASE_DIR, \"UA_MDM_LDI_II/work/optuna_artifacts\")\n",
    "\n",
    "\n",
    "SEED = 42\n",
    "BATCH_SIZE = 50\n",
    "TEST_SIZE = 0.2"
   ]
  },
  {
   "cell_type": "code",
   "execution_count": 30,
   "metadata": {},
   "outputs": [],
   "source": [
    "# Datos Tabulares\n",
    "dataset = pd.read_csv(PATH_TO_TRAIN)"
   ]
  },
  {
   "cell_type": "code",
   "execution_count": 31,
   "metadata": {},
   "outputs": [
    {
     "data": {
      "text/plain": [
       "Index(['Type', 'Name', 'Age', 'Breed1', 'Breed2', 'Gender', 'Color1', 'Color2',\n",
       "       'Color3', 'MaturitySize', 'FurLength', 'Vaccinated', 'Dewormed',\n",
       "       'Sterilized', 'Health', 'Quantity', 'Fee', 'State', 'RescuerID',\n",
       "       'VideoAmt', 'Description', 'PetID', 'PhotoAmt', 'AdoptionSpeed'],\n",
       "      dtype='object')"
      ]
     },
     "execution_count": 31,
     "metadata": {},
     "output_type": "execute_result"
    }
   ],
   "source": [
    "dataset.columns"
   ]
  },
  {
   "cell_type": "code",
   "execution_count": 32,
   "metadata": {},
   "outputs": [],
   "source": [
    "train, test = train_test_split(dataset,\n",
    "                               test_size = TEST_SIZE,\n",
    "                               random_state = SEED,\n",
    "                               stratify = dataset.AdoptionSpeed)"
   ]
  },
  {
   "cell_type": "code",
   "execution_count": 6,
   "metadata": {},
   "outputs": [],
   "source": [
    "char_feats = [f for f in dataset.columns if dataset[f].dtype=='O']\n",
    "numeric_feats = [f for f in dataset.columns if dataset[f].dtype!='O']"
   ]
  },
  {
   "cell_type": "code",
   "execution_count": 33,
   "metadata": {},
   "outputs": [],
   "source": [
    "features = ['Type',\n",
    " 'Age',\n",
    " 'Breed1',\n",
    " 'Breed2',\n",
    " 'Gender',\n",
    " 'Color1',\n",
    " 'Color2',\n",
    " 'Color3',\n",
    " 'MaturitySize',\n",
    " 'FurLength',\n",
    " 'Vaccinated',\n",
    " 'Dewormed',\n",
    " 'Sterilized',\n",
    " 'Health',\n",
    " 'Quantity',\n",
    " 'Fee',\n",
    " 'State',\n",
    " 'VideoAmt',\n",
    " 'PhotoAmt']\n",
    "\n",
    "label = 'AdoptionSpeed'"
   ]
  },
  {
   "cell_type": "code",
   "execution_count": 8,
   "metadata": {},
   "outputs": [],
   "source": [
    "X_train = train[features]\n",
    "y_train = train[label]\n",
    "\n",
    "X_test = test[features]\n",
    "y_test = test[label]"
   ]
  },
  {
   "cell_type": "code",
   "execution_count": 9,
   "metadata": {},
   "outputs": [
    {
     "data": {
      "text/plain": [
       "array([2, 3, 4, 1, 0])"
      ]
     },
     "execution_count": 9,
     "metadata": {},
     "output_type": "execute_result"
    }
   ],
   "source": [
    "y_train.unique()"
   ]
  },
  {
   "cell_type": "code",
   "execution_count": 10,
   "metadata": {},
   "outputs": [
    {
     "name": "stdout",
     "output_type": "stream",
     "text": [
      "[LightGBM] [Info] Auto-choosing row-wise multi-threading, the overhead of testing was 0.001117 seconds.\n",
      "You can set `force_row_wise=true` to remove the overhead.\n",
      "And if memory is not enough, you can set `force_col_wise=true`.\n",
      "[LightGBM] [Info] Total Bins 438\n",
      "[LightGBM] [Info] Number of data points in the train set: 11994, number of used features: 19\n",
      "[LightGBM] [Info] Start training from score -3.599148\n",
      "[LightGBM] [Info] Start training from score -1.579379\n",
      "[LightGBM] [Info] Start training from score -1.311924\n",
      "[LightGBM] [Info] Start training from score -1.526206\n",
      "[LightGBM] [Info] Start training from score -1.273359\n"
     ]
    }
   ],
   "source": [
    "lgb_params = params = {\n",
    "                        'objective': 'multiclass',\n",
    "                        'num_class': len(y_train.unique())\n",
    "                        }\n",
    "\n",
    "\n",
    "lgb_train_dataset = lgb.Dataset(data=X_train,\n",
    "                                label=y_train)\n",
    "\n",
    "\n",
    "lgb_model = lgb.train(lgb_params,\n",
    "                      lgb_train_dataset)"
   ]
  },
  {
   "cell_type": "code",
   "execution_count": 11,
   "metadata": {},
   "outputs": [
    {
     "data": {
      "text/plain": [
       "0.31327315052086113"
      ]
     },
     "execution_count": 11,
     "metadata": {},
     "output_type": "execute_result"
    }
   ],
   "source": [
    "y_pred = lgb_model.predict(X_test).argmax(axis=1)\n",
    "\n",
    "cohen_kappa_score(y_test,y_pred, weights = 'quadratic')"
   ]
  },
  {
   "cell_type": "code",
   "execution_count": 12,
   "metadata": {},
   "outputs": [
    {
     "data": {
      "application/vnd.plotly.v1+json": {
       "config": {
        "plotlyServerURL": "https://plot.ly"
       },
       "data": [
        {
         "type": "heatmap",
         "x": [
          0,
          1,
          2,
          3,
          4
         ],
         "y": [
          0,
          1,
          2,
          3,
          4
         ],
         "z": [
          [
           6.097560975609756,
           39.02439024390244,
           26.82926829268293,
           10.975609756097562,
           17.073170731707318
          ],
          [
           0.3236245954692557,
           35.11326860841424,
           36.084142394822,
           7.605177993527508,
           20.87378640776699
          ],
          [
           0,
           24.411400247831473,
           36.926889714993806,
           11.400247831474598,
           27.261462205700127
          ],
          [
           0,
           17.94478527607362,
           34.20245398773007,
           18.55828220858896,
           29.29447852760736
          ],
          [
           0.4761904761904762,
           11.666666666666666,
           21.071428571428573,
           7.261904761904763,
           59.523809523809526
          ]
         ]
        }
       ],
       "layout": {
        "annotations": [
         {
          "font": {
           "color": "white"
          },
          "showarrow": false,
          "text": "6.1 - 5",
          "x": 0,
          "xref": "x",
          "y": 0,
          "yref": "y"
         },
         {
          "font": {
           "color": "white"
          },
          "showarrow": false,
          "text": "39.0 - 32",
          "x": 1,
          "xref": "x",
          "y": 0,
          "yref": "y"
         },
         {
          "font": {
           "color": "white"
          },
          "showarrow": false,
          "text": "26.8 - 22",
          "x": 2,
          "xref": "x",
          "y": 0,
          "yref": "y"
         },
         {
          "font": {
           "color": "white"
          },
          "showarrow": false,
          "text": "11.0 - 9",
          "x": 3,
          "xref": "x",
          "y": 0,
          "yref": "y"
         },
         {
          "font": {
           "color": "white"
          },
          "showarrow": false,
          "text": "17.1 - 14",
          "x": 4,
          "xref": "x",
          "y": 0,
          "yref": "y"
         },
         {
          "font": {
           "color": "white"
          },
          "showarrow": false,
          "text": "0.3 - 2",
          "x": 0,
          "xref": "x",
          "y": 1,
          "yref": "y"
         },
         {
          "font": {
           "color": "white"
          },
          "showarrow": false,
          "text": "35.1 - 217",
          "x": 1,
          "xref": "x",
          "y": 1,
          "yref": "y"
         },
         {
          "font": {
           "color": "white"
          },
          "showarrow": false,
          "text": "36.1 - 223",
          "x": 2,
          "xref": "x",
          "y": 1,
          "yref": "y"
         },
         {
          "font": {
           "color": "white"
          },
          "showarrow": false,
          "text": "7.6 - 47",
          "x": 3,
          "xref": "x",
          "y": 1,
          "yref": "y"
         },
         {
          "font": {
           "color": "white"
          },
          "showarrow": false,
          "text": "20.9 - 129",
          "x": 4,
          "xref": "x",
          "y": 1,
          "yref": "y"
         },
         {
          "font": {
           "color": "white"
          },
          "showarrow": false,
          "text": "0.0 - 0",
          "x": 0,
          "xref": "x",
          "y": 2,
          "yref": "y"
         },
         {
          "font": {
           "color": "white"
          },
          "showarrow": false,
          "text": "24.4 - 197",
          "x": 1,
          "xref": "x",
          "y": 2,
          "yref": "y"
         },
         {
          "font": {
           "color": "white"
          },
          "showarrow": false,
          "text": "36.9 - 298",
          "x": 2,
          "xref": "x",
          "y": 2,
          "yref": "y"
         },
         {
          "font": {
           "color": "white"
          },
          "showarrow": false,
          "text": "11.4 - 92",
          "x": 3,
          "xref": "x",
          "y": 2,
          "yref": "y"
         },
         {
          "font": {
           "color": "white"
          },
          "showarrow": false,
          "text": "27.3 - 220",
          "x": 4,
          "xref": "x",
          "y": 2,
          "yref": "y"
         },
         {
          "font": {
           "color": "white"
          },
          "showarrow": false,
          "text": "0.0 - 0",
          "x": 0,
          "xref": "x",
          "y": 3,
          "yref": "y"
         },
         {
          "font": {
           "color": "white"
          },
          "showarrow": false,
          "text": "17.9 - 117",
          "x": 1,
          "xref": "x",
          "y": 3,
          "yref": "y"
         },
         {
          "font": {
           "color": "white"
          },
          "showarrow": false,
          "text": "34.2 - 223",
          "x": 2,
          "xref": "x",
          "y": 3,
          "yref": "y"
         },
         {
          "font": {
           "color": "white"
          },
          "showarrow": false,
          "text": "18.6 - 121",
          "x": 3,
          "xref": "x",
          "y": 3,
          "yref": "y"
         },
         {
          "font": {
           "color": "white"
          },
          "showarrow": false,
          "text": "29.3 - 191",
          "x": 4,
          "xref": "x",
          "y": 3,
          "yref": "y"
         },
         {
          "font": {
           "color": "white"
          },
          "showarrow": false,
          "text": "0.5 - 4",
          "x": 0,
          "xref": "x",
          "y": 4,
          "yref": "y"
         },
         {
          "font": {
           "color": "white"
          },
          "showarrow": false,
          "text": "11.7 - 98",
          "x": 1,
          "xref": "x",
          "y": 4,
          "yref": "y"
         },
         {
          "font": {
           "color": "white"
          },
          "showarrow": false,
          "text": "21.1 - 177",
          "x": 2,
          "xref": "x",
          "y": 4,
          "yref": "y"
         },
         {
          "font": {
           "color": "white"
          },
          "showarrow": false,
          "text": "7.3 - 61",
          "x": 3,
          "xref": "x",
          "y": 4,
          "yref": "y"
         },
         {
          "font": {
           "color": "white"
          },
          "showarrow": false,
          "text": "59.5 - 500",
          "x": 4,
          "xref": "x",
          "y": 4,
          "yref": "y"
         }
        ],
        "height": 800,
        "template": {
         "data": {
          "bar": [
           {
            "error_x": {
             "color": "#2a3f5f"
            },
            "error_y": {
             "color": "#2a3f5f"
            },
            "marker": {
             "line": {
              "color": "#E5ECF6",
              "width": 0.5
             },
             "pattern": {
              "fillmode": "overlay",
              "size": 10,
              "solidity": 0.2
             }
            },
            "type": "bar"
           }
          ],
          "barpolar": [
           {
            "marker": {
             "line": {
              "color": "#E5ECF6",
              "width": 0.5
             },
             "pattern": {
              "fillmode": "overlay",
              "size": 10,
              "solidity": 0.2
             }
            },
            "type": "barpolar"
           }
          ],
          "carpet": [
           {
            "aaxis": {
             "endlinecolor": "#2a3f5f",
             "gridcolor": "white",
             "linecolor": "white",
             "minorgridcolor": "white",
             "startlinecolor": "#2a3f5f"
            },
            "baxis": {
             "endlinecolor": "#2a3f5f",
             "gridcolor": "white",
             "linecolor": "white",
             "minorgridcolor": "white",
             "startlinecolor": "#2a3f5f"
            },
            "type": "carpet"
           }
          ],
          "choropleth": [
           {
            "colorbar": {
             "outlinewidth": 0,
             "ticks": ""
            },
            "type": "choropleth"
           }
          ],
          "contour": [
           {
            "colorbar": {
             "outlinewidth": 0,
             "ticks": ""
            },
            "colorscale": [
             [
              0,
              "#0d0887"
             ],
             [
              0.1111111111111111,
              "#46039f"
             ],
             [
              0.2222222222222222,
              "#7201a8"
             ],
             [
              0.3333333333333333,
              "#9c179e"
             ],
             [
              0.4444444444444444,
              "#bd3786"
             ],
             [
              0.5555555555555556,
              "#d8576b"
             ],
             [
              0.6666666666666666,
              "#ed7953"
             ],
             [
              0.7777777777777778,
              "#fb9f3a"
             ],
             [
              0.8888888888888888,
              "#fdca26"
             ],
             [
              1,
              "#f0f921"
             ]
            ],
            "type": "contour"
           }
          ],
          "contourcarpet": [
           {
            "colorbar": {
             "outlinewidth": 0,
             "ticks": ""
            },
            "type": "contourcarpet"
           }
          ],
          "heatmap": [
           {
            "colorbar": {
             "outlinewidth": 0,
             "ticks": ""
            },
            "colorscale": [
             [
              0,
              "#0d0887"
             ],
             [
              0.1111111111111111,
              "#46039f"
             ],
             [
              0.2222222222222222,
              "#7201a8"
             ],
             [
              0.3333333333333333,
              "#9c179e"
             ],
             [
              0.4444444444444444,
              "#bd3786"
             ],
             [
              0.5555555555555556,
              "#d8576b"
             ],
             [
              0.6666666666666666,
              "#ed7953"
             ],
             [
              0.7777777777777778,
              "#fb9f3a"
             ],
             [
              0.8888888888888888,
              "#fdca26"
             ],
             [
              1,
              "#f0f921"
             ]
            ],
            "type": "heatmap"
           }
          ],
          "heatmapgl": [
           {
            "colorbar": {
             "outlinewidth": 0,
             "ticks": ""
            },
            "colorscale": [
             [
              0,
              "#0d0887"
             ],
             [
              0.1111111111111111,
              "#46039f"
             ],
             [
              0.2222222222222222,
              "#7201a8"
             ],
             [
              0.3333333333333333,
              "#9c179e"
             ],
             [
              0.4444444444444444,
              "#bd3786"
             ],
             [
              0.5555555555555556,
              "#d8576b"
             ],
             [
              0.6666666666666666,
              "#ed7953"
             ],
             [
              0.7777777777777778,
              "#fb9f3a"
             ],
             [
              0.8888888888888888,
              "#fdca26"
             ],
             [
              1,
              "#f0f921"
             ]
            ],
            "type": "heatmapgl"
           }
          ],
          "histogram": [
           {
            "marker": {
             "pattern": {
              "fillmode": "overlay",
              "size": 10,
              "solidity": 0.2
             }
            },
            "type": "histogram"
           }
          ],
          "histogram2d": [
           {
            "colorbar": {
             "outlinewidth": 0,
             "ticks": ""
            },
            "colorscale": [
             [
              0,
              "#0d0887"
             ],
             [
              0.1111111111111111,
              "#46039f"
             ],
             [
              0.2222222222222222,
              "#7201a8"
             ],
             [
              0.3333333333333333,
              "#9c179e"
             ],
             [
              0.4444444444444444,
              "#bd3786"
             ],
             [
              0.5555555555555556,
              "#d8576b"
             ],
             [
              0.6666666666666666,
              "#ed7953"
             ],
             [
              0.7777777777777778,
              "#fb9f3a"
             ],
             [
              0.8888888888888888,
              "#fdca26"
             ],
             [
              1,
              "#f0f921"
             ]
            ],
            "type": "histogram2d"
           }
          ],
          "histogram2dcontour": [
           {
            "colorbar": {
             "outlinewidth": 0,
             "ticks": ""
            },
            "colorscale": [
             [
              0,
              "#0d0887"
             ],
             [
              0.1111111111111111,
              "#46039f"
             ],
             [
              0.2222222222222222,
              "#7201a8"
             ],
             [
              0.3333333333333333,
              "#9c179e"
             ],
             [
              0.4444444444444444,
              "#bd3786"
             ],
             [
              0.5555555555555556,
              "#d8576b"
             ],
             [
              0.6666666666666666,
              "#ed7953"
             ],
             [
              0.7777777777777778,
              "#fb9f3a"
             ],
             [
              0.8888888888888888,
              "#fdca26"
             ],
             [
              1,
              "#f0f921"
             ]
            ],
            "type": "histogram2dcontour"
           }
          ],
          "mesh3d": [
           {
            "colorbar": {
             "outlinewidth": 0,
             "ticks": ""
            },
            "type": "mesh3d"
           }
          ],
          "parcoords": [
           {
            "line": {
             "colorbar": {
              "outlinewidth": 0,
              "ticks": ""
             }
            },
            "type": "parcoords"
           }
          ],
          "pie": [
           {
            "automargin": true,
            "type": "pie"
           }
          ],
          "scatter": [
           {
            "fillpattern": {
             "fillmode": "overlay",
             "size": 10,
             "solidity": 0.2
            },
            "type": "scatter"
           }
          ],
          "scatter3d": [
           {
            "line": {
             "colorbar": {
              "outlinewidth": 0,
              "ticks": ""
             }
            },
            "marker": {
             "colorbar": {
              "outlinewidth": 0,
              "ticks": ""
             }
            },
            "type": "scatter3d"
           }
          ],
          "scattercarpet": [
           {
            "marker": {
             "colorbar": {
              "outlinewidth": 0,
              "ticks": ""
             }
            },
            "type": "scattercarpet"
           }
          ],
          "scattergeo": [
           {
            "marker": {
             "colorbar": {
              "outlinewidth": 0,
              "ticks": ""
             }
            },
            "type": "scattergeo"
           }
          ],
          "scattergl": [
           {
            "marker": {
             "colorbar": {
              "outlinewidth": 0,
              "ticks": ""
             }
            },
            "type": "scattergl"
           }
          ],
          "scattermapbox": [
           {
            "marker": {
             "colorbar": {
              "outlinewidth": 0,
              "ticks": ""
             }
            },
            "type": "scattermapbox"
           }
          ],
          "scatterpolar": [
           {
            "marker": {
             "colorbar": {
              "outlinewidth": 0,
              "ticks": ""
             }
            },
            "type": "scatterpolar"
           }
          ],
          "scatterpolargl": [
           {
            "marker": {
             "colorbar": {
              "outlinewidth": 0,
              "ticks": ""
             }
            },
            "type": "scatterpolargl"
           }
          ],
          "scatterternary": [
           {
            "marker": {
             "colorbar": {
              "outlinewidth": 0,
              "ticks": ""
             }
            },
            "type": "scatterternary"
           }
          ],
          "surface": [
           {
            "colorbar": {
             "outlinewidth": 0,
             "ticks": ""
            },
            "colorscale": [
             [
              0,
              "#0d0887"
             ],
             [
              0.1111111111111111,
              "#46039f"
             ],
             [
              0.2222222222222222,
              "#7201a8"
             ],
             [
              0.3333333333333333,
              "#9c179e"
             ],
             [
              0.4444444444444444,
              "#bd3786"
             ],
             [
              0.5555555555555556,
              "#d8576b"
             ],
             [
              0.6666666666666666,
              "#ed7953"
             ],
             [
              0.7777777777777778,
              "#fb9f3a"
             ],
             [
              0.8888888888888888,
              "#fdca26"
             ],
             [
              1,
              "#f0f921"
             ]
            ],
            "type": "surface"
           }
          ],
          "table": [
           {
            "cells": {
             "fill": {
              "color": "#EBF0F8"
             },
             "line": {
              "color": "white"
             }
            },
            "header": {
             "fill": {
              "color": "#C8D4E3"
             },
             "line": {
              "color": "white"
             }
            },
            "type": "table"
           }
          ]
         },
         "layout": {
          "annotationdefaults": {
           "arrowcolor": "#2a3f5f",
           "arrowhead": 0,
           "arrowwidth": 1
          },
          "autotypenumbers": "strict",
          "coloraxis": {
           "colorbar": {
            "outlinewidth": 0,
            "ticks": ""
           }
          },
          "colorscale": {
           "diverging": [
            [
             0,
             "#8e0152"
            ],
            [
             0.1,
             "#c51b7d"
            ],
            [
             0.2,
             "#de77ae"
            ],
            [
             0.3,
             "#f1b6da"
            ],
            [
             0.4,
             "#fde0ef"
            ],
            [
             0.5,
             "#f7f7f7"
            ],
            [
             0.6,
             "#e6f5d0"
            ],
            [
             0.7,
             "#b8e186"
            ],
            [
             0.8,
             "#7fbc41"
            ],
            [
             0.9,
             "#4d9221"
            ],
            [
             1,
             "#276419"
            ]
           ],
           "sequential": [
            [
             0,
             "#0d0887"
            ],
            [
             0.1111111111111111,
             "#46039f"
            ],
            [
             0.2222222222222222,
             "#7201a8"
            ],
            [
             0.3333333333333333,
             "#9c179e"
            ],
            [
             0.4444444444444444,
             "#bd3786"
            ],
            [
             0.5555555555555556,
             "#d8576b"
            ],
            [
             0.6666666666666666,
             "#ed7953"
            ],
            [
             0.7777777777777778,
             "#fb9f3a"
            ],
            [
             0.8888888888888888,
             "#fdca26"
            ],
            [
             1,
             "#f0f921"
            ]
           ],
           "sequentialminus": [
            [
             0,
             "#0d0887"
            ],
            [
             0.1111111111111111,
             "#46039f"
            ],
            [
             0.2222222222222222,
             "#7201a8"
            ],
            [
             0.3333333333333333,
             "#9c179e"
            ],
            [
             0.4444444444444444,
             "#bd3786"
            ],
            [
             0.5555555555555556,
             "#d8576b"
            ],
            [
             0.6666666666666666,
             "#ed7953"
            ],
            [
             0.7777777777777778,
             "#fb9f3a"
            ],
            [
             0.8888888888888888,
             "#fdca26"
            ],
            [
             1,
             "#f0f921"
            ]
           ]
          },
          "colorway": [
           "#636efa",
           "#EF553B",
           "#00cc96",
           "#ab63fa",
           "#FFA15A",
           "#19d3f3",
           "#FF6692",
           "#B6E880",
           "#FF97FF",
           "#FECB52"
          ],
          "font": {
           "color": "#2a3f5f"
          },
          "geo": {
           "bgcolor": "white",
           "lakecolor": "white",
           "landcolor": "#E5ECF6",
           "showlakes": true,
           "showland": true,
           "subunitcolor": "white"
          },
          "hoverlabel": {
           "align": "left"
          },
          "hovermode": "closest",
          "mapbox": {
           "style": "light"
          },
          "paper_bgcolor": "white",
          "plot_bgcolor": "#E5ECF6",
          "polar": {
           "angularaxis": {
            "gridcolor": "white",
            "linecolor": "white",
            "ticks": ""
           },
           "bgcolor": "#E5ECF6",
           "radialaxis": {
            "gridcolor": "white",
            "linecolor": "white",
            "ticks": ""
           }
          },
          "scene": {
           "xaxis": {
            "backgroundcolor": "#E5ECF6",
            "gridcolor": "white",
            "gridwidth": 2,
            "linecolor": "white",
            "showbackground": true,
            "ticks": "",
            "zerolinecolor": "white"
           },
           "yaxis": {
            "backgroundcolor": "#E5ECF6",
            "gridcolor": "white",
            "gridwidth": 2,
            "linecolor": "white",
            "showbackground": true,
            "ticks": "",
            "zerolinecolor": "white"
           },
           "zaxis": {
            "backgroundcolor": "#E5ECF6",
            "gridcolor": "white",
            "gridwidth": 2,
            "linecolor": "white",
            "showbackground": true,
            "ticks": "",
            "zerolinecolor": "white"
           }
          },
          "shapedefaults": {
           "line": {
            "color": "#2a3f5f"
           }
          },
          "ternary": {
           "aaxis": {
            "gridcolor": "white",
            "linecolor": "white",
            "ticks": ""
           },
           "baxis": {
            "gridcolor": "white",
            "linecolor": "white",
            "ticks": ""
           },
           "bgcolor": "#E5ECF6",
           "caxis": {
            "gridcolor": "white",
            "linecolor": "white",
            "ticks": ""
           }
          },
          "title": {
           "x": 0.05
          },
          "xaxis": {
           "automargin": true,
           "gridcolor": "white",
           "linecolor": "white",
           "ticks": "",
           "title": {
            "standoff": 15
           },
           "zerolinecolor": "white",
           "zerolinewidth": 2
          },
          "yaxis": {
           "automargin": true,
           "gridcolor": "white",
           "linecolor": "white",
           "ticks": "",
           "title": {
            "standoff": 15
           },
           "zerolinecolor": "white",
           "zerolinewidth": 2
          }
         }
        },
        "title": {
         "text": "Conf Matrix"
        },
        "width": 800,
        "xaxis": {
         "title": {
          "text": "Predicted value"
         }
        },
        "yaxis": {
         "title": {
          "text": "Real value"
         }
        }
       }
      }
     },
     "metadata": {},
     "output_type": "display_data"
    }
   ],
   "source": [
    "display(plot_confusion_matrix(y_test,y_pred))"
   ]
  },
  {
   "cell_type": "code",
   "execution_count": 13,
   "metadata": {},
   "outputs": [
    {
     "data": {
      "text/plain": [
       "1.0"
      ]
     },
     "execution_count": 13,
     "metadata": {},
     "output_type": "execute_result"
    }
   ],
   "source": [
    "cohen_kappa_score(y_test,y_test, weights = 'quadratic')"
   ]
  },
  {
   "cell_type": "code",
   "execution_count": 14,
   "metadata": {},
   "outputs": [
    {
     "data": {
      "application/vnd.plotly.v1+json": {
       "config": {
        "plotlyServerURL": "https://plot.ly"
       },
       "data": [
        {
         "type": "heatmap",
         "x": [
          0,
          1,
          2,
          3,
          4
         ],
         "y": [
          0,
          1,
          2,
          3,
          4
         ],
         "z": [
          [
           100,
           0,
           0,
           0,
           0
          ],
          [
           0,
           100,
           0,
           0,
           0
          ],
          [
           0,
           0,
           100,
           0,
           0
          ],
          [
           0,
           0,
           0,
           100,
           0
          ],
          [
           0,
           0,
           0,
           0,
           100
          ]
         ]
        }
       ],
       "layout": {
        "annotations": [
         {
          "font": {
           "color": "white"
          },
          "showarrow": false,
          "text": "100.0 - 82",
          "x": 0,
          "xref": "x",
          "y": 0,
          "yref": "y"
         },
         {
          "font": {
           "color": "white"
          },
          "showarrow": false,
          "text": "0.0 - 0",
          "x": 1,
          "xref": "x",
          "y": 0,
          "yref": "y"
         },
         {
          "font": {
           "color": "white"
          },
          "showarrow": false,
          "text": "0.0 - 0",
          "x": 2,
          "xref": "x",
          "y": 0,
          "yref": "y"
         },
         {
          "font": {
           "color": "white"
          },
          "showarrow": false,
          "text": "0.0 - 0",
          "x": 3,
          "xref": "x",
          "y": 0,
          "yref": "y"
         },
         {
          "font": {
           "color": "white"
          },
          "showarrow": false,
          "text": "0.0 - 0",
          "x": 4,
          "xref": "x",
          "y": 0,
          "yref": "y"
         },
         {
          "font": {
           "color": "white"
          },
          "showarrow": false,
          "text": "0.0 - 0",
          "x": 0,
          "xref": "x",
          "y": 1,
          "yref": "y"
         },
         {
          "font": {
           "color": "white"
          },
          "showarrow": false,
          "text": "100.0 - 618",
          "x": 1,
          "xref": "x",
          "y": 1,
          "yref": "y"
         },
         {
          "font": {
           "color": "white"
          },
          "showarrow": false,
          "text": "0.0 - 0",
          "x": 2,
          "xref": "x",
          "y": 1,
          "yref": "y"
         },
         {
          "font": {
           "color": "white"
          },
          "showarrow": false,
          "text": "0.0 - 0",
          "x": 3,
          "xref": "x",
          "y": 1,
          "yref": "y"
         },
         {
          "font": {
           "color": "white"
          },
          "showarrow": false,
          "text": "0.0 - 0",
          "x": 4,
          "xref": "x",
          "y": 1,
          "yref": "y"
         },
         {
          "font": {
           "color": "white"
          },
          "showarrow": false,
          "text": "0.0 - 0",
          "x": 0,
          "xref": "x",
          "y": 2,
          "yref": "y"
         },
         {
          "font": {
           "color": "white"
          },
          "showarrow": false,
          "text": "0.0 - 0",
          "x": 1,
          "xref": "x",
          "y": 2,
          "yref": "y"
         },
         {
          "font": {
           "color": "white"
          },
          "showarrow": false,
          "text": "100.0 - 807",
          "x": 2,
          "xref": "x",
          "y": 2,
          "yref": "y"
         },
         {
          "font": {
           "color": "white"
          },
          "showarrow": false,
          "text": "0.0 - 0",
          "x": 3,
          "xref": "x",
          "y": 2,
          "yref": "y"
         },
         {
          "font": {
           "color": "white"
          },
          "showarrow": false,
          "text": "0.0 - 0",
          "x": 4,
          "xref": "x",
          "y": 2,
          "yref": "y"
         },
         {
          "font": {
           "color": "white"
          },
          "showarrow": false,
          "text": "0.0 - 0",
          "x": 0,
          "xref": "x",
          "y": 3,
          "yref": "y"
         },
         {
          "font": {
           "color": "white"
          },
          "showarrow": false,
          "text": "0.0 - 0",
          "x": 1,
          "xref": "x",
          "y": 3,
          "yref": "y"
         },
         {
          "font": {
           "color": "white"
          },
          "showarrow": false,
          "text": "0.0 - 0",
          "x": 2,
          "xref": "x",
          "y": 3,
          "yref": "y"
         },
         {
          "font": {
           "color": "white"
          },
          "showarrow": false,
          "text": "100.0 - 652",
          "x": 3,
          "xref": "x",
          "y": 3,
          "yref": "y"
         },
         {
          "font": {
           "color": "white"
          },
          "showarrow": false,
          "text": "0.0 - 0",
          "x": 4,
          "xref": "x",
          "y": 3,
          "yref": "y"
         },
         {
          "font": {
           "color": "white"
          },
          "showarrow": false,
          "text": "0.0 - 0",
          "x": 0,
          "xref": "x",
          "y": 4,
          "yref": "y"
         },
         {
          "font": {
           "color": "white"
          },
          "showarrow": false,
          "text": "0.0 - 0",
          "x": 1,
          "xref": "x",
          "y": 4,
          "yref": "y"
         },
         {
          "font": {
           "color": "white"
          },
          "showarrow": false,
          "text": "0.0 - 0",
          "x": 2,
          "xref": "x",
          "y": 4,
          "yref": "y"
         },
         {
          "font": {
           "color": "white"
          },
          "showarrow": false,
          "text": "0.0 - 0",
          "x": 3,
          "xref": "x",
          "y": 4,
          "yref": "y"
         },
         {
          "font": {
           "color": "white"
          },
          "showarrow": false,
          "text": "100.0 - 840",
          "x": 4,
          "xref": "x",
          "y": 4,
          "yref": "y"
         }
        ],
        "height": 800,
        "template": {
         "data": {
          "bar": [
           {
            "error_x": {
             "color": "#2a3f5f"
            },
            "error_y": {
             "color": "#2a3f5f"
            },
            "marker": {
             "line": {
              "color": "#E5ECF6",
              "width": 0.5
             },
             "pattern": {
              "fillmode": "overlay",
              "size": 10,
              "solidity": 0.2
             }
            },
            "type": "bar"
           }
          ],
          "barpolar": [
           {
            "marker": {
             "line": {
              "color": "#E5ECF6",
              "width": 0.5
             },
             "pattern": {
              "fillmode": "overlay",
              "size": 10,
              "solidity": 0.2
             }
            },
            "type": "barpolar"
           }
          ],
          "carpet": [
           {
            "aaxis": {
             "endlinecolor": "#2a3f5f",
             "gridcolor": "white",
             "linecolor": "white",
             "minorgridcolor": "white",
             "startlinecolor": "#2a3f5f"
            },
            "baxis": {
             "endlinecolor": "#2a3f5f",
             "gridcolor": "white",
             "linecolor": "white",
             "minorgridcolor": "white",
             "startlinecolor": "#2a3f5f"
            },
            "type": "carpet"
           }
          ],
          "choropleth": [
           {
            "colorbar": {
             "outlinewidth": 0,
             "ticks": ""
            },
            "type": "choropleth"
           }
          ],
          "contour": [
           {
            "colorbar": {
             "outlinewidth": 0,
             "ticks": ""
            },
            "colorscale": [
             [
              0,
              "#0d0887"
             ],
             [
              0.1111111111111111,
              "#46039f"
             ],
             [
              0.2222222222222222,
              "#7201a8"
             ],
             [
              0.3333333333333333,
              "#9c179e"
             ],
             [
              0.4444444444444444,
              "#bd3786"
             ],
             [
              0.5555555555555556,
              "#d8576b"
             ],
             [
              0.6666666666666666,
              "#ed7953"
             ],
             [
              0.7777777777777778,
              "#fb9f3a"
             ],
             [
              0.8888888888888888,
              "#fdca26"
             ],
             [
              1,
              "#f0f921"
             ]
            ],
            "type": "contour"
           }
          ],
          "contourcarpet": [
           {
            "colorbar": {
             "outlinewidth": 0,
             "ticks": ""
            },
            "type": "contourcarpet"
           }
          ],
          "heatmap": [
           {
            "colorbar": {
             "outlinewidth": 0,
             "ticks": ""
            },
            "colorscale": [
             [
              0,
              "#0d0887"
             ],
             [
              0.1111111111111111,
              "#46039f"
             ],
             [
              0.2222222222222222,
              "#7201a8"
             ],
             [
              0.3333333333333333,
              "#9c179e"
             ],
             [
              0.4444444444444444,
              "#bd3786"
             ],
             [
              0.5555555555555556,
              "#d8576b"
             ],
             [
              0.6666666666666666,
              "#ed7953"
             ],
             [
              0.7777777777777778,
              "#fb9f3a"
             ],
             [
              0.8888888888888888,
              "#fdca26"
             ],
             [
              1,
              "#f0f921"
             ]
            ],
            "type": "heatmap"
           }
          ],
          "heatmapgl": [
           {
            "colorbar": {
             "outlinewidth": 0,
             "ticks": ""
            },
            "colorscale": [
             [
              0,
              "#0d0887"
             ],
             [
              0.1111111111111111,
              "#46039f"
             ],
             [
              0.2222222222222222,
              "#7201a8"
             ],
             [
              0.3333333333333333,
              "#9c179e"
             ],
             [
              0.4444444444444444,
              "#bd3786"
             ],
             [
              0.5555555555555556,
              "#d8576b"
             ],
             [
              0.6666666666666666,
              "#ed7953"
             ],
             [
              0.7777777777777778,
              "#fb9f3a"
             ],
             [
              0.8888888888888888,
              "#fdca26"
             ],
             [
              1,
              "#f0f921"
             ]
            ],
            "type": "heatmapgl"
           }
          ],
          "histogram": [
           {
            "marker": {
             "pattern": {
              "fillmode": "overlay",
              "size": 10,
              "solidity": 0.2
             }
            },
            "type": "histogram"
           }
          ],
          "histogram2d": [
           {
            "colorbar": {
             "outlinewidth": 0,
             "ticks": ""
            },
            "colorscale": [
             [
              0,
              "#0d0887"
             ],
             [
              0.1111111111111111,
              "#46039f"
             ],
             [
              0.2222222222222222,
              "#7201a8"
             ],
             [
              0.3333333333333333,
              "#9c179e"
             ],
             [
              0.4444444444444444,
              "#bd3786"
             ],
             [
              0.5555555555555556,
              "#d8576b"
             ],
             [
              0.6666666666666666,
              "#ed7953"
             ],
             [
              0.7777777777777778,
              "#fb9f3a"
             ],
             [
              0.8888888888888888,
              "#fdca26"
             ],
             [
              1,
              "#f0f921"
             ]
            ],
            "type": "histogram2d"
           }
          ],
          "histogram2dcontour": [
           {
            "colorbar": {
             "outlinewidth": 0,
             "ticks": ""
            },
            "colorscale": [
             [
              0,
              "#0d0887"
             ],
             [
              0.1111111111111111,
              "#46039f"
             ],
             [
              0.2222222222222222,
              "#7201a8"
             ],
             [
              0.3333333333333333,
              "#9c179e"
             ],
             [
              0.4444444444444444,
              "#bd3786"
             ],
             [
              0.5555555555555556,
              "#d8576b"
             ],
             [
              0.6666666666666666,
              "#ed7953"
             ],
             [
              0.7777777777777778,
              "#fb9f3a"
             ],
             [
              0.8888888888888888,
              "#fdca26"
             ],
             [
              1,
              "#f0f921"
             ]
            ],
            "type": "histogram2dcontour"
           }
          ],
          "mesh3d": [
           {
            "colorbar": {
             "outlinewidth": 0,
             "ticks": ""
            },
            "type": "mesh3d"
           }
          ],
          "parcoords": [
           {
            "line": {
             "colorbar": {
              "outlinewidth": 0,
              "ticks": ""
             }
            },
            "type": "parcoords"
           }
          ],
          "pie": [
           {
            "automargin": true,
            "type": "pie"
           }
          ],
          "scatter": [
           {
            "fillpattern": {
             "fillmode": "overlay",
             "size": 10,
             "solidity": 0.2
            },
            "type": "scatter"
           }
          ],
          "scatter3d": [
           {
            "line": {
             "colorbar": {
              "outlinewidth": 0,
              "ticks": ""
             }
            },
            "marker": {
             "colorbar": {
              "outlinewidth": 0,
              "ticks": ""
             }
            },
            "type": "scatter3d"
           }
          ],
          "scattercarpet": [
           {
            "marker": {
             "colorbar": {
              "outlinewidth": 0,
              "ticks": ""
             }
            },
            "type": "scattercarpet"
           }
          ],
          "scattergeo": [
           {
            "marker": {
             "colorbar": {
              "outlinewidth": 0,
              "ticks": ""
             }
            },
            "type": "scattergeo"
           }
          ],
          "scattergl": [
           {
            "marker": {
             "colorbar": {
              "outlinewidth": 0,
              "ticks": ""
             }
            },
            "type": "scattergl"
           }
          ],
          "scattermapbox": [
           {
            "marker": {
             "colorbar": {
              "outlinewidth": 0,
              "ticks": ""
             }
            },
            "type": "scattermapbox"
           }
          ],
          "scatterpolar": [
           {
            "marker": {
             "colorbar": {
              "outlinewidth": 0,
              "ticks": ""
             }
            },
            "type": "scatterpolar"
           }
          ],
          "scatterpolargl": [
           {
            "marker": {
             "colorbar": {
              "outlinewidth": 0,
              "ticks": ""
             }
            },
            "type": "scatterpolargl"
           }
          ],
          "scatterternary": [
           {
            "marker": {
             "colorbar": {
              "outlinewidth": 0,
              "ticks": ""
             }
            },
            "type": "scatterternary"
           }
          ],
          "surface": [
           {
            "colorbar": {
             "outlinewidth": 0,
             "ticks": ""
            },
            "colorscale": [
             [
              0,
              "#0d0887"
             ],
             [
              0.1111111111111111,
              "#46039f"
             ],
             [
              0.2222222222222222,
              "#7201a8"
             ],
             [
              0.3333333333333333,
              "#9c179e"
             ],
             [
              0.4444444444444444,
              "#bd3786"
             ],
             [
              0.5555555555555556,
              "#d8576b"
             ],
             [
              0.6666666666666666,
              "#ed7953"
             ],
             [
              0.7777777777777778,
              "#fb9f3a"
             ],
             [
              0.8888888888888888,
              "#fdca26"
             ],
             [
              1,
              "#f0f921"
             ]
            ],
            "type": "surface"
           }
          ],
          "table": [
           {
            "cells": {
             "fill": {
              "color": "#EBF0F8"
             },
             "line": {
              "color": "white"
             }
            },
            "header": {
             "fill": {
              "color": "#C8D4E3"
             },
             "line": {
              "color": "white"
             }
            },
            "type": "table"
           }
          ]
         },
         "layout": {
          "annotationdefaults": {
           "arrowcolor": "#2a3f5f",
           "arrowhead": 0,
           "arrowwidth": 1
          },
          "autotypenumbers": "strict",
          "coloraxis": {
           "colorbar": {
            "outlinewidth": 0,
            "ticks": ""
           }
          },
          "colorscale": {
           "diverging": [
            [
             0,
             "#8e0152"
            ],
            [
             0.1,
             "#c51b7d"
            ],
            [
             0.2,
             "#de77ae"
            ],
            [
             0.3,
             "#f1b6da"
            ],
            [
             0.4,
             "#fde0ef"
            ],
            [
             0.5,
             "#f7f7f7"
            ],
            [
             0.6,
             "#e6f5d0"
            ],
            [
             0.7,
             "#b8e186"
            ],
            [
             0.8,
             "#7fbc41"
            ],
            [
             0.9,
             "#4d9221"
            ],
            [
             1,
             "#276419"
            ]
           ],
           "sequential": [
            [
             0,
             "#0d0887"
            ],
            [
             0.1111111111111111,
             "#46039f"
            ],
            [
             0.2222222222222222,
             "#7201a8"
            ],
            [
             0.3333333333333333,
             "#9c179e"
            ],
            [
             0.4444444444444444,
             "#bd3786"
            ],
            [
             0.5555555555555556,
             "#d8576b"
            ],
            [
             0.6666666666666666,
             "#ed7953"
            ],
            [
             0.7777777777777778,
             "#fb9f3a"
            ],
            [
             0.8888888888888888,
             "#fdca26"
            ],
            [
             1,
             "#f0f921"
            ]
           ],
           "sequentialminus": [
            [
             0,
             "#0d0887"
            ],
            [
             0.1111111111111111,
             "#46039f"
            ],
            [
             0.2222222222222222,
             "#7201a8"
            ],
            [
             0.3333333333333333,
             "#9c179e"
            ],
            [
             0.4444444444444444,
             "#bd3786"
            ],
            [
             0.5555555555555556,
             "#d8576b"
            ],
            [
             0.6666666666666666,
             "#ed7953"
            ],
            [
             0.7777777777777778,
             "#fb9f3a"
            ],
            [
             0.8888888888888888,
             "#fdca26"
            ],
            [
             1,
             "#f0f921"
            ]
           ]
          },
          "colorway": [
           "#636efa",
           "#EF553B",
           "#00cc96",
           "#ab63fa",
           "#FFA15A",
           "#19d3f3",
           "#FF6692",
           "#B6E880",
           "#FF97FF",
           "#FECB52"
          ],
          "font": {
           "color": "#2a3f5f"
          },
          "geo": {
           "bgcolor": "white",
           "lakecolor": "white",
           "landcolor": "#E5ECF6",
           "showlakes": true,
           "showland": true,
           "subunitcolor": "white"
          },
          "hoverlabel": {
           "align": "left"
          },
          "hovermode": "closest",
          "mapbox": {
           "style": "light"
          },
          "paper_bgcolor": "white",
          "plot_bgcolor": "#E5ECF6",
          "polar": {
           "angularaxis": {
            "gridcolor": "white",
            "linecolor": "white",
            "ticks": ""
           },
           "bgcolor": "#E5ECF6",
           "radialaxis": {
            "gridcolor": "white",
            "linecolor": "white",
            "ticks": ""
           }
          },
          "scene": {
           "xaxis": {
            "backgroundcolor": "#E5ECF6",
            "gridcolor": "white",
            "gridwidth": 2,
            "linecolor": "white",
            "showbackground": true,
            "ticks": "",
            "zerolinecolor": "white"
           },
           "yaxis": {
            "backgroundcolor": "#E5ECF6",
            "gridcolor": "white",
            "gridwidth": 2,
            "linecolor": "white",
            "showbackground": true,
            "ticks": "",
            "zerolinecolor": "white"
           },
           "zaxis": {
            "backgroundcolor": "#E5ECF6",
            "gridcolor": "white",
            "gridwidth": 2,
            "linecolor": "white",
            "showbackground": true,
            "ticks": "",
            "zerolinecolor": "white"
           }
          },
          "shapedefaults": {
           "line": {
            "color": "#2a3f5f"
           }
          },
          "ternary": {
           "aaxis": {
            "gridcolor": "white",
            "linecolor": "white",
            "ticks": ""
           },
           "baxis": {
            "gridcolor": "white",
            "linecolor": "white",
            "ticks": ""
           },
           "bgcolor": "#E5ECF6",
           "caxis": {
            "gridcolor": "white",
            "linecolor": "white",
            "ticks": ""
           }
          },
          "title": {
           "x": 0.05
          },
          "xaxis": {
           "automargin": true,
           "gridcolor": "white",
           "linecolor": "white",
           "ticks": "",
           "title": {
            "standoff": 15
           },
           "zerolinecolor": "white",
           "zerolinewidth": 2
          },
          "yaxis": {
           "automargin": true,
           "gridcolor": "white",
           "linecolor": "white",
           "ticks": "",
           "title": {
            "standoff": 15
           },
           "zerolinecolor": "white",
           "zerolinewidth": 2
          }
         }
        },
        "title": {
         "text": "Conf Matrix"
        },
        "width": 800,
        "xaxis": {
         "title": {
          "text": "Predicted value"
         }
        },
        "yaxis": {
         "title": {
          "text": "Real value"
         }
        }
       }
      }
     },
     "metadata": {},
     "output_type": "display_data"
    }
   ],
   "source": [
    "display(plot_confusion_matrix(y_test,y_test))"
   ]
  },
  {
   "cell_type": "code",
   "execution_count": 15,
   "metadata": {},
   "outputs": [],
   "source": [
    "\n",
    "y_shuffled = shuffle(y_test,\n",
    "                     random_state = 42)\n",
    "\n",
    "\n",
    "dict_map_cerca = {0:1,\n",
    "                  1:2,\n",
    "                  2:3,\n",
    "                  3:4,\n",
    "                  4:3}\n",
    "\n",
    "dict_map_lejos = {0:4,\n",
    "                  1:4,\n",
    "                  2:0,\n",
    "                  3:0,\n",
    "                  4:0}\n",
    "\n",
    "y_cerca = [dict_map_cerca[i] for i in y_test]\n",
    "\n",
    "y_lejos = [dict_map_lejos[i] for i in y_test]\n"
   ]
  },
  {
   "cell_type": "code",
   "execution_count": 16,
   "metadata": {},
   "outputs": [],
   "source": [
    "random_list =  np.random.rand(len(y_test))\n",
    "\n",
    "kappa_progression = pd.DataFrame()\n",
    "\n",
    "for i in range(101):\n",
    "\n",
    "    y_simulado = [y_test.iloc[sample] if random_list[sample]<i/100 else y_shuffled.iloc[sample] for sample in range(len(y_test))]\n",
    "\n",
    "    y_simulado_cerca = [y_test.iloc[sample] if random_list[sample]<i/100 else y_cerca[sample] for sample in range(len(y_test))]\n",
    "\n",
    "    y_simulado_lejos = [y_test.iloc[sample] if random_list[sample]<i/100 else y_lejos[sample] for sample in range(len(y_test))]\n",
    "\n",
    "\n",
    "    kappa_progression = pd.concat([kappa_progression,\n",
    "                                   pd.DataFrame({'Conocidos':[i],\n",
    "                                                'kappa':cohen_kappa_score(y_test,\n",
    "                                                                        y_simulado,\n",
    "                                                                        weights = 'quadratic'),\n",
    "                                                'kappa_cerca':cohen_kappa_score(y_test,\n",
    "                                                                        y_simulado_cerca,\n",
    "                                                                        weights = 'quadratic'),\n",
    "                                                'kappa_lejos':cohen_kappa_score(y_test,\n",
    "                                                                        y_simulado_lejos,\n",
    "                                                                        weights = 'quadratic'),                                                                        \n",
    "                                                'accuracy':accuracy_score(y_test,\n",
    "                                                                        y_simulado),\n",
    "                                                'balanced_accuracy':balanced_accuracy_score(y_test,\n",
    "                                                                        y_simulado),\n",
    "                                                                        })],\n",
    "                ignore_index=True)"
   ]
  },
  {
   "cell_type": "code",
   "execution_count": 17,
   "metadata": {},
   "outputs": [
    {
     "data": {
      "application/vnd.plotly.v1+json": {
       "config": {
        "plotlyServerURL": "https://plot.ly"
       },
       "data": [
        {
         "hovertemplate": "variable=kappa<br>Conocidos=%{x}<br>value=%{y}<extra></extra>",
         "legendgroup": "kappa",
         "line": {
          "color": "#636efa",
          "dash": "solid"
         },
         "marker": {
          "symbol": "circle"
         },
         "mode": "lines",
         "name": "kappa",
         "orientation": "v",
         "showlegend": true,
         "type": "scatter",
         "x": [
          0,
          1,
          2,
          3,
          4,
          5,
          6,
          7,
          8,
          9,
          10,
          11,
          12,
          13,
          14,
          15,
          16,
          17,
          18,
          19,
          20,
          21,
          22,
          23,
          24,
          25,
          26,
          27,
          28,
          29,
          30,
          31,
          32,
          33,
          34,
          35,
          36,
          37,
          38,
          39,
          40,
          41,
          42,
          43,
          44,
          45,
          46,
          47,
          48,
          49,
          50,
          51,
          52,
          53,
          54,
          55,
          56,
          57,
          58,
          59,
          60,
          61,
          62,
          63,
          64,
          65,
          66,
          67,
          68,
          69,
          70,
          71,
          72,
          73,
          74,
          75,
          76,
          77,
          78,
          79,
          80,
          81,
          82,
          83,
          84,
          85,
          86,
          87,
          88,
          89,
          90,
          91,
          92,
          93,
          94,
          95,
          96,
          97,
          98,
          99,
          100
         ],
         "xaxis": "x",
         "y": [
          -0.0084438812302563,
          0.0025474477593249167,
          0.01232345206990959,
          0.017863363890313733,
          0.032009921518297846,
          0.04708812828433784,
          0.05541992942419394,
          0.06901225236525221,
          0.07813237205329626,
          0.08746945337672374,
          0.10157627383374801,
          0.11152843487845909,
          0.12042510155805308,
          0.1353572773195192,
          0.14323126926598995,
          0.16484577344551143,
          0.17337389246340884,
          0.18206841008167596,
          0.19166787183410283,
          0.19898809863960065,
          0.20948044163745716,
          0.22435690453989032,
          0.23606795182103169,
          0.24801285021132835,
          0.2607152080866296,
          0.27018833374557605,
          0.27806460634451746,
          0.2897339825092431,
          0.29426758912478246,
          0.30100127341529626,
          0.3091572119781383,
          0.3182057147728725,
          0.33455885406915487,
          0.34143587162200295,
          0.348341081709463,
          0.35779623722318155,
          0.3688606754694552,
          0.38772179172085375,
          0.3970347748205246,
          0.4096641445691195,
          0.41990229725183215,
          0.42642851387692915,
          0.4389124512302708,
          0.45121085509048175,
          0.46034432503305056,
          0.47337421041678884,
          0.4869289962476301,
          0.4949391854820344,
          0.506154272025408,
          0.5226865679379529,
          0.5323603642587285,
          0.5442155064512817,
          0.5555482748587952,
          0.565041558235928,
          0.5725154349582274,
          0.5812568808201724,
          0.5894179545064611,
          0.5967985928777302,
          0.6091448513908442,
          0.6173876330637096,
          0.6254521310660377,
          0.6320079820420011,
          0.6424329778907629,
          0.6496863787173034,
          0.659900366751089,
          0.6710079713094725,
          0.6789395323489857,
          0.6877721934763396,
          0.6985030957338589,
          0.7084867825258531,
          0.7151799126619773,
          0.7248347858251223,
          0.7314717205262833,
          0.7373881814052559,
          0.7493140215047798,
          0.7569762428667595,
          0.7665168289830527,
          0.7751429828931865,
          0.7826456296361218,
          0.7878535749689615,
          0.795769835499615,
          0.8031095812434974,
          0.815007304978556,
          0.8266274391702796,
          0.8323985091562898,
          0.8437440883507404,
          0.8528217467886565,
          0.8577871148751564,
          0.8750859446316731,
          0.8882291931568964,
          0.9000952278061185,
          0.9104307233256637,
          0.9242358745421759,
          0.9327730098336117,
          0.9443012467724365,
          0.9497737962726638,
          0.9550734436683539,
          0.9676300233378282,
          0.9786016682314571,
          0.9895279550536057,
          1
         ],
         "yaxis": "y"
        },
        {
         "hovertemplate": "variable=kappa_cerca<br>Conocidos=%{x}<br>value=%{y}<extra></extra>",
         "legendgroup": "kappa_cerca",
         "line": {
          "color": "#EF553B",
          "dash": "solid"
         },
         "marker": {
          "symbol": "circle"
         },
         "mode": "lines",
         "name": "kappa_cerca",
         "orientation": "v",
         "showlegend": true,
         "type": "scatter",
         "x": [
          0,
          1,
          2,
          3,
          4,
          5,
          6,
          7,
          8,
          9,
          10,
          11,
          12,
          13,
          14,
          15,
          16,
          17,
          18,
          19,
          20,
          21,
          22,
          23,
          24,
          25,
          26,
          27,
          28,
          29,
          30,
          31,
          32,
          33,
          34,
          35,
          36,
          37,
          38,
          39,
          40,
          41,
          42,
          43,
          44,
          45,
          46,
          47,
          48,
          49,
          50,
          51,
          52,
          53,
          54,
          55,
          56,
          57,
          58,
          59,
          60,
          61,
          62,
          63,
          64,
          65,
          66,
          67,
          68,
          69,
          70,
          71,
          72,
          73,
          74,
          75,
          76,
          77,
          78,
          79,
          80,
          81,
          82,
          83,
          84,
          85,
          86,
          87,
          88,
          89,
          90,
          91,
          92,
          93,
          94,
          95,
          96,
          97,
          98,
          99,
          100
         ],
         "xaxis": "x",
         "y": [
          0.5261777791943391,
          0.533531594703742,
          0.5392527129612538,
          0.5436022476191694,
          0.5496810536543417,
          0.5564605563206366,
          0.5615251608225138,
          0.5679924267011751,
          0.5732896097242643,
          0.5784398751890211,
          0.5864468721254823,
          0.591411516186733,
          0.5961675684042971,
          0.6026854828025618,
          0.607930234979964,
          0.615878247709417,
          0.6211086190142624,
          0.6253022785760449,
          0.629992766314555,
          0.6343426377124959,
          0.6405463004200411,
          0.6467318858173511,
          0.6525789951063268,
          0.6589125360000774,
          0.6655578030383721,
          0.6705751672417859,
          0.6759966230705327,
          0.6837970417633974,
          0.687367541459917,
          0.6918612451216843,
          0.6968745106187861,
          0.7003213987433345,
          0.707234224549701,
          0.7120711109781126,
          0.7164917256692962,
          0.7213278011305745,
          0.7256788096410887,
          0.7331386552310952,
          0.738586308709857,
          0.7443524741112817,
          0.7485979545440922,
          0.7518995495753256,
          0.7572021608633297,
          0.7621291427401115,
          0.7667377008131488,
          0.7713314246479775,
          0.778501971704654,
          0.7838983743188235,
          0.7903162202538956,
          0.795989982317326,
          0.7997610655302442,
          0.8048012808291859,
          0.8104207240736037,
          0.8141640445879607,
          0.8191116281073629,
          0.8241283499389075,
          0.8278637737483707,
          0.8326916224047322,
          0.8373185670311188,
          0.8406005577782034,
          0.8444115103047558,
          0.8484198508964855,
          0.8525821169874314,
          0.8572955732715815,
          0.8622023292899643,
          0.8659453616638175,
          0.8700957428617297,
          0.8742236091048965,
          0.8778422757504154,
          0.881871887622056,
          0.8857395101454469,
          0.8896355514827458,
          0.8934763513899951,
          0.8971457408220959,
          0.9010149818985622,
          0.9044053779657638,
          0.9084256624324147,
          0.912278848093906,
          0.9157185891492634,
          0.9182746763216613,
          0.9212436419732581,
          0.9252876811435169,
          0.9295925918045438,
          0.9339237439755875,
          0.9370376143730008,
          0.9411459336226811,
          0.9452706715217332,
          0.9478000397953931,
          0.951971022978285,
          0.9560755157262368,
          0.9602159240617283,
          0.9642594253432075,
          0.9686755270891594,
          0.9716740675974164,
          0.9761475867686313,
          0.9794867936401537,
          0.9826921818577157,
          0.9875099332173216,
          0.9912908061957536,
          0.995896493736887,
          1
         ],
         "yaxis": "y"
        },
        {
         "hovertemplate": "variable=kappa_lejos<br>Conocidos=%{x}<br>value=%{y}<extra></extra>",
         "legendgroup": "kappa_lejos",
         "line": {
          "color": "#00cc96",
          "dash": "solid"
         },
         "marker": {
          "symbol": "circle"
         },
         "mode": "lines",
         "name": "kappa_lejos",
         "orientation": "v",
         "showlegend": true,
         "type": "scatter",
         "x": [
          0,
          1,
          2,
          3,
          4,
          5,
          6,
          7,
          8,
          9,
          10,
          11,
          12,
          13,
          14,
          15,
          16,
          17,
          18,
          19,
          20,
          21,
          22,
          23,
          24,
          25,
          26,
          27,
          28,
          29,
          30,
          31,
          32,
          33,
          34,
          35,
          36,
          37,
          38,
          39,
          40,
          41,
          42,
          43,
          44,
          45,
          46,
          47,
          48,
          49,
          50,
          51,
          52,
          53,
          54,
          55,
          56,
          57,
          58,
          59,
          60,
          61,
          62,
          63,
          64,
          65,
          66,
          67,
          68,
          69,
          70,
          71,
          72,
          73,
          74,
          75,
          76,
          77,
          78,
          79,
          80,
          81,
          82,
          83,
          84,
          85,
          86,
          87,
          88,
          89,
          90,
          91,
          92,
          93,
          94,
          95,
          96,
          97,
          98,
          99,
          100
         ],
         "xaxis": "x",
         "y": [
          -0.45165018440277804,
          -0.4456632864258656,
          -0.4428122316298404,
          -0.4377693819138009,
          -0.43259390763237837,
          -0.42560715335256494,
          -0.4206147962080371,
          -0.41296447577579665,
          -0.4075786317400929,
          -0.40247641496430964,
          -0.39478408928015285,
          -0.386703382208468,
          -0.38287998334703666,
          -0.3725509743110571,
          -0.36787939175441675,
          -0.3542226668362276,
          -0.3467203853636156,
          -0.3429450432387877,
          -0.3352036182058631,
          -0.32738536318516953,
          -0.31673000505910553,
          -0.30754946817658757,
          -0.29713602234408243,
          -0.2860034674178711,
          -0.2775759015003263,
          -0.26919654983929564,
          -0.26191519559620535,
          -0.2515630756250731,
          -0.24705896150341133,
          -0.2421932017716204,
          -0.23233828403797352,
          -0.2263802158478787,
          -0.21190587194524402,
          -0.2072123644742203,
          -0.20041889423950376,
          -0.19234416047924618,
          -0.1838356558047367,
          -0.16923273225144042,
          -0.16033881884517642,
          -0.14531377146926516,
          -0.13676435050167113,
          -0.12902084372622524,
          -0.11737698382231887,
          -0.10518551965642131,
          -0.09887318277913937,
          -0.08789279712702691,
          -0.07147344568756053,
          -0.058841955474353114,
          -0.04171664567916222,
          -0.02741881958393022,
          -0.018123321173214357,
          -0.004144274031407491,
          0.0120005208993621,
          0.021047627752319387,
          0.036519210187677564,
          0.05019674716676237,
          0.059848740926496724,
          0.07446100328451166,
          0.08986789273917295,
          0.10104344854409508,
          0.11001020991589128,
          0.12167109146289645,
          0.13718873063383852,
          0.15439174680512058,
          0.16981002911661092,
          0.18225114470613069,
          0.1972788170933707,
          0.21165070379607887,
          0.22736747139344948,
          0.24218110951018412,
          0.25918770661830093,
          0.27205072510208195,
          0.2918774993397292,
          0.30811195444538786,
          0.32619625055375434,
          0.343125540314423,
          0.36040396029247945,
          0.3779924271225509,
          0.39015049288769854,
          0.40318194491150106,
          0.4205529653727038,
          0.44220840722050714,
          0.4683211647629958,
          0.49073437330457836,
          0.50967173297752,
          0.5333982780569659,
          0.5553853277607861,
          0.5750507848258603,
          0.606810172641574,
          0.6357799401978097,
          0.6654325537214579,
          0.6949042070453824,
          0.7257841401722054,
          0.7490242426238465,
          0.788635958696567,
          0.8113802064443741,
          0.8355953078118868,
          0.8821797529526865,
          0.9148012252770145,
          0.9557401130416137,
          1
         ],
         "yaxis": "y"
        },
        {
         "hovertemplate": "variable=accuracy<br>Conocidos=%{x}<br>value=%{y}<extra></extra>",
         "legendgroup": "accuracy",
         "line": {
          "color": "#ab63fa",
          "dash": "solid"
         },
         "marker": {
          "symbol": "circle"
         },
         "mode": "lines",
         "name": "accuracy",
         "orientation": "v",
         "showlegend": true,
         "type": "scatter",
         "x": [
          0,
          1,
          2,
          3,
          4,
          5,
          6,
          7,
          8,
          9,
          10,
          11,
          12,
          13,
          14,
          15,
          16,
          17,
          18,
          19,
          20,
          21,
          22,
          23,
          24,
          25,
          26,
          27,
          28,
          29,
          30,
          31,
          32,
          33,
          34,
          35,
          36,
          37,
          38,
          39,
          40,
          41,
          42,
          43,
          44,
          45,
          46,
          47,
          48,
          49,
          50,
          51,
          52,
          53,
          54,
          55,
          56,
          57,
          58,
          59,
          60,
          61,
          62,
          63,
          64,
          65,
          66,
          67,
          68,
          69,
          70,
          71,
          72,
          73,
          74,
          75,
          76,
          77,
          78,
          79,
          80,
          81,
          82,
          83,
          84,
          85,
          86,
          87,
          88,
          89,
          90,
          91,
          92,
          93,
          94,
          95,
          96,
          97,
          98,
          99,
          100
         ],
         "xaxis": "x",
         "y": [
          0.24141380460153383,
          0.2504168056018673,
          0.25841947315771924,
          0.26375458486162057,
          0.27309103034344784,
          0.28209403134378125,
          0.28809603201067024,
          0.2980993664554852,
          0.304434811603868,
          0.31410470156718906,
          0.32477492497499166,
          0.3324441480493498,
          0.3391130376792264,
          0.34711570523507834,
          0.35345115038346114,
          0.36378792930976994,
          0.3697899299766589,
          0.3757919306435478,
          0.3824608202734245,
          0.3867955985328443,
          0.3934644881627209,
          0.40280093364454816,
          0.4101367122374125,
          0.41847282427475824,
          0.42914304768256084,
          0.43647882627542517,
          0.4428142714238079,
          0.4531510503501167,
          0.4581527175725242,
          0.4638212737579193,
          0.4708236078692898,
          0.47615871957319106,
          0.48682894298099366,
          0.49383127709236413,
          0.49983327775925307,
          0.5071690563521174,
          0.5155051683894631,
          0.5258419473157719,
          0.5338446148716238,
          0.5421807269089697,
          0.5485161720573525,
          0.5525175058352785,
          0.5595198399466489,
          0.567189063021007,
          0.5755251750583528,
          0.5825275091697233,
          0.592864288096032,
          0.6012004001333778,
          0.6108702900966989,
          0.62054018006002,
          0.6272090696898966,
          0.6365455151717239,
          0.6458819606535512,
          0.6525508502834279,
          0.6595531843947983,
          0.6668889629876625,
          0.6725575191730577,
          0.6795598532844281,
          0.6885628542847616,
          0.695565188396132,
          0.7029009669889963,
          0.7102367455818607,
          0.7189063021007003,
          0.7242414138046015,
          0.7345781927309103,
          0.7415805268422807,
          0.7489163054351451,
          0.7575858619539847,
          0.7652550850283428,
          0.7729243081027009,
          0.7802600866955652,
          0.7879293097699233,
          0.7939313104368123,
          0.8012670890296766,
          0.8096032010670223,
          0.8159386462154051,
          0.8226075358452818,
          0.8306102034011337,
          0.8372790930310103,
          0.8419473157719239,
          0.8472824274758253,
          0.8536178726242081,
          0.8622874291430477,
          0.8699566522174058,
          0.8762920973657886,
          0.8852950983661221,
          0.8936312104034678,
          0.8969656552184061,
          0.9039679893297766,
          0.9119706568856285,
          0.9193064354784928,
          0.9276425475158386,
          0.9366455485161721,
          0.942647549183061,
          0.9509836612204068,
          0.9569856618872957,
          0.9633211070356785,
          0.9736578859619873,
          0.9826608869623208,
          0.9916638879626543,
          1
         ],
         "yaxis": "y"
        },
        {
         "hovertemplate": "variable=balanced_accuracy<br>Conocidos=%{x}<br>value=%{y}<extra></extra>",
         "legendgroup": "balanced_accuracy",
         "line": {
          "color": "#FFA15A",
          "dash": "solid"
         },
         "marker": {
          "symbol": "circle"
         },
         "mode": "lines",
         "name": "balanced_accuracy",
         "orientation": "v",
         "showlegend": true,
         "type": "scatter",
         "x": [
          0,
          1,
          2,
          3,
          4,
          5,
          6,
          7,
          8,
          9,
          10,
          11,
          12,
          13,
          14,
          15,
          16,
          17,
          18,
          19,
          20,
          21,
          22,
          23,
          24,
          25,
          26,
          27,
          28,
          29,
          30,
          31,
          32,
          33,
          34,
          35,
          36,
          37,
          38,
          39,
          40,
          41,
          42,
          43,
          44,
          45,
          46,
          47,
          48,
          49,
          50,
          51,
          52,
          53,
          54,
          55,
          56,
          57,
          58,
          59,
          60,
          61,
          62,
          63,
          64,
          65,
          66,
          67,
          68,
          69,
          70,
          71,
          72,
          73,
          74,
          75,
          76,
          77,
          78,
          79,
          80,
          81,
          82,
          83,
          84,
          85,
          86,
          87,
          88,
          89,
          90,
          91,
          92,
          93,
          94,
          95,
          96,
          97,
          98,
          99,
          100
         ],
         "xaxis": "x",
         "y": [
          0.19781671101270798,
          0.2053240609673864,
          0.21423512134634617,
          0.21865683194909874,
          0.228527413173149,
          0.2382777331424249,
          0.2432611635787419,
          0.25597847551340297,
          0.2654937617452938,
          0.2738108320804728,
          0.28698321373435604,
          0.2939591892034622,
          0.3015731548567525,
          0.30795025575190166,
          0.3131758254025828,
          0.32596616504198456,
          0.33536832991181054,
          0.3425203848743294,
          0.35026646429635966,
          0.3539532680005063,
          0.3682334816508201,
          0.3781869958884519,
          0.39086434882239707,
          0.40000831175186724,
          0.41122921243301425,
          0.4217405371845501,
          0.42676583941097707,
          0.43702236913258796,
          0.44308571632537835,
          0.44754620280180013,
          0.4576821258589159,
          0.46403274904495984,
          0.4747000810033783,
          0.480412726078068,
          0.4871243021007742,
          0.4953408797387617,
          0.5065593503118737,
          0.5168624644448505,
          0.5234255529788348,
          0.5324224732154779,
          0.5398223596525941,
          0.5431686626320599,
          0.5531770154693528,
          0.563798865239161,
          0.5705591568601077,
          0.5806012619558238,
          0.5912716582515338,
          0.5981835361142246,
          0.6081620460127548,
          0.6162059510677604,
          0.6237584033855978,
          0.6338646525762898,
          0.6415485844336105,
          0.6471664319079233,
          0.6529762897816138,
          0.6590437153664034,
          0.6657543117501323,
          0.6716594352176988,
          0.6811700432440642,
          0.689071284890608,
          0.697351972207841,
          0.7054098237113748,
          0.7126329935892404,
          0.7193145503358019,
          0.7277025320982582,
          0.7377990106367176,
          0.7483635601196806,
          0.7556845919352146,
          0.7620224173840463,
          0.7683110620777197,
          0.7762807878800873,
          0.7826575582749271,
          0.7898336292593671,
          0.7960214851712701,
          0.8030597845424676,
          0.81049911549824,
          0.8182057504016139,
          0.8246761696855145,
          0.8302868772671179,
          0.8365259957959121,
          0.8411161687696203,
          0.8466726719808191,
          0.8541847345567533,
          0.8625144335568058,
          0.8698021782708343,
          0.877343280483936,
          0.8883189431976968,
          0.8930673398966288,
          0.9053595548996519,
          0.9143340758191891,
          0.922695099806211,
          0.9294010179844145,
          0.9388793213848331,
          0.9461660864598842,
          0.9550883622869717,
          0.9601276137985083,
          0.9656912569024166,
          0.9761977343760883,
          0.9860504598319497,
          0.9930738423518901,
          1
         ],
         "yaxis": "y"
        }
       ],
       "layout": {
        "legend": {
         "title": {
          "text": "variable"
         },
         "tracegroupgap": 0
        },
        "margin": {
         "t": 60
        },
        "template": {
         "data": {
          "bar": [
           {
            "error_x": {
             "color": "#2a3f5f"
            },
            "error_y": {
             "color": "#2a3f5f"
            },
            "marker": {
             "line": {
              "color": "#E5ECF6",
              "width": 0.5
             },
             "pattern": {
              "fillmode": "overlay",
              "size": 10,
              "solidity": 0.2
             }
            },
            "type": "bar"
           }
          ],
          "barpolar": [
           {
            "marker": {
             "line": {
              "color": "#E5ECF6",
              "width": 0.5
             },
             "pattern": {
              "fillmode": "overlay",
              "size": 10,
              "solidity": 0.2
             }
            },
            "type": "barpolar"
           }
          ],
          "carpet": [
           {
            "aaxis": {
             "endlinecolor": "#2a3f5f",
             "gridcolor": "white",
             "linecolor": "white",
             "minorgridcolor": "white",
             "startlinecolor": "#2a3f5f"
            },
            "baxis": {
             "endlinecolor": "#2a3f5f",
             "gridcolor": "white",
             "linecolor": "white",
             "minorgridcolor": "white",
             "startlinecolor": "#2a3f5f"
            },
            "type": "carpet"
           }
          ],
          "choropleth": [
           {
            "colorbar": {
             "outlinewidth": 0,
             "ticks": ""
            },
            "type": "choropleth"
           }
          ],
          "contour": [
           {
            "colorbar": {
             "outlinewidth": 0,
             "ticks": ""
            },
            "colorscale": [
             [
              0,
              "#0d0887"
             ],
             [
              0.1111111111111111,
              "#46039f"
             ],
             [
              0.2222222222222222,
              "#7201a8"
             ],
             [
              0.3333333333333333,
              "#9c179e"
             ],
             [
              0.4444444444444444,
              "#bd3786"
             ],
             [
              0.5555555555555556,
              "#d8576b"
             ],
             [
              0.6666666666666666,
              "#ed7953"
             ],
             [
              0.7777777777777778,
              "#fb9f3a"
             ],
             [
              0.8888888888888888,
              "#fdca26"
             ],
             [
              1,
              "#f0f921"
             ]
            ],
            "type": "contour"
           }
          ],
          "contourcarpet": [
           {
            "colorbar": {
             "outlinewidth": 0,
             "ticks": ""
            },
            "type": "contourcarpet"
           }
          ],
          "heatmap": [
           {
            "colorbar": {
             "outlinewidth": 0,
             "ticks": ""
            },
            "colorscale": [
             [
              0,
              "#0d0887"
             ],
             [
              0.1111111111111111,
              "#46039f"
             ],
             [
              0.2222222222222222,
              "#7201a8"
             ],
             [
              0.3333333333333333,
              "#9c179e"
             ],
             [
              0.4444444444444444,
              "#bd3786"
             ],
             [
              0.5555555555555556,
              "#d8576b"
             ],
             [
              0.6666666666666666,
              "#ed7953"
             ],
             [
              0.7777777777777778,
              "#fb9f3a"
             ],
             [
              0.8888888888888888,
              "#fdca26"
             ],
             [
              1,
              "#f0f921"
             ]
            ],
            "type": "heatmap"
           }
          ],
          "heatmapgl": [
           {
            "colorbar": {
             "outlinewidth": 0,
             "ticks": ""
            },
            "colorscale": [
             [
              0,
              "#0d0887"
             ],
             [
              0.1111111111111111,
              "#46039f"
             ],
             [
              0.2222222222222222,
              "#7201a8"
             ],
             [
              0.3333333333333333,
              "#9c179e"
             ],
             [
              0.4444444444444444,
              "#bd3786"
             ],
             [
              0.5555555555555556,
              "#d8576b"
             ],
             [
              0.6666666666666666,
              "#ed7953"
             ],
             [
              0.7777777777777778,
              "#fb9f3a"
             ],
             [
              0.8888888888888888,
              "#fdca26"
             ],
             [
              1,
              "#f0f921"
             ]
            ],
            "type": "heatmapgl"
           }
          ],
          "histogram": [
           {
            "marker": {
             "pattern": {
              "fillmode": "overlay",
              "size": 10,
              "solidity": 0.2
             }
            },
            "type": "histogram"
           }
          ],
          "histogram2d": [
           {
            "colorbar": {
             "outlinewidth": 0,
             "ticks": ""
            },
            "colorscale": [
             [
              0,
              "#0d0887"
             ],
             [
              0.1111111111111111,
              "#46039f"
             ],
             [
              0.2222222222222222,
              "#7201a8"
             ],
             [
              0.3333333333333333,
              "#9c179e"
             ],
             [
              0.4444444444444444,
              "#bd3786"
             ],
             [
              0.5555555555555556,
              "#d8576b"
             ],
             [
              0.6666666666666666,
              "#ed7953"
             ],
             [
              0.7777777777777778,
              "#fb9f3a"
             ],
             [
              0.8888888888888888,
              "#fdca26"
             ],
             [
              1,
              "#f0f921"
             ]
            ],
            "type": "histogram2d"
           }
          ],
          "histogram2dcontour": [
           {
            "colorbar": {
             "outlinewidth": 0,
             "ticks": ""
            },
            "colorscale": [
             [
              0,
              "#0d0887"
             ],
             [
              0.1111111111111111,
              "#46039f"
             ],
             [
              0.2222222222222222,
              "#7201a8"
             ],
             [
              0.3333333333333333,
              "#9c179e"
             ],
             [
              0.4444444444444444,
              "#bd3786"
             ],
             [
              0.5555555555555556,
              "#d8576b"
             ],
             [
              0.6666666666666666,
              "#ed7953"
             ],
             [
              0.7777777777777778,
              "#fb9f3a"
             ],
             [
              0.8888888888888888,
              "#fdca26"
             ],
             [
              1,
              "#f0f921"
             ]
            ],
            "type": "histogram2dcontour"
           }
          ],
          "mesh3d": [
           {
            "colorbar": {
             "outlinewidth": 0,
             "ticks": ""
            },
            "type": "mesh3d"
           }
          ],
          "parcoords": [
           {
            "line": {
             "colorbar": {
              "outlinewidth": 0,
              "ticks": ""
             }
            },
            "type": "parcoords"
           }
          ],
          "pie": [
           {
            "automargin": true,
            "type": "pie"
           }
          ],
          "scatter": [
           {
            "fillpattern": {
             "fillmode": "overlay",
             "size": 10,
             "solidity": 0.2
            },
            "type": "scatter"
           }
          ],
          "scatter3d": [
           {
            "line": {
             "colorbar": {
              "outlinewidth": 0,
              "ticks": ""
             }
            },
            "marker": {
             "colorbar": {
              "outlinewidth": 0,
              "ticks": ""
             }
            },
            "type": "scatter3d"
           }
          ],
          "scattercarpet": [
           {
            "marker": {
             "colorbar": {
              "outlinewidth": 0,
              "ticks": ""
             }
            },
            "type": "scattercarpet"
           }
          ],
          "scattergeo": [
           {
            "marker": {
             "colorbar": {
              "outlinewidth": 0,
              "ticks": ""
             }
            },
            "type": "scattergeo"
           }
          ],
          "scattergl": [
           {
            "marker": {
             "colorbar": {
              "outlinewidth": 0,
              "ticks": ""
             }
            },
            "type": "scattergl"
           }
          ],
          "scattermapbox": [
           {
            "marker": {
             "colorbar": {
              "outlinewidth": 0,
              "ticks": ""
             }
            },
            "type": "scattermapbox"
           }
          ],
          "scatterpolar": [
           {
            "marker": {
             "colorbar": {
              "outlinewidth": 0,
              "ticks": ""
             }
            },
            "type": "scatterpolar"
           }
          ],
          "scatterpolargl": [
           {
            "marker": {
             "colorbar": {
              "outlinewidth": 0,
              "ticks": ""
             }
            },
            "type": "scatterpolargl"
           }
          ],
          "scatterternary": [
           {
            "marker": {
             "colorbar": {
              "outlinewidth": 0,
              "ticks": ""
             }
            },
            "type": "scatterternary"
           }
          ],
          "surface": [
           {
            "colorbar": {
             "outlinewidth": 0,
             "ticks": ""
            },
            "colorscale": [
             [
              0,
              "#0d0887"
             ],
             [
              0.1111111111111111,
              "#46039f"
             ],
             [
              0.2222222222222222,
              "#7201a8"
             ],
             [
              0.3333333333333333,
              "#9c179e"
             ],
             [
              0.4444444444444444,
              "#bd3786"
             ],
             [
              0.5555555555555556,
              "#d8576b"
             ],
             [
              0.6666666666666666,
              "#ed7953"
             ],
             [
              0.7777777777777778,
              "#fb9f3a"
             ],
             [
              0.8888888888888888,
              "#fdca26"
             ],
             [
              1,
              "#f0f921"
             ]
            ],
            "type": "surface"
           }
          ],
          "table": [
           {
            "cells": {
             "fill": {
              "color": "#EBF0F8"
             },
             "line": {
              "color": "white"
             }
            },
            "header": {
             "fill": {
              "color": "#C8D4E3"
             },
             "line": {
              "color": "white"
             }
            },
            "type": "table"
           }
          ]
         },
         "layout": {
          "annotationdefaults": {
           "arrowcolor": "#2a3f5f",
           "arrowhead": 0,
           "arrowwidth": 1
          },
          "autotypenumbers": "strict",
          "coloraxis": {
           "colorbar": {
            "outlinewidth": 0,
            "ticks": ""
           }
          },
          "colorscale": {
           "diverging": [
            [
             0,
             "#8e0152"
            ],
            [
             0.1,
             "#c51b7d"
            ],
            [
             0.2,
             "#de77ae"
            ],
            [
             0.3,
             "#f1b6da"
            ],
            [
             0.4,
             "#fde0ef"
            ],
            [
             0.5,
             "#f7f7f7"
            ],
            [
             0.6,
             "#e6f5d0"
            ],
            [
             0.7,
             "#b8e186"
            ],
            [
             0.8,
             "#7fbc41"
            ],
            [
             0.9,
             "#4d9221"
            ],
            [
             1,
             "#276419"
            ]
           ],
           "sequential": [
            [
             0,
             "#0d0887"
            ],
            [
             0.1111111111111111,
             "#46039f"
            ],
            [
             0.2222222222222222,
             "#7201a8"
            ],
            [
             0.3333333333333333,
             "#9c179e"
            ],
            [
             0.4444444444444444,
             "#bd3786"
            ],
            [
             0.5555555555555556,
             "#d8576b"
            ],
            [
             0.6666666666666666,
             "#ed7953"
            ],
            [
             0.7777777777777778,
             "#fb9f3a"
            ],
            [
             0.8888888888888888,
             "#fdca26"
            ],
            [
             1,
             "#f0f921"
            ]
           ],
           "sequentialminus": [
            [
             0,
             "#0d0887"
            ],
            [
             0.1111111111111111,
             "#46039f"
            ],
            [
             0.2222222222222222,
             "#7201a8"
            ],
            [
             0.3333333333333333,
             "#9c179e"
            ],
            [
             0.4444444444444444,
             "#bd3786"
            ],
            [
             0.5555555555555556,
             "#d8576b"
            ],
            [
             0.6666666666666666,
             "#ed7953"
            ],
            [
             0.7777777777777778,
             "#fb9f3a"
            ],
            [
             0.8888888888888888,
             "#fdca26"
            ],
            [
             1,
             "#f0f921"
            ]
           ]
          },
          "colorway": [
           "#636efa",
           "#EF553B",
           "#00cc96",
           "#ab63fa",
           "#FFA15A",
           "#19d3f3",
           "#FF6692",
           "#B6E880",
           "#FF97FF",
           "#FECB52"
          ],
          "font": {
           "color": "#2a3f5f"
          },
          "geo": {
           "bgcolor": "white",
           "lakecolor": "white",
           "landcolor": "#E5ECF6",
           "showlakes": true,
           "showland": true,
           "subunitcolor": "white"
          },
          "hoverlabel": {
           "align": "left"
          },
          "hovermode": "closest",
          "mapbox": {
           "style": "light"
          },
          "paper_bgcolor": "white",
          "plot_bgcolor": "#E5ECF6",
          "polar": {
           "angularaxis": {
            "gridcolor": "white",
            "linecolor": "white",
            "ticks": ""
           },
           "bgcolor": "#E5ECF6",
           "radialaxis": {
            "gridcolor": "white",
            "linecolor": "white",
            "ticks": ""
           }
          },
          "scene": {
           "xaxis": {
            "backgroundcolor": "#E5ECF6",
            "gridcolor": "white",
            "gridwidth": 2,
            "linecolor": "white",
            "showbackground": true,
            "ticks": "",
            "zerolinecolor": "white"
           },
           "yaxis": {
            "backgroundcolor": "#E5ECF6",
            "gridcolor": "white",
            "gridwidth": 2,
            "linecolor": "white",
            "showbackground": true,
            "ticks": "",
            "zerolinecolor": "white"
           },
           "zaxis": {
            "backgroundcolor": "#E5ECF6",
            "gridcolor": "white",
            "gridwidth": 2,
            "linecolor": "white",
            "showbackground": true,
            "ticks": "",
            "zerolinecolor": "white"
           }
          },
          "shapedefaults": {
           "line": {
            "color": "#2a3f5f"
           }
          },
          "ternary": {
           "aaxis": {
            "gridcolor": "white",
            "linecolor": "white",
            "ticks": ""
           },
           "baxis": {
            "gridcolor": "white",
            "linecolor": "white",
            "ticks": ""
           },
           "bgcolor": "#E5ECF6",
           "caxis": {
            "gridcolor": "white",
            "linecolor": "white",
            "ticks": ""
           }
          },
          "title": {
           "x": 0.05
          },
          "xaxis": {
           "automargin": true,
           "gridcolor": "white",
           "linecolor": "white",
           "ticks": "",
           "title": {
            "standoff": 15
           },
           "zerolinecolor": "white",
           "zerolinewidth": 2
          },
          "yaxis": {
           "automargin": true,
           "gridcolor": "white",
           "linecolor": "white",
           "ticks": "",
           "title": {
            "standoff": 15
           },
           "zerolinecolor": "white",
           "zerolinewidth": 2
          }
         }
        },
        "xaxis": {
         "anchor": "y",
         "domain": [
          0,
          1
         ],
         "title": {
          "text": "Conocidos"
         }
        },
        "yaxis": {
         "anchor": "x",
         "domain": [
          0,
          1
         ],
         "title": {
          "text": "value"
         }
        }
       }
      }
     },
     "metadata": {},
     "output_type": "display_data"
    }
   ],
   "source": [
    "px.line(kappa_progression,x='Conocidos',y=['kappa',\n",
    "                                           'kappa_cerca',\n",
    "                                           'kappa_lejos',\n",
    "                                           'accuracy',\n",
    "                                           'balanced_accuracy'])"
   ]
  },
  {
   "cell_type": "code",
   "execution_count": 18,
   "metadata": {},
   "outputs": [
    {
     "data": {
      "application/vnd.plotly.v1+json": {
       "config": {
        "plotlyServerURL": "https://plot.ly"
       },
       "data": [
        {
         "type": "heatmap",
         "x": [
          0,
          1,
          2,
          3,
          4
         ],
         "y": [
          0,
          1,
          2,
          3,
          4
         ],
         "z": [
          [
           62.19512195121951,
           37.80487804878049,
           0,
           0,
           0
          ],
          [
           0,
           49.029126213592235,
           50.970873786407765,
           0,
           0
          ],
          [
           0,
           0,
           52.168525402726154,
           47.83147459727385,
           0
          ],
          [
           0,
           0,
           0,
           50.15337423312884,
           49.84662576687116
          ],
          [
           0,
           0,
           0,
           49.523809523809526,
           50.476190476190474
          ]
         ]
        }
       ],
       "layout": {
        "annotations": [
         {
          "font": {
           "color": "white"
          },
          "showarrow": false,
          "text": "62.2 - 51",
          "x": 0,
          "xref": "x",
          "y": 0,
          "yref": "y"
         },
         {
          "font": {
           "color": "white"
          },
          "showarrow": false,
          "text": "37.8 - 31",
          "x": 1,
          "xref": "x",
          "y": 0,
          "yref": "y"
         },
         {
          "font": {
           "color": "white"
          },
          "showarrow": false,
          "text": "0.0 - 0",
          "x": 2,
          "xref": "x",
          "y": 0,
          "yref": "y"
         },
         {
          "font": {
           "color": "white"
          },
          "showarrow": false,
          "text": "0.0 - 0",
          "x": 3,
          "xref": "x",
          "y": 0,
          "yref": "y"
         },
         {
          "font": {
           "color": "white"
          },
          "showarrow": false,
          "text": "0.0 - 0",
          "x": 4,
          "xref": "x",
          "y": 0,
          "yref": "y"
         },
         {
          "font": {
           "color": "white"
          },
          "showarrow": false,
          "text": "0.0 - 0",
          "x": 0,
          "xref": "x",
          "y": 1,
          "yref": "y"
         },
         {
          "font": {
           "color": "white"
          },
          "showarrow": false,
          "text": "49.0 - 303",
          "x": 1,
          "xref": "x",
          "y": 1,
          "yref": "y"
         },
         {
          "font": {
           "color": "white"
          },
          "showarrow": false,
          "text": "51.0 - 315",
          "x": 2,
          "xref": "x",
          "y": 1,
          "yref": "y"
         },
         {
          "font": {
           "color": "white"
          },
          "showarrow": false,
          "text": "0.0 - 0",
          "x": 3,
          "xref": "x",
          "y": 1,
          "yref": "y"
         },
         {
          "font": {
           "color": "white"
          },
          "showarrow": false,
          "text": "0.0 - 0",
          "x": 4,
          "xref": "x",
          "y": 1,
          "yref": "y"
         },
         {
          "font": {
           "color": "white"
          },
          "showarrow": false,
          "text": "0.0 - 0",
          "x": 0,
          "xref": "x",
          "y": 2,
          "yref": "y"
         },
         {
          "font": {
           "color": "white"
          },
          "showarrow": false,
          "text": "0.0 - 0",
          "x": 1,
          "xref": "x",
          "y": 2,
          "yref": "y"
         },
         {
          "font": {
           "color": "white"
          },
          "showarrow": false,
          "text": "52.2 - 421",
          "x": 2,
          "xref": "x",
          "y": 2,
          "yref": "y"
         },
         {
          "font": {
           "color": "white"
          },
          "showarrow": false,
          "text": "47.8 - 386",
          "x": 3,
          "xref": "x",
          "y": 2,
          "yref": "y"
         },
         {
          "font": {
           "color": "white"
          },
          "showarrow": false,
          "text": "0.0 - 0",
          "x": 4,
          "xref": "x",
          "y": 2,
          "yref": "y"
         },
         {
          "font": {
           "color": "white"
          },
          "showarrow": false,
          "text": "0.0 - 0",
          "x": 0,
          "xref": "x",
          "y": 3,
          "yref": "y"
         },
         {
          "font": {
           "color": "white"
          },
          "showarrow": false,
          "text": "0.0 - 0",
          "x": 1,
          "xref": "x",
          "y": 3,
          "yref": "y"
         },
         {
          "font": {
           "color": "white"
          },
          "showarrow": false,
          "text": "0.0 - 0",
          "x": 2,
          "xref": "x",
          "y": 3,
          "yref": "y"
         },
         {
          "font": {
           "color": "white"
          },
          "showarrow": false,
          "text": "50.2 - 327",
          "x": 3,
          "xref": "x",
          "y": 3,
          "yref": "y"
         },
         {
          "font": {
           "color": "white"
          },
          "showarrow": false,
          "text": "49.8 - 325",
          "x": 4,
          "xref": "x",
          "y": 3,
          "yref": "y"
         },
         {
          "font": {
           "color": "white"
          },
          "showarrow": false,
          "text": "0.0 - 0",
          "x": 0,
          "xref": "x",
          "y": 4,
          "yref": "y"
         },
         {
          "font": {
           "color": "white"
          },
          "showarrow": false,
          "text": "0.0 - 0",
          "x": 1,
          "xref": "x",
          "y": 4,
          "yref": "y"
         },
         {
          "font": {
           "color": "white"
          },
          "showarrow": false,
          "text": "0.0 - 0",
          "x": 2,
          "xref": "x",
          "y": 4,
          "yref": "y"
         },
         {
          "font": {
           "color": "white"
          },
          "showarrow": false,
          "text": "49.5 - 416",
          "x": 3,
          "xref": "x",
          "y": 4,
          "yref": "y"
         },
         {
          "font": {
           "color": "white"
          },
          "showarrow": false,
          "text": "50.5 - 424",
          "x": 4,
          "xref": "x",
          "y": 4,
          "yref": "y"
         }
        ],
        "height": 800,
        "template": {
         "data": {
          "bar": [
           {
            "error_x": {
             "color": "#2a3f5f"
            },
            "error_y": {
             "color": "#2a3f5f"
            },
            "marker": {
             "line": {
              "color": "#E5ECF6",
              "width": 0.5
             },
             "pattern": {
              "fillmode": "overlay",
              "size": 10,
              "solidity": 0.2
             }
            },
            "type": "bar"
           }
          ],
          "barpolar": [
           {
            "marker": {
             "line": {
              "color": "#E5ECF6",
              "width": 0.5
             },
             "pattern": {
              "fillmode": "overlay",
              "size": 10,
              "solidity": 0.2
             }
            },
            "type": "barpolar"
           }
          ],
          "carpet": [
           {
            "aaxis": {
             "endlinecolor": "#2a3f5f",
             "gridcolor": "white",
             "linecolor": "white",
             "minorgridcolor": "white",
             "startlinecolor": "#2a3f5f"
            },
            "baxis": {
             "endlinecolor": "#2a3f5f",
             "gridcolor": "white",
             "linecolor": "white",
             "minorgridcolor": "white",
             "startlinecolor": "#2a3f5f"
            },
            "type": "carpet"
           }
          ],
          "choropleth": [
           {
            "colorbar": {
             "outlinewidth": 0,
             "ticks": ""
            },
            "type": "choropleth"
           }
          ],
          "contour": [
           {
            "colorbar": {
             "outlinewidth": 0,
             "ticks": ""
            },
            "colorscale": [
             [
              0,
              "#0d0887"
             ],
             [
              0.1111111111111111,
              "#46039f"
             ],
             [
              0.2222222222222222,
              "#7201a8"
             ],
             [
              0.3333333333333333,
              "#9c179e"
             ],
             [
              0.4444444444444444,
              "#bd3786"
             ],
             [
              0.5555555555555556,
              "#d8576b"
             ],
             [
              0.6666666666666666,
              "#ed7953"
             ],
             [
              0.7777777777777778,
              "#fb9f3a"
             ],
             [
              0.8888888888888888,
              "#fdca26"
             ],
             [
              1,
              "#f0f921"
             ]
            ],
            "type": "contour"
           }
          ],
          "contourcarpet": [
           {
            "colorbar": {
             "outlinewidth": 0,
             "ticks": ""
            },
            "type": "contourcarpet"
           }
          ],
          "heatmap": [
           {
            "colorbar": {
             "outlinewidth": 0,
             "ticks": ""
            },
            "colorscale": [
             [
              0,
              "#0d0887"
             ],
             [
              0.1111111111111111,
              "#46039f"
             ],
             [
              0.2222222222222222,
              "#7201a8"
             ],
             [
              0.3333333333333333,
              "#9c179e"
             ],
             [
              0.4444444444444444,
              "#bd3786"
             ],
             [
              0.5555555555555556,
              "#d8576b"
             ],
             [
              0.6666666666666666,
              "#ed7953"
             ],
             [
              0.7777777777777778,
              "#fb9f3a"
             ],
             [
              0.8888888888888888,
              "#fdca26"
             ],
             [
              1,
              "#f0f921"
             ]
            ],
            "type": "heatmap"
           }
          ],
          "heatmapgl": [
           {
            "colorbar": {
             "outlinewidth": 0,
             "ticks": ""
            },
            "colorscale": [
             [
              0,
              "#0d0887"
             ],
             [
              0.1111111111111111,
              "#46039f"
             ],
             [
              0.2222222222222222,
              "#7201a8"
             ],
             [
              0.3333333333333333,
              "#9c179e"
             ],
             [
              0.4444444444444444,
              "#bd3786"
             ],
             [
              0.5555555555555556,
              "#d8576b"
             ],
             [
              0.6666666666666666,
              "#ed7953"
             ],
             [
              0.7777777777777778,
              "#fb9f3a"
             ],
             [
              0.8888888888888888,
              "#fdca26"
             ],
             [
              1,
              "#f0f921"
             ]
            ],
            "type": "heatmapgl"
           }
          ],
          "histogram": [
           {
            "marker": {
             "pattern": {
              "fillmode": "overlay",
              "size": 10,
              "solidity": 0.2
             }
            },
            "type": "histogram"
           }
          ],
          "histogram2d": [
           {
            "colorbar": {
             "outlinewidth": 0,
             "ticks": ""
            },
            "colorscale": [
             [
              0,
              "#0d0887"
             ],
             [
              0.1111111111111111,
              "#46039f"
             ],
             [
              0.2222222222222222,
              "#7201a8"
             ],
             [
              0.3333333333333333,
              "#9c179e"
             ],
             [
              0.4444444444444444,
              "#bd3786"
             ],
             [
              0.5555555555555556,
              "#d8576b"
             ],
             [
              0.6666666666666666,
              "#ed7953"
             ],
             [
              0.7777777777777778,
              "#fb9f3a"
             ],
             [
              0.8888888888888888,
              "#fdca26"
             ],
             [
              1,
              "#f0f921"
             ]
            ],
            "type": "histogram2d"
           }
          ],
          "histogram2dcontour": [
           {
            "colorbar": {
             "outlinewidth": 0,
             "ticks": ""
            },
            "colorscale": [
             [
              0,
              "#0d0887"
             ],
             [
              0.1111111111111111,
              "#46039f"
             ],
             [
              0.2222222222222222,
              "#7201a8"
             ],
             [
              0.3333333333333333,
              "#9c179e"
             ],
             [
              0.4444444444444444,
              "#bd3786"
             ],
             [
              0.5555555555555556,
              "#d8576b"
             ],
             [
              0.6666666666666666,
              "#ed7953"
             ],
             [
              0.7777777777777778,
              "#fb9f3a"
             ],
             [
              0.8888888888888888,
              "#fdca26"
             ],
             [
              1,
              "#f0f921"
             ]
            ],
            "type": "histogram2dcontour"
           }
          ],
          "mesh3d": [
           {
            "colorbar": {
             "outlinewidth": 0,
             "ticks": ""
            },
            "type": "mesh3d"
           }
          ],
          "parcoords": [
           {
            "line": {
             "colorbar": {
              "outlinewidth": 0,
              "ticks": ""
             }
            },
            "type": "parcoords"
           }
          ],
          "pie": [
           {
            "automargin": true,
            "type": "pie"
           }
          ],
          "scatter": [
           {
            "fillpattern": {
             "fillmode": "overlay",
             "size": 10,
             "solidity": 0.2
            },
            "type": "scatter"
           }
          ],
          "scatter3d": [
           {
            "line": {
             "colorbar": {
              "outlinewidth": 0,
              "ticks": ""
             }
            },
            "marker": {
             "colorbar": {
              "outlinewidth": 0,
              "ticks": ""
             }
            },
            "type": "scatter3d"
           }
          ],
          "scattercarpet": [
           {
            "marker": {
             "colorbar": {
              "outlinewidth": 0,
              "ticks": ""
             }
            },
            "type": "scattercarpet"
           }
          ],
          "scattergeo": [
           {
            "marker": {
             "colorbar": {
              "outlinewidth": 0,
              "ticks": ""
             }
            },
            "type": "scattergeo"
           }
          ],
          "scattergl": [
           {
            "marker": {
             "colorbar": {
              "outlinewidth": 0,
              "ticks": ""
             }
            },
            "type": "scattergl"
           }
          ],
          "scattermapbox": [
           {
            "marker": {
             "colorbar": {
              "outlinewidth": 0,
              "ticks": ""
             }
            },
            "type": "scattermapbox"
           }
          ],
          "scatterpolar": [
           {
            "marker": {
             "colorbar": {
              "outlinewidth": 0,
              "ticks": ""
             }
            },
            "type": "scatterpolar"
           }
          ],
          "scatterpolargl": [
           {
            "marker": {
             "colorbar": {
              "outlinewidth": 0,
              "ticks": ""
             }
            },
            "type": "scatterpolargl"
           }
          ],
          "scatterternary": [
           {
            "marker": {
             "colorbar": {
              "outlinewidth": 0,
              "ticks": ""
             }
            },
            "type": "scatterternary"
           }
          ],
          "surface": [
           {
            "colorbar": {
             "outlinewidth": 0,
             "ticks": ""
            },
            "colorscale": [
             [
              0,
              "#0d0887"
             ],
             [
              0.1111111111111111,
              "#46039f"
             ],
             [
              0.2222222222222222,
              "#7201a8"
             ],
             [
              0.3333333333333333,
              "#9c179e"
             ],
             [
              0.4444444444444444,
              "#bd3786"
             ],
             [
              0.5555555555555556,
              "#d8576b"
             ],
             [
              0.6666666666666666,
              "#ed7953"
             ],
             [
              0.7777777777777778,
              "#fb9f3a"
             ],
             [
              0.8888888888888888,
              "#fdca26"
             ],
             [
              1,
              "#f0f921"
             ]
            ],
            "type": "surface"
           }
          ],
          "table": [
           {
            "cells": {
             "fill": {
              "color": "#EBF0F8"
             },
             "line": {
              "color": "white"
             }
            },
            "header": {
             "fill": {
              "color": "#C8D4E3"
             },
             "line": {
              "color": "white"
             }
            },
            "type": "table"
           }
          ]
         },
         "layout": {
          "annotationdefaults": {
           "arrowcolor": "#2a3f5f",
           "arrowhead": 0,
           "arrowwidth": 1
          },
          "autotypenumbers": "strict",
          "coloraxis": {
           "colorbar": {
            "outlinewidth": 0,
            "ticks": ""
           }
          },
          "colorscale": {
           "diverging": [
            [
             0,
             "#8e0152"
            ],
            [
             0.1,
             "#c51b7d"
            ],
            [
             0.2,
             "#de77ae"
            ],
            [
             0.3,
             "#f1b6da"
            ],
            [
             0.4,
             "#fde0ef"
            ],
            [
             0.5,
             "#f7f7f7"
            ],
            [
             0.6,
             "#e6f5d0"
            ],
            [
             0.7,
             "#b8e186"
            ],
            [
             0.8,
             "#7fbc41"
            ],
            [
             0.9,
             "#4d9221"
            ],
            [
             1,
             "#276419"
            ]
           ],
           "sequential": [
            [
             0,
             "#0d0887"
            ],
            [
             0.1111111111111111,
             "#46039f"
            ],
            [
             0.2222222222222222,
             "#7201a8"
            ],
            [
             0.3333333333333333,
             "#9c179e"
            ],
            [
             0.4444444444444444,
             "#bd3786"
            ],
            [
             0.5555555555555556,
             "#d8576b"
            ],
            [
             0.6666666666666666,
             "#ed7953"
            ],
            [
             0.7777777777777778,
             "#fb9f3a"
            ],
            [
             0.8888888888888888,
             "#fdca26"
            ],
            [
             1,
             "#f0f921"
            ]
           ],
           "sequentialminus": [
            [
             0,
             "#0d0887"
            ],
            [
             0.1111111111111111,
             "#46039f"
            ],
            [
             0.2222222222222222,
             "#7201a8"
            ],
            [
             0.3333333333333333,
             "#9c179e"
            ],
            [
             0.4444444444444444,
             "#bd3786"
            ],
            [
             0.5555555555555556,
             "#d8576b"
            ],
            [
             0.6666666666666666,
             "#ed7953"
            ],
            [
             0.7777777777777778,
             "#fb9f3a"
            ],
            [
             0.8888888888888888,
             "#fdca26"
            ],
            [
             1,
             "#f0f921"
            ]
           ]
          },
          "colorway": [
           "#636efa",
           "#EF553B",
           "#00cc96",
           "#ab63fa",
           "#FFA15A",
           "#19d3f3",
           "#FF6692",
           "#B6E880",
           "#FF97FF",
           "#FECB52"
          ],
          "font": {
           "color": "#2a3f5f"
          },
          "geo": {
           "bgcolor": "white",
           "lakecolor": "white",
           "landcolor": "#E5ECF6",
           "showlakes": true,
           "showland": true,
           "subunitcolor": "white"
          },
          "hoverlabel": {
           "align": "left"
          },
          "hovermode": "closest",
          "mapbox": {
           "style": "light"
          },
          "paper_bgcolor": "white",
          "plot_bgcolor": "#E5ECF6",
          "polar": {
           "angularaxis": {
            "gridcolor": "white",
            "linecolor": "white",
            "ticks": ""
           },
           "bgcolor": "#E5ECF6",
           "radialaxis": {
            "gridcolor": "white",
            "linecolor": "white",
            "ticks": ""
           }
          },
          "scene": {
           "xaxis": {
            "backgroundcolor": "#E5ECF6",
            "gridcolor": "white",
            "gridwidth": 2,
            "linecolor": "white",
            "showbackground": true,
            "ticks": "",
            "zerolinecolor": "white"
           },
           "yaxis": {
            "backgroundcolor": "#E5ECF6",
            "gridcolor": "white",
            "gridwidth": 2,
            "linecolor": "white",
            "showbackground": true,
            "ticks": "",
            "zerolinecolor": "white"
           },
           "zaxis": {
            "backgroundcolor": "#E5ECF6",
            "gridcolor": "white",
            "gridwidth": 2,
            "linecolor": "white",
            "showbackground": true,
            "ticks": "",
            "zerolinecolor": "white"
           }
          },
          "shapedefaults": {
           "line": {
            "color": "#2a3f5f"
           }
          },
          "ternary": {
           "aaxis": {
            "gridcolor": "white",
            "linecolor": "white",
            "ticks": ""
           },
           "baxis": {
            "gridcolor": "white",
            "linecolor": "white",
            "ticks": ""
           },
           "bgcolor": "#E5ECF6",
           "caxis": {
            "gridcolor": "white",
            "linecolor": "white",
            "ticks": ""
           }
          },
          "title": {
           "x": 0.05
          },
          "xaxis": {
           "automargin": true,
           "gridcolor": "white",
           "linecolor": "white",
           "ticks": "",
           "title": {
            "standoff": 15
           },
           "zerolinecolor": "white",
           "zerolinewidth": 2
          },
          "yaxis": {
           "automargin": true,
           "gridcolor": "white",
           "linecolor": "white",
           "ticks": "",
           "title": {
            "standoff": 15
           },
           "zerolinecolor": "white",
           "zerolinewidth": 2
          }
         }
        },
        "title": {
         "text": "Kappa 0.7997610655302442"
        },
        "width": 800,
        "xaxis": {
         "title": {
          "text": "Predicted value"
         }
        },
        "yaxis": {
         "title": {
          "text": "Real value"
         }
        }
       }
      }
     },
     "metadata": {},
     "output_type": "display_data"
    },
    {
     "data": {
      "application/vnd.plotly.v1+json": {
       "config": {
        "plotlyServerURL": "https://plot.ly"
       },
       "data": [
        {
         "type": "heatmap",
         "x": [
          0,
          1,
          2,
          3,
          4
         ],
         "y": [
          0,
          1,
          2,
          3,
          4
         ],
         "z": [
          [
           62.19512195121951,
           0,
           0,
           0,
           37.80487804878049
          ],
          [
           0,
           49.029126213592235,
           0,
           0,
           50.970873786407765
          ],
          [
           47.83147459727385,
           0,
           52.168525402726154,
           0,
           0
          ],
          [
           49.84662576687116,
           0,
           0,
           50.15337423312884,
           0
          ],
          [
           49.523809523809526,
           0,
           0,
           0,
           50.476190476190474
          ]
         ]
        }
       ],
       "layout": {
        "annotations": [
         {
          "font": {
           "color": "white"
          },
          "showarrow": false,
          "text": "62.2 - 51",
          "x": 0,
          "xref": "x",
          "y": 0,
          "yref": "y"
         },
         {
          "font": {
           "color": "white"
          },
          "showarrow": false,
          "text": "0.0 - 0",
          "x": 1,
          "xref": "x",
          "y": 0,
          "yref": "y"
         },
         {
          "font": {
           "color": "white"
          },
          "showarrow": false,
          "text": "0.0 - 0",
          "x": 2,
          "xref": "x",
          "y": 0,
          "yref": "y"
         },
         {
          "font": {
           "color": "white"
          },
          "showarrow": false,
          "text": "0.0 - 0",
          "x": 3,
          "xref": "x",
          "y": 0,
          "yref": "y"
         },
         {
          "font": {
           "color": "white"
          },
          "showarrow": false,
          "text": "37.8 - 31",
          "x": 4,
          "xref": "x",
          "y": 0,
          "yref": "y"
         },
         {
          "font": {
           "color": "white"
          },
          "showarrow": false,
          "text": "0.0 - 0",
          "x": 0,
          "xref": "x",
          "y": 1,
          "yref": "y"
         },
         {
          "font": {
           "color": "white"
          },
          "showarrow": false,
          "text": "49.0 - 303",
          "x": 1,
          "xref": "x",
          "y": 1,
          "yref": "y"
         },
         {
          "font": {
           "color": "white"
          },
          "showarrow": false,
          "text": "0.0 - 0",
          "x": 2,
          "xref": "x",
          "y": 1,
          "yref": "y"
         },
         {
          "font": {
           "color": "white"
          },
          "showarrow": false,
          "text": "0.0 - 0",
          "x": 3,
          "xref": "x",
          "y": 1,
          "yref": "y"
         },
         {
          "font": {
           "color": "white"
          },
          "showarrow": false,
          "text": "51.0 - 315",
          "x": 4,
          "xref": "x",
          "y": 1,
          "yref": "y"
         },
         {
          "font": {
           "color": "white"
          },
          "showarrow": false,
          "text": "47.8 - 386",
          "x": 0,
          "xref": "x",
          "y": 2,
          "yref": "y"
         },
         {
          "font": {
           "color": "white"
          },
          "showarrow": false,
          "text": "0.0 - 0",
          "x": 1,
          "xref": "x",
          "y": 2,
          "yref": "y"
         },
         {
          "font": {
           "color": "white"
          },
          "showarrow": false,
          "text": "52.2 - 421",
          "x": 2,
          "xref": "x",
          "y": 2,
          "yref": "y"
         },
         {
          "font": {
           "color": "white"
          },
          "showarrow": false,
          "text": "0.0 - 0",
          "x": 3,
          "xref": "x",
          "y": 2,
          "yref": "y"
         },
         {
          "font": {
           "color": "white"
          },
          "showarrow": false,
          "text": "0.0 - 0",
          "x": 4,
          "xref": "x",
          "y": 2,
          "yref": "y"
         },
         {
          "font": {
           "color": "white"
          },
          "showarrow": false,
          "text": "49.8 - 325",
          "x": 0,
          "xref": "x",
          "y": 3,
          "yref": "y"
         },
         {
          "font": {
           "color": "white"
          },
          "showarrow": false,
          "text": "0.0 - 0",
          "x": 1,
          "xref": "x",
          "y": 3,
          "yref": "y"
         },
         {
          "font": {
           "color": "white"
          },
          "showarrow": false,
          "text": "0.0 - 0",
          "x": 2,
          "xref": "x",
          "y": 3,
          "yref": "y"
         },
         {
          "font": {
           "color": "white"
          },
          "showarrow": false,
          "text": "50.2 - 327",
          "x": 3,
          "xref": "x",
          "y": 3,
          "yref": "y"
         },
         {
          "font": {
           "color": "white"
          },
          "showarrow": false,
          "text": "0.0 - 0",
          "x": 4,
          "xref": "x",
          "y": 3,
          "yref": "y"
         },
         {
          "font": {
           "color": "white"
          },
          "showarrow": false,
          "text": "49.5 - 416",
          "x": 0,
          "xref": "x",
          "y": 4,
          "yref": "y"
         },
         {
          "font": {
           "color": "white"
          },
          "showarrow": false,
          "text": "0.0 - 0",
          "x": 1,
          "xref": "x",
          "y": 4,
          "yref": "y"
         },
         {
          "font": {
           "color": "white"
          },
          "showarrow": false,
          "text": "0.0 - 0",
          "x": 2,
          "xref": "x",
          "y": 4,
          "yref": "y"
         },
         {
          "font": {
           "color": "white"
          },
          "showarrow": false,
          "text": "0.0 - 0",
          "x": 3,
          "xref": "x",
          "y": 4,
          "yref": "y"
         },
         {
          "font": {
           "color": "white"
          },
          "showarrow": false,
          "text": "50.5 - 424",
          "x": 4,
          "xref": "x",
          "y": 4,
          "yref": "y"
         }
        ],
        "height": 800,
        "template": {
         "data": {
          "bar": [
           {
            "error_x": {
             "color": "#2a3f5f"
            },
            "error_y": {
             "color": "#2a3f5f"
            },
            "marker": {
             "line": {
              "color": "#E5ECF6",
              "width": 0.5
             },
             "pattern": {
              "fillmode": "overlay",
              "size": 10,
              "solidity": 0.2
             }
            },
            "type": "bar"
           }
          ],
          "barpolar": [
           {
            "marker": {
             "line": {
              "color": "#E5ECF6",
              "width": 0.5
             },
             "pattern": {
              "fillmode": "overlay",
              "size": 10,
              "solidity": 0.2
             }
            },
            "type": "barpolar"
           }
          ],
          "carpet": [
           {
            "aaxis": {
             "endlinecolor": "#2a3f5f",
             "gridcolor": "white",
             "linecolor": "white",
             "minorgridcolor": "white",
             "startlinecolor": "#2a3f5f"
            },
            "baxis": {
             "endlinecolor": "#2a3f5f",
             "gridcolor": "white",
             "linecolor": "white",
             "minorgridcolor": "white",
             "startlinecolor": "#2a3f5f"
            },
            "type": "carpet"
           }
          ],
          "choropleth": [
           {
            "colorbar": {
             "outlinewidth": 0,
             "ticks": ""
            },
            "type": "choropleth"
           }
          ],
          "contour": [
           {
            "colorbar": {
             "outlinewidth": 0,
             "ticks": ""
            },
            "colorscale": [
             [
              0,
              "#0d0887"
             ],
             [
              0.1111111111111111,
              "#46039f"
             ],
             [
              0.2222222222222222,
              "#7201a8"
             ],
             [
              0.3333333333333333,
              "#9c179e"
             ],
             [
              0.4444444444444444,
              "#bd3786"
             ],
             [
              0.5555555555555556,
              "#d8576b"
             ],
             [
              0.6666666666666666,
              "#ed7953"
             ],
             [
              0.7777777777777778,
              "#fb9f3a"
             ],
             [
              0.8888888888888888,
              "#fdca26"
             ],
             [
              1,
              "#f0f921"
             ]
            ],
            "type": "contour"
           }
          ],
          "contourcarpet": [
           {
            "colorbar": {
             "outlinewidth": 0,
             "ticks": ""
            },
            "type": "contourcarpet"
           }
          ],
          "heatmap": [
           {
            "colorbar": {
             "outlinewidth": 0,
             "ticks": ""
            },
            "colorscale": [
             [
              0,
              "#0d0887"
             ],
             [
              0.1111111111111111,
              "#46039f"
             ],
             [
              0.2222222222222222,
              "#7201a8"
             ],
             [
              0.3333333333333333,
              "#9c179e"
             ],
             [
              0.4444444444444444,
              "#bd3786"
             ],
             [
              0.5555555555555556,
              "#d8576b"
             ],
             [
              0.6666666666666666,
              "#ed7953"
             ],
             [
              0.7777777777777778,
              "#fb9f3a"
             ],
             [
              0.8888888888888888,
              "#fdca26"
             ],
             [
              1,
              "#f0f921"
             ]
            ],
            "type": "heatmap"
           }
          ],
          "heatmapgl": [
           {
            "colorbar": {
             "outlinewidth": 0,
             "ticks": ""
            },
            "colorscale": [
             [
              0,
              "#0d0887"
             ],
             [
              0.1111111111111111,
              "#46039f"
             ],
             [
              0.2222222222222222,
              "#7201a8"
             ],
             [
              0.3333333333333333,
              "#9c179e"
             ],
             [
              0.4444444444444444,
              "#bd3786"
             ],
             [
              0.5555555555555556,
              "#d8576b"
             ],
             [
              0.6666666666666666,
              "#ed7953"
             ],
             [
              0.7777777777777778,
              "#fb9f3a"
             ],
             [
              0.8888888888888888,
              "#fdca26"
             ],
             [
              1,
              "#f0f921"
             ]
            ],
            "type": "heatmapgl"
           }
          ],
          "histogram": [
           {
            "marker": {
             "pattern": {
              "fillmode": "overlay",
              "size": 10,
              "solidity": 0.2
             }
            },
            "type": "histogram"
           }
          ],
          "histogram2d": [
           {
            "colorbar": {
             "outlinewidth": 0,
             "ticks": ""
            },
            "colorscale": [
             [
              0,
              "#0d0887"
             ],
             [
              0.1111111111111111,
              "#46039f"
             ],
             [
              0.2222222222222222,
              "#7201a8"
             ],
             [
              0.3333333333333333,
              "#9c179e"
             ],
             [
              0.4444444444444444,
              "#bd3786"
             ],
             [
              0.5555555555555556,
              "#d8576b"
             ],
             [
              0.6666666666666666,
              "#ed7953"
             ],
             [
              0.7777777777777778,
              "#fb9f3a"
             ],
             [
              0.8888888888888888,
              "#fdca26"
             ],
             [
              1,
              "#f0f921"
             ]
            ],
            "type": "histogram2d"
           }
          ],
          "histogram2dcontour": [
           {
            "colorbar": {
             "outlinewidth": 0,
             "ticks": ""
            },
            "colorscale": [
             [
              0,
              "#0d0887"
             ],
             [
              0.1111111111111111,
              "#46039f"
             ],
             [
              0.2222222222222222,
              "#7201a8"
             ],
             [
              0.3333333333333333,
              "#9c179e"
             ],
             [
              0.4444444444444444,
              "#bd3786"
             ],
             [
              0.5555555555555556,
              "#d8576b"
             ],
             [
              0.6666666666666666,
              "#ed7953"
             ],
             [
              0.7777777777777778,
              "#fb9f3a"
             ],
             [
              0.8888888888888888,
              "#fdca26"
             ],
             [
              1,
              "#f0f921"
             ]
            ],
            "type": "histogram2dcontour"
           }
          ],
          "mesh3d": [
           {
            "colorbar": {
             "outlinewidth": 0,
             "ticks": ""
            },
            "type": "mesh3d"
           }
          ],
          "parcoords": [
           {
            "line": {
             "colorbar": {
              "outlinewidth": 0,
              "ticks": ""
             }
            },
            "type": "parcoords"
           }
          ],
          "pie": [
           {
            "automargin": true,
            "type": "pie"
           }
          ],
          "scatter": [
           {
            "fillpattern": {
             "fillmode": "overlay",
             "size": 10,
             "solidity": 0.2
            },
            "type": "scatter"
           }
          ],
          "scatter3d": [
           {
            "line": {
             "colorbar": {
              "outlinewidth": 0,
              "ticks": ""
             }
            },
            "marker": {
             "colorbar": {
              "outlinewidth": 0,
              "ticks": ""
             }
            },
            "type": "scatter3d"
           }
          ],
          "scattercarpet": [
           {
            "marker": {
             "colorbar": {
              "outlinewidth": 0,
              "ticks": ""
             }
            },
            "type": "scattercarpet"
           }
          ],
          "scattergeo": [
           {
            "marker": {
             "colorbar": {
              "outlinewidth": 0,
              "ticks": ""
             }
            },
            "type": "scattergeo"
           }
          ],
          "scattergl": [
           {
            "marker": {
             "colorbar": {
              "outlinewidth": 0,
              "ticks": ""
             }
            },
            "type": "scattergl"
           }
          ],
          "scattermapbox": [
           {
            "marker": {
             "colorbar": {
              "outlinewidth": 0,
              "ticks": ""
             }
            },
            "type": "scattermapbox"
           }
          ],
          "scatterpolar": [
           {
            "marker": {
             "colorbar": {
              "outlinewidth": 0,
              "ticks": ""
             }
            },
            "type": "scatterpolar"
           }
          ],
          "scatterpolargl": [
           {
            "marker": {
             "colorbar": {
              "outlinewidth": 0,
              "ticks": ""
             }
            },
            "type": "scatterpolargl"
           }
          ],
          "scatterternary": [
           {
            "marker": {
             "colorbar": {
              "outlinewidth": 0,
              "ticks": ""
             }
            },
            "type": "scatterternary"
           }
          ],
          "surface": [
           {
            "colorbar": {
             "outlinewidth": 0,
             "ticks": ""
            },
            "colorscale": [
             [
              0,
              "#0d0887"
             ],
             [
              0.1111111111111111,
              "#46039f"
             ],
             [
              0.2222222222222222,
              "#7201a8"
             ],
             [
              0.3333333333333333,
              "#9c179e"
             ],
             [
              0.4444444444444444,
              "#bd3786"
             ],
             [
              0.5555555555555556,
              "#d8576b"
             ],
             [
              0.6666666666666666,
              "#ed7953"
             ],
             [
              0.7777777777777778,
              "#fb9f3a"
             ],
             [
              0.8888888888888888,
              "#fdca26"
             ],
             [
              1,
              "#f0f921"
             ]
            ],
            "type": "surface"
           }
          ],
          "table": [
           {
            "cells": {
             "fill": {
              "color": "#EBF0F8"
             },
             "line": {
              "color": "white"
             }
            },
            "header": {
             "fill": {
              "color": "#C8D4E3"
             },
             "line": {
              "color": "white"
             }
            },
            "type": "table"
           }
          ]
         },
         "layout": {
          "annotationdefaults": {
           "arrowcolor": "#2a3f5f",
           "arrowhead": 0,
           "arrowwidth": 1
          },
          "autotypenumbers": "strict",
          "coloraxis": {
           "colorbar": {
            "outlinewidth": 0,
            "ticks": ""
           }
          },
          "colorscale": {
           "diverging": [
            [
             0,
             "#8e0152"
            ],
            [
             0.1,
             "#c51b7d"
            ],
            [
             0.2,
             "#de77ae"
            ],
            [
             0.3,
             "#f1b6da"
            ],
            [
             0.4,
             "#fde0ef"
            ],
            [
             0.5,
             "#f7f7f7"
            ],
            [
             0.6,
             "#e6f5d0"
            ],
            [
             0.7,
             "#b8e186"
            ],
            [
             0.8,
             "#7fbc41"
            ],
            [
             0.9,
             "#4d9221"
            ],
            [
             1,
             "#276419"
            ]
           ],
           "sequential": [
            [
             0,
             "#0d0887"
            ],
            [
             0.1111111111111111,
             "#46039f"
            ],
            [
             0.2222222222222222,
             "#7201a8"
            ],
            [
             0.3333333333333333,
             "#9c179e"
            ],
            [
             0.4444444444444444,
             "#bd3786"
            ],
            [
             0.5555555555555556,
             "#d8576b"
            ],
            [
             0.6666666666666666,
             "#ed7953"
            ],
            [
             0.7777777777777778,
             "#fb9f3a"
            ],
            [
             0.8888888888888888,
             "#fdca26"
            ],
            [
             1,
             "#f0f921"
            ]
           ],
           "sequentialminus": [
            [
             0,
             "#0d0887"
            ],
            [
             0.1111111111111111,
             "#46039f"
            ],
            [
             0.2222222222222222,
             "#7201a8"
            ],
            [
             0.3333333333333333,
             "#9c179e"
            ],
            [
             0.4444444444444444,
             "#bd3786"
            ],
            [
             0.5555555555555556,
             "#d8576b"
            ],
            [
             0.6666666666666666,
             "#ed7953"
            ],
            [
             0.7777777777777778,
             "#fb9f3a"
            ],
            [
             0.8888888888888888,
             "#fdca26"
            ],
            [
             1,
             "#f0f921"
            ]
           ]
          },
          "colorway": [
           "#636efa",
           "#EF553B",
           "#00cc96",
           "#ab63fa",
           "#FFA15A",
           "#19d3f3",
           "#FF6692",
           "#B6E880",
           "#FF97FF",
           "#FECB52"
          ],
          "font": {
           "color": "#2a3f5f"
          },
          "geo": {
           "bgcolor": "white",
           "lakecolor": "white",
           "landcolor": "#E5ECF6",
           "showlakes": true,
           "showland": true,
           "subunitcolor": "white"
          },
          "hoverlabel": {
           "align": "left"
          },
          "hovermode": "closest",
          "mapbox": {
           "style": "light"
          },
          "paper_bgcolor": "white",
          "plot_bgcolor": "#E5ECF6",
          "polar": {
           "angularaxis": {
            "gridcolor": "white",
            "linecolor": "white",
            "ticks": ""
           },
           "bgcolor": "#E5ECF6",
           "radialaxis": {
            "gridcolor": "white",
            "linecolor": "white",
            "ticks": ""
           }
          },
          "scene": {
           "xaxis": {
            "backgroundcolor": "#E5ECF6",
            "gridcolor": "white",
            "gridwidth": 2,
            "linecolor": "white",
            "showbackground": true,
            "ticks": "",
            "zerolinecolor": "white"
           },
           "yaxis": {
            "backgroundcolor": "#E5ECF6",
            "gridcolor": "white",
            "gridwidth": 2,
            "linecolor": "white",
            "showbackground": true,
            "ticks": "",
            "zerolinecolor": "white"
           },
           "zaxis": {
            "backgroundcolor": "#E5ECF6",
            "gridcolor": "white",
            "gridwidth": 2,
            "linecolor": "white",
            "showbackground": true,
            "ticks": "",
            "zerolinecolor": "white"
           }
          },
          "shapedefaults": {
           "line": {
            "color": "#2a3f5f"
           }
          },
          "ternary": {
           "aaxis": {
            "gridcolor": "white",
            "linecolor": "white",
            "ticks": ""
           },
           "baxis": {
            "gridcolor": "white",
            "linecolor": "white",
            "ticks": ""
           },
           "bgcolor": "#E5ECF6",
           "caxis": {
            "gridcolor": "white",
            "linecolor": "white",
            "ticks": ""
           }
          },
          "title": {
           "x": 0.05
          },
          "xaxis": {
           "automargin": true,
           "gridcolor": "white",
           "linecolor": "white",
           "ticks": "",
           "title": {
            "standoff": 15
           },
           "zerolinecolor": "white",
           "zerolinewidth": 2
          },
          "yaxis": {
           "automargin": true,
           "gridcolor": "white",
           "linecolor": "white",
           "ticks": "",
           "title": {
            "standoff": 15
           },
           "zerolinecolor": "white",
           "zerolinewidth": 2
          }
         }
        },
        "title": {
         "text": "Kappa -0.018123321173214357"
        },
        "width": 800,
        "xaxis": {
         "title": {
          "text": "Predicted value"
         }
        },
        "yaxis": {
         "title": {
          "text": "Real value"
         }
        }
       }
      }
     },
     "metadata": {},
     "output_type": "display_data"
    }
   ],
   "source": [
    "y_simulado_cerca = [y_test.iloc[sample] if random_list[sample]<50/100 else y_cerca[sample] for sample in range(len(y_test))]\n",
    "\n",
    "display(plot_confusion_matrix(y_test,y_simulado_cerca, \n",
    "                              title = \"Kappa \" + str(cohen_kappa_score(y_test,y_simulado_cerca, weights = 'quadratic'))))\n",
    "\n",
    "\n",
    "y_simulado_lejos = [y_test.iloc[sample] if random_list[sample]<50/100 else y_lejos[sample] for sample in range(len(y_test))]\n",
    "\n",
    "display(plot_confusion_matrix(y_test,y_simulado_lejos, \n",
    "                              title = \"Kappa \" + str(cohen_kappa_score(y_test,y_simulado_lejos, weights = 'quadratic'))))\n"
   ]
  },
  {
   "cell_type": "code",
   "execution_count": 19,
   "metadata": {},
   "outputs": [
    {
     "name": "stdout",
     "output_type": "stream",
     "text": [
      "[LightGBM] [Info] Number of positive: 328, number of negative: 11666\n",
      "[LightGBM] [Info] Number of positive: 2472, number of negative: 9522\n",
      "[LightGBM] [Info] Number of positive: 3230, number of negative: 8764\n",
      "[LightGBM] [Info] Number of positive: 2607, number of negative: 9387\n",
      "[LightGBM] [Info] Number of positive: 3357, number of negative: 8637\n",
      "[LightGBM] [Info] Auto-choosing row-wise multi-threading, the overhead of testing was 0.002194 seconds.\n",
      "You can set `force_row_wise=true` to remove the overhead.\n",
      "And if memory is not enough, you can set `force_col_wise=true`.\n",
      "[LightGBM] [Info] Total Bins 438\n",
      "[LightGBM] [Info] Number of data points in the train set: 11994, number of used features: 19\n",
      "[LightGBM] [Info] [binary:BoostFromScore]: pavg=0.027347 -> initscore=-3.571420\n",
      "[LightGBM] [Info] Start training from score -3.571420\n",
      "[LightGBM] [Info] [binary:BoostFromScore]: pavg=0.206103 -> initscore=-1.348577\n",
      "[LightGBM] [Info] Start training from score -1.348577\n",
      "[LightGBM] [Info] [binary:BoostFromScore]: pavg=0.269301 -> initscore=-0.998170\n",
      "[LightGBM] [Info] Start training from score -0.998170\n",
      "[LightGBM] [Info] [binary:BoostFromScore]: pavg=0.217359 -> initscore=-1.281126\n",
      "[LightGBM] [Info] Start training from score -1.281126\n",
      "[LightGBM] [Info] [binary:BoostFromScore]: pavg=0.279890 -> initscore=-0.945008\n",
      "[LightGBM] [Info] Start training from score -0.945008\n"
     ]
    }
   ],
   "source": [
    "lgb_params = params = {\n",
    "                        'objective': 'multiclassova',\n",
    "                        'num_class': len(y_train.unique())\n",
    "                        }\n",
    "\n",
    "\n",
    "lgb_train_dataset = lgb.Dataset(data=X_train,\n",
    "                                label=y_train)\n",
    "\n",
    "\n",
    "lgb_model = lgb.train(lgb_params,\n",
    "                      lgb_train_dataset)"
   ]
  },
  {
   "cell_type": "code",
   "execution_count": 20,
   "metadata": {},
   "outputs": [
    {
     "data": {
      "application/vnd.plotly.v1+json": {
       "config": {
        "plotlyServerURL": "https://plot.ly"
       },
       "data": [
        {
         "type": "heatmap",
         "x": [
          0,
          1,
          2,
          3,
          4
         ],
         "y": [
          0,
          1,
          2,
          3,
          4
         ],
         "z": [
          [
           7.317073170731707,
           39.02439024390244,
           28.04878048780488,
           7.317073170731707,
           18.29268292682927
          ],
          [
           0.48543689320388345,
           32.847896440129446,
           37.37864077669903,
           7.766990291262135,
           21.521035598705502
          ],
          [
           0.12391573729863693,
           21.437422552664188,
           38.53779429987608,
           11.152416356877323,
           28.74845105328377
          ],
          [
           0.4601226993865031,
           16.87116564417178,
           33.58895705521473,
           19.32515337423313,
           29.754601226993866
          ],
          [
           0.11904761904761905,
           9.047619047619047,
           21.785714285714285,
           6.190476190476191,
           62.857142857142854
          ]
         ]
        }
       ],
       "layout": {
        "annotations": [
         {
          "font": {
           "color": "white"
          },
          "showarrow": false,
          "text": "7.3 - 6",
          "x": 0,
          "xref": "x",
          "y": 0,
          "yref": "y"
         },
         {
          "font": {
           "color": "white"
          },
          "showarrow": false,
          "text": "39.0 - 32",
          "x": 1,
          "xref": "x",
          "y": 0,
          "yref": "y"
         },
         {
          "font": {
           "color": "white"
          },
          "showarrow": false,
          "text": "28.0 - 23",
          "x": 2,
          "xref": "x",
          "y": 0,
          "yref": "y"
         },
         {
          "font": {
           "color": "white"
          },
          "showarrow": false,
          "text": "7.3 - 6",
          "x": 3,
          "xref": "x",
          "y": 0,
          "yref": "y"
         },
         {
          "font": {
           "color": "white"
          },
          "showarrow": false,
          "text": "18.3 - 15",
          "x": 4,
          "xref": "x",
          "y": 0,
          "yref": "y"
         },
         {
          "font": {
           "color": "white"
          },
          "showarrow": false,
          "text": "0.5 - 3",
          "x": 0,
          "xref": "x",
          "y": 1,
          "yref": "y"
         },
         {
          "font": {
           "color": "white"
          },
          "showarrow": false,
          "text": "32.8 - 203",
          "x": 1,
          "xref": "x",
          "y": 1,
          "yref": "y"
         },
         {
          "font": {
           "color": "white"
          },
          "showarrow": false,
          "text": "37.4 - 231",
          "x": 2,
          "xref": "x",
          "y": 1,
          "yref": "y"
         },
         {
          "font": {
           "color": "white"
          },
          "showarrow": false,
          "text": "7.8 - 48",
          "x": 3,
          "xref": "x",
          "y": 1,
          "yref": "y"
         },
         {
          "font": {
           "color": "white"
          },
          "showarrow": false,
          "text": "21.5 - 133",
          "x": 4,
          "xref": "x",
          "y": 1,
          "yref": "y"
         },
         {
          "font": {
           "color": "white"
          },
          "showarrow": false,
          "text": "0.1 - 1",
          "x": 0,
          "xref": "x",
          "y": 2,
          "yref": "y"
         },
         {
          "font": {
           "color": "white"
          },
          "showarrow": false,
          "text": "21.4 - 173",
          "x": 1,
          "xref": "x",
          "y": 2,
          "yref": "y"
         },
         {
          "font": {
           "color": "white"
          },
          "showarrow": false,
          "text": "38.5 - 311",
          "x": 2,
          "xref": "x",
          "y": 2,
          "yref": "y"
         },
         {
          "font": {
           "color": "white"
          },
          "showarrow": false,
          "text": "11.2 - 90",
          "x": 3,
          "xref": "x",
          "y": 2,
          "yref": "y"
         },
         {
          "font": {
           "color": "white"
          },
          "showarrow": false,
          "text": "28.7 - 232",
          "x": 4,
          "xref": "x",
          "y": 2,
          "yref": "y"
         },
         {
          "font": {
           "color": "white"
          },
          "showarrow": false,
          "text": "0.5 - 3",
          "x": 0,
          "xref": "x",
          "y": 3,
          "yref": "y"
         },
         {
          "font": {
           "color": "white"
          },
          "showarrow": false,
          "text": "16.9 - 110",
          "x": 1,
          "xref": "x",
          "y": 3,
          "yref": "y"
         },
         {
          "font": {
           "color": "white"
          },
          "showarrow": false,
          "text": "33.6 - 219",
          "x": 2,
          "xref": "x",
          "y": 3,
          "yref": "y"
         },
         {
          "font": {
           "color": "white"
          },
          "showarrow": false,
          "text": "19.3 - 126",
          "x": 3,
          "xref": "x",
          "y": 3,
          "yref": "y"
         },
         {
          "font": {
           "color": "white"
          },
          "showarrow": false,
          "text": "29.8 - 194",
          "x": 4,
          "xref": "x",
          "y": 3,
          "yref": "y"
         },
         {
          "font": {
           "color": "white"
          },
          "showarrow": false,
          "text": "0.1 - 1",
          "x": 0,
          "xref": "x",
          "y": 4,
          "yref": "y"
         },
         {
          "font": {
           "color": "white"
          },
          "showarrow": false,
          "text": "9.0 - 76",
          "x": 1,
          "xref": "x",
          "y": 4,
          "yref": "y"
         },
         {
          "font": {
           "color": "white"
          },
          "showarrow": false,
          "text": "21.8 - 183",
          "x": 2,
          "xref": "x",
          "y": 4,
          "yref": "y"
         },
         {
          "font": {
           "color": "white"
          },
          "showarrow": false,
          "text": "6.2 - 52",
          "x": 3,
          "xref": "x",
          "y": 4,
          "yref": "y"
         },
         {
          "font": {
           "color": "white"
          },
          "showarrow": false,
          "text": "62.9 - 528",
          "x": 4,
          "xref": "x",
          "y": 4,
          "yref": "y"
         }
        ],
        "height": 800,
        "template": {
         "data": {
          "bar": [
           {
            "error_x": {
             "color": "#2a3f5f"
            },
            "error_y": {
             "color": "#2a3f5f"
            },
            "marker": {
             "line": {
              "color": "#E5ECF6",
              "width": 0.5
             },
             "pattern": {
              "fillmode": "overlay",
              "size": 10,
              "solidity": 0.2
             }
            },
            "type": "bar"
           }
          ],
          "barpolar": [
           {
            "marker": {
             "line": {
              "color": "#E5ECF6",
              "width": 0.5
             },
             "pattern": {
              "fillmode": "overlay",
              "size": 10,
              "solidity": 0.2
             }
            },
            "type": "barpolar"
           }
          ],
          "carpet": [
           {
            "aaxis": {
             "endlinecolor": "#2a3f5f",
             "gridcolor": "white",
             "linecolor": "white",
             "minorgridcolor": "white",
             "startlinecolor": "#2a3f5f"
            },
            "baxis": {
             "endlinecolor": "#2a3f5f",
             "gridcolor": "white",
             "linecolor": "white",
             "minorgridcolor": "white",
             "startlinecolor": "#2a3f5f"
            },
            "type": "carpet"
           }
          ],
          "choropleth": [
           {
            "colorbar": {
             "outlinewidth": 0,
             "ticks": ""
            },
            "type": "choropleth"
           }
          ],
          "contour": [
           {
            "colorbar": {
             "outlinewidth": 0,
             "ticks": ""
            },
            "colorscale": [
             [
              0,
              "#0d0887"
             ],
             [
              0.1111111111111111,
              "#46039f"
             ],
             [
              0.2222222222222222,
              "#7201a8"
             ],
             [
              0.3333333333333333,
              "#9c179e"
             ],
             [
              0.4444444444444444,
              "#bd3786"
             ],
             [
              0.5555555555555556,
              "#d8576b"
             ],
             [
              0.6666666666666666,
              "#ed7953"
             ],
             [
              0.7777777777777778,
              "#fb9f3a"
             ],
             [
              0.8888888888888888,
              "#fdca26"
             ],
             [
              1,
              "#f0f921"
             ]
            ],
            "type": "contour"
           }
          ],
          "contourcarpet": [
           {
            "colorbar": {
             "outlinewidth": 0,
             "ticks": ""
            },
            "type": "contourcarpet"
           }
          ],
          "heatmap": [
           {
            "colorbar": {
             "outlinewidth": 0,
             "ticks": ""
            },
            "colorscale": [
             [
              0,
              "#0d0887"
             ],
             [
              0.1111111111111111,
              "#46039f"
             ],
             [
              0.2222222222222222,
              "#7201a8"
             ],
             [
              0.3333333333333333,
              "#9c179e"
             ],
             [
              0.4444444444444444,
              "#bd3786"
             ],
             [
              0.5555555555555556,
              "#d8576b"
             ],
             [
              0.6666666666666666,
              "#ed7953"
             ],
             [
              0.7777777777777778,
              "#fb9f3a"
             ],
             [
              0.8888888888888888,
              "#fdca26"
             ],
             [
              1,
              "#f0f921"
             ]
            ],
            "type": "heatmap"
           }
          ],
          "heatmapgl": [
           {
            "colorbar": {
             "outlinewidth": 0,
             "ticks": ""
            },
            "colorscale": [
             [
              0,
              "#0d0887"
             ],
             [
              0.1111111111111111,
              "#46039f"
             ],
             [
              0.2222222222222222,
              "#7201a8"
             ],
             [
              0.3333333333333333,
              "#9c179e"
             ],
             [
              0.4444444444444444,
              "#bd3786"
             ],
             [
              0.5555555555555556,
              "#d8576b"
             ],
             [
              0.6666666666666666,
              "#ed7953"
             ],
             [
              0.7777777777777778,
              "#fb9f3a"
             ],
             [
              0.8888888888888888,
              "#fdca26"
             ],
             [
              1,
              "#f0f921"
             ]
            ],
            "type": "heatmapgl"
           }
          ],
          "histogram": [
           {
            "marker": {
             "pattern": {
              "fillmode": "overlay",
              "size": 10,
              "solidity": 0.2
             }
            },
            "type": "histogram"
           }
          ],
          "histogram2d": [
           {
            "colorbar": {
             "outlinewidth": 0,
             "ticks": ""
            },
            "colorscale": [
             [
              0,
              "#0d0887"
             ],
             [
              0.1111111111111111,
              "#46039f"
             ],
             [
              0.2222222222222222,
              "#7201a8"
             ],
             [
              0.3333333333333333,
              "#9c179e"
             ],
             [
              0.4444444444444444,
              "#bd3786"
             ],
             [
              0.5555555555555556,
              "#d8576b"
             ],
             [
              0.6666666666666666,
              "#ed7953"
             ],
             [
              0.7777777777777778,
              "#fb9f3a"
             ],
             [
              0.8888888888888888,
              "#fdca26"
             ],
             [
              1,
              "#f0f921"
             ]
            ],
            "type": "histogram2d"
           }
          ],
          "histogram2dcontour": [
           {
            "colorbar": {
             "outlinewidth": 0,
             "ticks": ""
            },
            "colorscale": [
             [
              0,
              "#0d0887"
             ],
             [
              0.1111111111111111,
              "#46039f"
             ],
             [
              0.2222222222222222,
              "#7201a8"
             ],
             [
              0.3333333333333333,
              "#9c179e"
             ],
             [
              0.4444444444444444,
              "#bd3786"
             ],
             [
              0.5555555555555556,
              "#d8576b"
             ],
             [
              0.6666666666666666,
              "#ed7953"
             ],
             [
              0.7777777777777778,
              "#fb9f3a"
             ],
             [
              0.8888888888888888,
              "#fdca26"
             ],
             [
              1,
              "#f0f921"
             ]
            ],
            "type": "histogram2dcontour"
           }
          ],
          "mesh3d": [
           {
            "colorbar": {
             "outlinewidth": 0,
             "ticks": ""
            },
            "type": "mesh3d"
           }
          ],
          "parcoords": [
           {
            "line": {
             "colorbar": {
              "outlinewidth": 0,
              "ticks": ""
             }
            },
            "type": "parcoords"
           }
          ],
          "pie": [
           {
            "automargin": true,
            "type": "pie"
           }
          ],
          "scatter": [
           {
            "fillpattern": {
             "fillmode": "overlay",
             "size": 10,
             "solidity": 0.2
            },
            "type": "scatter"
           }
          ],
          "scatter3d": [
           {
            "line": {
             "colorbar": {
              "outlinewidth": 0,
              "ticks": ""
             }
            },
            "marker": {
             "colorbar": {
              "outlinewidth": 0,
              "ticks": ""
             }
            },
            "type": "scatter3d"
           }
          ],
          "scattercarpet": [
           {
            "marker": {
             "colorbar": {
              "outlinewidth": 0,
              "ticks": ""
             }
            },
            "type": "scattercarpet"
           }
          ],
          "scattergeo": [
           {
            "marker": {
             "colorbar": {
              "outlinewidth": 0,
              "ticks": ""
             }
            },
            "type": "scattergeo"
           }
          ],
          "scattergl": [
           {
            "marker": {
             "colorbar": {
              "outlinewidth": 0,
              "ticks": ""
             }
            },
            "type": "scattergl"
           }
          ],
          "scattermapbox": [
           {
            "marker": {
             "colorbar": {
              "outlinewidth": 0,
              "ticks": ""
             }
            },
            "type": "scattermapbox"
           }
          ],
          "scatterpolar": [
           {
            "marker": {
             "colorbar": {
              "outlinewidth": 0,
              "ticks": ""
             }
            },
            "type": "scatterpolar"
           }
          ],
          "scatterpolargl": [
           {
            "marker": {
             "colorbar": {
              "outlinewidth": 0,
              "ticks": ""
             }
            },
            "type": "scatterpolargl"
           }
          ],
          "scatterternary": [
           {
            "marker": {
             "colorbar": {
              "outlinewidth": 0,
              "ticks": ""
             }
            },
            "type": "scatterternary"
           }
          ],
          "surface": [
           {
            "colorbar": {
             "outlinewidth": 0,
             "ticks": ""
            },
            "colorscale": [
             [
              0,
              "#0d0887"
             ],
             [
              0.1111111111111111,
              "#46039f"
             ],
             [
              0.2222222222222222,
              "#7201a8"
             ],
             [
              0.3333333333333333,
              "#9c179e"
             ],
             [
              0.4444444444444444,
              "#bd3786"
             ],
             [
              0.5555555555555556,
              "#d8576b"
             ],
             [
              0.6666666666666666,
              "#ed7953"
             ],
             [
              0.7777777777777778,
              "#fb9f3a"
             ],
             [
              0.8888888888888888,
              "#fdca26"
             ],
             [
              1,
              "#f0f921"
             ]
            ],
            "type": "surface"
           }
          ],
          "table": [
           {
            "cells": {
             "fill": {
              "color": "#EBF0F8"
             },
             "line": {
              "color": "white"
             }
            },
            "header": {
             "fill": {
              "color": "#C8D4E3"
             },
             "line": {
              "color": "white"
             }
            },
            "type": "table"
           }
          ]
         },
         "layout": {
          "annotationdefaults": {
           "arrowcolor": "#2a3f5f",
           "arrowhead": 0,
           "arrowwidth": 1
          },
          "autotypenumbers": "strict",
          "coloraxis": {
           "colorbar": {
            "outlinewidth": 0,
            "ticks": ""
           }
          },
          "colorscale": {
           "diverging": [
            [
             0,
             "#8e0152"
            ],
            [
             0.1,
             "#c51b7d"
            ],
            [
             0.2,
             "#de77ae"
            ],
            [
             0.3,
             "#f1b6da"
            ],
            [
             0.4,
             "#fde0ef"
            ],
            [
             0.5,
             "#f7f7f7"
            ],
            [
             0.6,
             "#e6f5d0"
            ],
            [
             0.7,
             "#b8e186"
            ],
            [
             0.8,
             "#7fbc41"
            ],
            [
             0.9,
             "#4d9221"
            ],
            [
             1,
             "#276419"
            ]
           ],
           "sequential": [
            [
             0,
             "#0d0887"
            ],
            [
             0.1111111111111111,
             "#46039f"
            ],
            [
             0.2222222222222222,
             "#7201a8"
            ],
            [
             0.3333333333333333,
             "#9c179e"
            ],
            [
             0.4444444444444444,
             "#bd3786"
            ],
            [
             0.5555555555555556,
             "#d8576b"
            ],
            [
             0.6666666666666666,
             "#ed7953"
            ],
            [
             0.7777777777777778,
             "#fb9f3a"
            ],
            [
             0.8888888888888888,
             "#fdca26"
            ],
            [
             1,
             "#f0f921"
            ]
           ],
           "sequentialminus": [
            [
             0,
             "#0d0887"
            ],
            [
             0.1111111111111111,
             "#46039f"
            ],
            [
             0.2222222222222222,
             "#7201a8"
            ],
            [
             0.3333333333333333,
             "#9c179e"
            ],
            [
             0.4444444444444444,
             "#bd3786"
            ],
            [
             0.5555555555555556,
             "#d8576b"
            ],
            [
             0.6666666666666666,
             "#ed7953"
            ],
            [
             0.7777777777777778,
             "#fb9f3a"
            ],
            [
             0.8888888888888888,
             "#fdca26"
            ],
            [
             1,
             "#f0f921"
            ]
           ]
          },
          "colorway": [
           "#636efa",
           "#EF553B",
           "#00cc96",
           "#ab63fa",
           "#FFA15A",
           "#19d3f3",
           "#FF6692",
           "#B6E880",
           "#FF97FF",
           "#FECB52"
          ],
          "font": {
           "color": "#2a3f5f"
          },
          "geo": {
           "bgcolor": "white",
           "lakecolor": "white",
           "landcolor": "#E5ECF6",
           "showlakes": true,
           "showland": true,
           "subunitcolor": "white"
          },
          "hoverlabel": {
           "align": "left"
          },
          "hovermode": "closest",
          "mapbox": {
           "style": "light"
          },
          "paper_bgcolor": "white",
          "plot_bgcolor": "#E5ECF6",
          "polar": {
           "angularaxis": {
            "gridcolor": "white",
            "linecolor": "white",
            "ticks": ""
           },
           "bgcolor": "#E5ECF6",
           "radialaxis": {
            "gridcolor": "white",
            "linecolor": "white",
            "ticks": ""
           }
          },
          "scene": {
           "xaxis": {
            "backgroundcolor": "#E5ECF6",
            "gridcolor": "white",
            "gridwidth": 2,
            "linecolor": "white",
            "showbackground": true,
            "ticks": "",
            "zerolinecolor": "white"
           },
           "yaxis": {
            "backgroundcolor": "#E5ECF6",
            "gridcolor": "white",
            "gridwidth": 2,
            "linecolor": "white",
            "showbackground": true,
            "ticks": "",
            "zerolinecolor": "white"
           },
           "zaxis": {
            "backgroundcolor": "#E5ECF6",
            "gridcolor": "white",
            "gridwidth": 2,
            "linecolor": "white",
            "showbackground": true,
            "ticks": "",
            "zerolinecolor": "white"
           }
          },
          "shapedefaults": {
           "line": {
            "color": "#2a3f5f"
           }
          },
          "ternary": {
           "aaxis": {
            "gridcolor": "white",
            "linecolor": "white",
            "ticks": ""
           },
           "baxis": {
            "gridcolor": "white",
            "linecolor": "white",
            "ticks": ""
           },
           "bgcolor": "#E5ECF6",
           "caxis": {
            "gridcolor": "white",
            "linecolor": "white",
            "ticks": ""
           }
          },
          "title": {
           "x": 0.05
          },
          "xaxis": {
           "automargin": true,
           "gridcolor": "white",
           "linecolor": "white",
           "ticks": "",
           "title": {
            "standoff": 15
           },
           "zerolinecolor": "white",
           "zerolinewidth": 2
          },
          "yaxis": {
           "automargin": true,
           "gridcolor": "white",
           "linecolor": "white",
           "ticks": "",
           "title": {
            "standoff": 15
           },
           "zerolinecolor": "white",
           "zerolinewidth": 2
          }
         }
        },
        "title": {
         "text": "Conf Matrix"
        },
        "width": 800,
        "xaxis": {
         "title": {
          "text": "Predicted value"
         }
        },
        "yaxis": {
         "title": {
          "text": "Real value"
         }
        }
       }
      }
     },
     "metadata": {},
     "output_type": "display_data"
    },
    {
     "data": {
      "text/plain": [
       "{'kappa': 0.33093403829656054,\n",
       " 'accuracy': 0.3914638212737579,\n",
       " 'balanced_accuracy': 0.32177012028422647}"
      ]
     },
     "execution_count": 20,
     "metadata": {},
     "output_type": "execute_result"
    }
   ],
   "source": [
    "\n",
    "y_pred = lgb_model.predict(X_test).argmax(axis=1)\n",
    "\n",
    "display(plot_confusion_matrix(y_test,y_pred))\n",
    "\n",
    "{'kappa':cohen_kappa_score(y_test,\n",
    "                y_pred,\n",
    "                weights = 'quadratic'),\n",
    " 'accuracy':accuracy_score(y_test,y_pred),\n",
    " 'balanced_accuracy':balanced_accuracy_score(y_test,y_pred)}\n",
    "\n",
    "\n"
   ]
  },
  {
   "cell_type": "code",
   "execution_count": 21,
   "metadata": {},
   "outputs": [],
   "source": [
    "def lgb_objective(trial):\n",
    "    lgb_params = {      \n",
    "                        'objective': 'multiclass',\n",
    "                        'verbosity':-1,\n",
    "                        'num_class': len(y_train.unique()),\n",
    "                        'lambda_l1': trial.suggest_float('lambda_l1', 1e-8, 10.0, log=True),\n",
    "                        'lambda_l2': trial.suggest_float('lambda_l2', 1e-8, 10.0, log=True),\n",
    "                        'num_leaves': trial.suggest_int('num_leaves', 2, 256),\n",
    "                        'feature_fraction': trial.suggest_float('feature_fraction', 0.4, 1.0),\n",
    "                        'bagging_fraction': trial.suggest_float('bagging_fraction', 0.4, 1.0),\n",
    "                        'bagging_freq': trial.suggest_int('bagging_freq', 1, 7),\n",
    "                        'min_child_samples': trial.suggest_int('min_child_samples', 5, 100),\n",
    "                        } \n",
    "\n",
    "\n",
    "    lgb_train_dataset = lgb.Dataset(data=X_train,\n",
    "                                    label=y_train)\n",
    "\n",
    "\n",
    "    lgb_model = lgb.train(lgb_params,\n",
    "                        lgb_train_dataset)\n",
    "    \n",
    "    return(cohen_kappa_score(y_test,lgb_model.predict(X_test).argmax(axis=1),\n",
    "                             weights = 'quadratic'))"
   ]
  },
  {
   "cell_type": "code",
   "execution_count": 22,
   "metadata": {},
   "outputs": [
    {
     "name": "stderr",
     "output_type": "stream",
     "text": [
      "[I 2024-06-13 22:03:20,269] Using an existing study with name '04 - LGB Multiclass' instead of creating a new one.\n",
      "[I 2024-06-13 22:03:25,304] Trial 400 finished with value: 0.31143305409188915 and parameters: {'lambda_l1': 2.5935245068478135e-06, 'lambda_l2': 1.968578919680321e-05, 'num_leaves': 162, 'feature_fraction': 0.6547975497824176, 'bagging_fraction': 0.9438901021590395, 'bagging_freq': 3, 'min_child_samples': 71}. Best is trial 249 with value: 0.3373122568842639.\n",
      "[I 2024-06-13 22:03:29,539] Trial 401 finished with value: 0.3023351503131606 and parameters: {'lambda_l1': 0.00011745709239910154, 'lambda_l2': 9.710510791077583, 'num_leaves': 153, 'feature_fraction': 0.6919329890376786, 'bagging_fraction': 0.982502527941771, 'bagging_freq': 3, 'min_child_samples': 69}. Best is trial 249 with value: 0.3373122568842639.\n",
      "[I 2024-06-13 22:03:30,058] Trial 402 finished with value: 0.3062987532336994 and parameters: {'lambda_l1': 4.7507644572621826e-06, 'lambda_l2': 1.0319122068024043e-06, 'num_leaves': 7, 'feature_fraction': 0.9723476440192542, 'bagging_fraction': 0.9140100122674971, 'bagging_freq': 2, 'min_child_samples': 59}. Best is trial 249 with value: 0.3373122568842639.\n",
      "[I 2024-06-13 22:03:31,057] Trial 403 finished with value: 0.32356575517374964 and parameters: {'lambda_l1': 2.194523878664629e-05, 'lambda_l2': 2.887590008522315e-05, 'num_leaves': 16, 'feature_fraction': 0.6350899412881041, 'bagging_fraction': 0.9515928321939319, 'bagging_freq': 3, 'min_child_samples': 82}. Best is trial 249 with value: 0.3373122568842639.\n",
      "[I 2024-06-13 22:03:32,205] Trial 404 finished with value: 0.33229805021679715 and parameters: {'lambda_l1': 8.869703766721705e-06, 'lambda_l2': 1.2506123545345732e-05, 'num_leaves': 19, 'feature_fraction': 0.6774367346807961, 'bagging_fraction': 0.9698549723860974, 'bagging_freq': 3, 'min_child_samples': 76}. Best is trial 249 with value: 0.3373122568842639.\n",
      "[I 2024-06-13 22:03:34,077] Trial 405 finished with value: 0.3206150495948581 and parameters: {'lambda_l1': 6.500588107075394e-06, 'lambda_l2': 1.0504749475970585e-05, 'num_leaves': 30, 'feature_fraction': 0.8295220104728959, 'bagging_fraction': 0.9990845568815179, 'bagging_freq': 3, 'min_child_samples': 77}. Best is trial 249 with value: 0.3373122568842639.\n",
      "[I 2024-06-13 22:03:35,261] Trial 406 finished with value: 0.3214973994800354 and parameters: {'lambda_l1': 8.583744385377757e-06, 'lambda_l2': 1.1262314641358728e-05, 'num_leaves': 20, 'feature_fraction': 0.9882606299742767, 'bagging_fraction': 0.9727957141428705, 'bagging_freq': 3, 'min_child_samples': 78}. Best is trial 249 with value: 0.3373122568842639.\n",
      "[I 2024-06-13 22:03:36,645] Trial 407 finished with value: 0.3156074244864955 and parameters: {'lambda_l1': 1.081634728241579e-05, 'lambda_l2': 2.013358894512331e-05, 'num_leaves': 25, 'feature_fraction': 0.6772212441042297, 'bagging_fraction': 0.9829850619962324, 'bagging_freq': 3, 'min_child_samples': 79}. Best is trial 249 with value: 0.3373122568842639.\n",
      "[I 2024-06-13 22:03:37,134] Trial 408 finished with value: 0.30879017388380503 and parameters: {'lambda_l1': 5.146288383055202e-06, 'lambda_l2': 7.2182766035159565e-06, 'num_leaves': 6, 'feature_fraction': 0.9615844923023147, 'bagging_fraction': 0.9680221748457276, 'bagging_freq': 3, 'min_child_samples': 76}. Best is trial 249 with value: 0.3373122568842639.\n",
      "[I 2024-06-13 22:03:37,937] Trial 409 finished with value: 0.31824078122693467 and parameters: {'lambda_l1': 1.4607438619067327e-05, 'lambda_l2': 1.6009125702472572e-05, 'num_leaves': 12, 'feature_fraction': 0.7627419597581627, 'bagging_fraction': 0.9340264853514755, 'bagging_freq': 3, 'min_child_samples': 75}. Best is trial 249 with value: 0.3373122568842639.\n",
      "[I 2024-06-13 22:03:39,279] Trial 410 finished with value: 0.3255376804676392 and parameters: {'lambda_l1': 2.735935574215636e-06, 'lambda_l2': 2.7896729125442778e-08, 'num_leaves': 21, 'feature_fraction': 0.9805703977106444, 'bagging_fraction': 0.9621854948352009, 'bagging_freq': 3, 'min_child_samples': 81}. Best is trial 249 with value: 0.3373122568842639.\n",
      "[I 2024-06-13 22:03:41,088] Trial 411 finished with value: 0.307719321957421 and parameters: {'lambda_l1': 3.394709809587534e-06, 'lambda_l2': 5.948129158997175e-06, 'num_leaves': 33, 'feature_fraction': 0.6878221160347955, 'bagging_fraction': 0.9814046848619893, 'bagging_freq': 4, 'min_child_samples': 73}. Best is trial 249 with value: 0.3373122568842639.\n",
      "[I 2024-06-13 22:03:42,050] Trial 412 finished with value: 0.31721087686610094 and parameters: {'lambda_l1': 7.783821949106796e-06, 'lambda_l2': 1.3552806567202752e-05, 'num_leaves': 15, 'feature_fraction': 0.7193824886868773, 'bagging_fraction': 0.9437258088897394, 'bagging_freq': 3, 'min_child_samples': 75}. Best is trial 249 with value: 0.3373122568842639.\n",
      "[I 2024-06-13 22:03:43,768] Trial 413 finished with value: 0.32749335320516126 and parameters: {'lambda_l1': 1.597094654801762, 'lambda_l2': 2.4536868415284992e-05, 'num_leaves': 29, 'feature_fraction': 0.9669384832368028, 'bagging_fraction': 0.9681586802838427, 'bagging_freq': 2, 'min_child_samples': 77}. Best is trial 249 with value: 0.3373122568842639.\n",
      "[I 2024-06-13 22:03:44,918] Trial 414 finished with value: 0.3298077208892507 and parameters: {'lambda_l1': 0.0006980676458299468, 'lambda_l2': 3.62197697751194e-05, 'num_leaves': 19, 'feature_fraction': 0.7116371359949176, 'bagging_fraction': 0.9580156206995718, 'bagging_freq': 3, 'min_child_samples': 79}. Best is trial 249 with value: 0.3373122568842639.\n",
      "[I 2024-06-13 22:03:46,897] Trial 415 finished with value: 0.31426792706879647 and parameters: {'lambda_l1': 4.005755729346817e-06, 'lambda_l2': 1.0442695502659004e-08, 'num_leaves': 38, 'feature_fraction': 0.8130262665193974, 'bagging_fraction': 0.9893816234876474, 'bagging_freq': 3, 'min_child_samples': 73}. Best is trial 249 with value: 0.3373122568842639.\n",
      "[I 2024-06-13 22:03:47,136] Trial 416 finished with value: 0.27381190248363396 and parameters: {'lambda_l1': 1.7109719424924525e-06, 'lambda_l2': 2.1200172710584547e-06, 'num_leaves': 2, 'feature_fraction': 0.9529523558927288, 'bagging_fraction': 0.9265422682687392, 'bagging_freq': 3, 'min_child_samples': 76}. Best is trial 249 with value: 0.3373122568842639.\n",
      "[I 2024-06-13 22:03:48,619] Trial 417 finished with value: 0.32116758630948794 and parameters: {'lambda_l1': 8.905672483780821e-08, 'lambda_l2': 8.849136385847915e-06, 'num_leaves': 24, 'feature_fraction': 0.6815868045003801, 'bagging_fraction': 0.9744758446063271, 'bagging_freq': 3, 'min_child_samples': 74}. Best is trial 249 with value: 0.3373122568842639.\n",
      "[I 2024-06-13 22:03:49,270] Trial 418 finished with value: 0.2997481625465629 and parameters: {'lambda_l1': 1.1584736683161863e-05, 'lambda_l2': 5.678064944507475e-06, 'num_leaves': 10, 'feature_fraction': 0.701504136074542, 'bagging_fraction': 0.48874664496938913, 'bagging_freq': 3, 'min_child_samples': 80}. Best is trial 249 with value: 0.3373122568842639.\n",
      "[I 2024-06-13 22:03:50,179] Trial 419 finished with value: 0.31935601467871644 and parameters: {'lambda_l1': 1.8675657528017643e-05, 'lambda_l2': 3.931765598956641e-06, 'num_leaves': 15, 'feature_fraction': 0.9728302790146647, 'bagging_fraction': 0.947263750079322, 'bagging_freq': 3, 'min_child_samples': 69}. Best is trial 249 with value: 0.3373122568842639.\n",
      "[I 2024-06-13 22:03:51,406] Trial 420 finished with value: 0.3231131375968225 and parameters: {'lambda_l1': 4.697659011960642, 'lambda_l2': 2.3433078946186234e-06, 'num_leaves': 20, 'feature_fraction': 0.9897699150282531, 'bagging_fraction': 0.9600719686591082, 'bagging_freq': 3, 'min_child_samples': 83}. Best is trial 249 with value: 0.3373122568842639.\n",
      "[I 2024-06-13 22:03:52,922] Trial 421 finished with value: 0.3087053553373409 and parameters: {'lambda_l1': 0.0484824237598543, 'lambda_l2': 1.6460080507789732e-06, 'num_leaves': 28, 'feature_fraction': 0.9501062788616299, 'bagging_fraction': 0.9338644795007391, 'bagging_freq': 3, 'min_child_samples': 73}. Best is trial 249 with value: 0.3373122568842639.\n",
      "[I 2024-06-13 22:03:53,550] Trial 422 finished with value: 0.3243888664797149 and parameters: {'lambda_l1': 6.486261703518744e-06, 'lambda_l2': 1.3086798319316689e-05, 'num_leaves': 9, 'feature_fraction': 0.9595672503639944, 'bagging_fraction': 0.976596261494839, 'bagging_freq': 3, 'min_child_samples': 76}. Best is trial 249 with value: 0.3373122568842639.\n",
      "[I 2024-06-13 22:03:54,864] Trial 423 finished with value: 0.3250551456910994 and parameters: {'lambda_l1': 0.0002340174994578733, 'lambda_l2': 0.14472800124249946, 'num_leaves': 24, 'feature_fraction': 0.9250756200070512, 'bagging_fraction': 0.9137399771720461, 'bagging_freq': 3, 'min_child_samples': 54}. Best is trial 249 with value: 0.3373122568842639.\n",
      "[I 2024-06-13 22:03:55,774] Trial 424 finished with value: 0.3176603051295386 and parameters: {'lambda_l1': 3.668502399084332e-06, 'lambda_l2': 9.130092152560328e-07, 'num_leaves': 15, 'feature_fraction': 0.9762245308370204, 'bagging_fraction': 0.9533436514485785, 'bagging_freq': 3, 'min_child_samples': 97}. Best is trial 249 with value: 0.3373122568842639.\n",
      "[I 2024-06-13 22:03:56,307] Trial 425 finished with value: 0.3200185252303642 and parameters: {'lambda_l1': 3.3611873860201182, 'lambda_l2': 0.0003899832900722329, 'num_leaves': 7, 'feature_fraction': 0.9055190675265518, 'bagging_fraction': 0.7990949596503515, 'bagging_freq': 3, 'min_child_samples': 65}. Best is trial 249 with value: 0.3373122568842639.\n",
      "[I 2024-06-13 22:03:59,833] Trial 426 finished with value: 0.3202250937130917 and parameters: {'lambda_l1': 0.00016554599937452884, 'lambda_l2': 8.125062886847735e-06, 'num_leaves': 63, 'feature_fraction': 0.49816634572305624, 'bagging_fraction': 0.9418981655140867, 'bagging_freq': 3, 'min_child_samples': 67}. Best is trial 249 with value: 0.3373122568842639.\n",
      "[I 2024-06-13 22:04:01,788] Trial 427 finished with value: 0.32963597626549523 and parameters: {'lambda_l1': 1.1012924030062182e-05, 'lambda_l2': 3.837695391339883e-05, 'num_leaves': 36, 'feature_fraction': 0.9403976165703657, 'bagging_fraction': 0.9677309974824386, 'bagging_freq': 3, 'min_child_samples': 71}. Best is trial 249 with value: 0.3373122568842639.\n",
      "[I 2024-06-13 22:04:02,932] Trial 428 finished with value: 0.3207335023858232 and parameters: {'lambda_l1': 0.0004306135670463052, 'lambda_l2': 1.642582535483062e-08, 'num_leaves': 20, 'feature_fraction': 0.9972742941925367, 'bagging_fraction': 0.9999470410626312, 'bagging_freq': 3, 'min_child_samples': 86}. Best is trial 249 with value: 0.3373122568842639.\n",
      "[I 2024-06-13 22:04:03,747] Trial 429 finished with value: 0.3273739812959947 and parameters: {'lambda_l1': 6.641365147677993e-06, 'lambda_l2': 5.037682263840499e-06, 'num_leaves': 13, 'feature_fraction': 0.9651497979899039, 'bagging_fraction': 0.9867154663795018, 'bagging_freq': 3, 'min_child_samples': 78}. Best is trial 249 with value: 0.3373122568842639.\n",
      "[I 2024-06-13 22:04:05,306] Trial 430 finished with value: 0.32282351803489817 and parameters: {'lambda_l1': 2.727332996645946, 'lambda_l2': 2.5029832140484256e-05, 'num_leaves': 27, 'feature_fraction': 0.880075550020363, 'bagging_fraction': 0.9592643347841812, 'bagging_freq': 5, 'min_child_samples': 74}. Best is trial 249 with value: 0.3373122568842639.\n",
      "[I 2024-06-13 22:04:05,712] Trial 431 finished with value: 0.3122221028353417 and parameters: {'lambda_l1': 1.317724648510802e-07, 'lambda_l2': 3.17366409899605e-06, 'num_leaves': 5, 'feature_fraction': 0.9842318681149484, 'bagging_fraction': 0.7691584197972892, 'bagging_freq': 3, 'min_child_samples': 72}. Best is trial 249 with value: 0.3373122568842639.\n",
      "[I 2024-06-13 22:04:06,811] Trial 432 finished with value: 0.3279670655909709 and parameters: {'lambda_l1': 0.14446785642624105, 'lambda_l2': 1.3882378782306929e-06, 'num_leaves': 19, 'feature_fraction': 0.9500205252615295, 'bagging_fraction': 0.9488750199906529, 'bagging_freq': 6, 'min_child_samples': 76}. Best is trial 249 with value: 0.3373122568842639.\n",
      "[I 2024-06-13 22:04:08,462] Trial 433 finished with value: 0.3052719502671193 and parameters: {'lambda_l1': 1.957648128194573e-06, 'lambda_l2': 1.4891420415981368e-05, 'num_leaves': 31, 'feature_fraction': 0.9997680066982073, 'bagging_fraction': 0.9767285457296495, 'bagging_freq': 3, 'min_child_samples': 70}. Best is trial 249 with value: 0.3373122568842639.\n",
      "[I 2024-06-13 22:04:09,260] Trial 434 finished with value: 0.31847234692724635 and parameters: {'lambda_l1': 8.234720799593905e-06, 'lambda_l2': 7.961535085249957e-06, 'num_leaves': 12, 'feature_fraction': 0.9608255308345834, 'bagging_fraction': 0.9298470611942038, 'bagging_freq': 2, 'min_child_samples': 80}. Best is trial 249 with value: 0.3373122568842639.\n",
      "[I 2024-06-13 22:04:10,666] Trial 435 finished with value: 0.31518079922374076 and parameters: {'lambda_l1': 6.798458232940786, 'lambda_l2': 4.4433198071577335e-06, 'num_leaves': 24, 'feature_fraction': 0.8501730927700406, 'bagging_fraction': 0.9671331393992247, 'bagging_freq': 4, 'min_child_samples': 75}. Best is trial 249 with value: 0.3373122568842639.\n",
      "[I 2024-06-13 22:04:11,651] Trial 436 finished with value: 0.305749729774369 and parameters: {'lambda_l1': 4.828327437746209e-06, 'lambda_l2': 0.0001149328371547452, 'num_leaves': 17, 'feature_fraction': 0.9241267349775393, 'bagging_fraction': 0.8196385552583132, 'bagging_freq': 3, 'min_child_samples': 68}. Best is trial 249 with value: 0.3373122568842639.\n",
      "[I 2024-06-13 22:04:16,432] Trial 437 finished with value: 0.3163708608689171 and parameters: {'lambda_l1': 0.00010935507289386694, 'lambda_l2': 2.202061846836388e-06, 'num_leaves': 118, 'feature_fraction': 0.6055906260315046, 'bagging_fraction': 0.9438482812030324, 'bagging_freq': 3, 'min_child_samples': 73}. Best is trial 249 with value: 0.3373122568842639.\n",
      "[I 2024-06-13 22:04:16,659] Trial 438 finished with value: 0.27552215657152646 and parameters: {'lambda_l1': 0.6482717625827227, 'lambda_l2': 1.1775401047622971e-07, 'num_leaves': 2, 'feature_fraction': 0.9759480517989101, 'bagging_fraction': 0.9805339005380767, 'bagging_freq': 3, 'min_child_samples': 77}. Best is trial 249 with value: 0.3373122568842639.\n",
      "[I 2024-06-13 22:04:21,523] Trial 439 finished with value: 0.30653526207891313 and parameters: {'lambda_l1': 0.0017285046329070144, 'lambda_l2': 0.00022229818073038308, 'num_leaves': 184, 'feature_fraction': 0.9399325843915574, 'bagging_fraction': 0.9568969336186894, 'bagging_freq': 3, 'min_child_samples': 72}. Best is trial 249 with value: 0.3373122568842639.\n",
      "[I 2024-06-13 22:04:22,288] Trial 440 finished with value: 0.31338855633352924 and parameters: {'lambda_l1': 1.5561987746940625e-05, 'lambda_l2': 9.652724333797184e-06, 'num_leaves': 12, 'feature_fraction': 0.6763942377524488, 'bagging_fraction': 0.9206118025152462, 'bagging_freq': 3, 'min_child_samples': 33}. Best is trial 249 with value: 0.3373122568842639.\n",
      "[I 2024-06-13 22:04:24,608] Trial 441 finished with value: 0.3163005268401127 and parameters: {'lambda_l1': 1.2716286127728922, 'lambda_l2': 0.0003367180423118455, 'num_leaves': 45, 'feature_fraction': 0.9643980866541403, 'bagging_fraction': 0.9662033650596877, 'bagging_freq': 3, 'min_child_samples': 78}. Best is trial 249 with value: 0.3373122568842639.\n",
      "[I 2024-06-13 22:04:25,828] Trial 442 finished with value: 0.3340710853294595 and parameters: {'lambda_l1': 2.3898134115590956e-06, 'lambda_l2': 2.9708494792284465e-06, 'num_leaves': 22, 'feature_fraction': 0.7312317196223314, 'bagging_fraction': 0.9882191076582173, 'bagging_freq': 4, 'min_child_samples': 62}. Best is trial 249 with value: 0.3373122568842639.\n",
      "[I 2024-06-13 22:04:27,512] Trial 443 finished with value: 0.3187655634423656 and parameters: {'lambda_l1': 2.416400720826091e-06, 'lambda_l2': 3.1756068405559433e-06, 'num_leaves': 31, 'feature_fraction': 0.705857590783522, 'bagging_fraction': 0.9924171036538885, 'bagging_freq': 4, 'min_child_samples': 63}. Best is trial 249 with value: 0.3373122568842639.\n",
      "[I 2024-06-13 22:04:28,937] Trial 444 finished with value: 0.3226737168387678 and parameters: {'lambda_l1': 2.5238772915008857e-06, 'lambda_l2': 1.420532321289888e-06, 'num_leaves': 26, 'feature_fraction': 0.691204582668507, 'bagging_fraction': 0.987346517147667, 'bagging_freq': 5, 'min_child_samples': 67}. Best is trial 249 with value: 0.3373122568842639.\n",
      "[I 2024-06-13 22:04:30,177] Trial 445 finished with value: 0.3242705592084828 and parameters: {'lambda_l1': 3.6993362425166396e-06, 'lambda_l2': 6.201947206734433e-06, 'num_leaves': 21, 'feature_fraction': 0.71939764391988, 'bagging_fraction': 0.9783286919485061, 'bagging_freq': 4, 'min_child_samples': 60}. Best is trial 249 with value: 0.3373122568842639.\n",
      "[I 2024-06-13 22:04:32,028] Trial 446 finished with value: 0.3110966041636001 and parameters: {'lambda_l1': 1.5812414568639059e-06, 'lambda_l2': 2.628087195021084e-06, 'num_leaves': 36, 'feature_fraction': 0.691639333314281, 'bagging_fraction': 0.98495740339003, 'bagging_freq': 7, 'min_child_samples': 61}. Best is trial 249 with value: 0.3373122568842639.\n",
      "[I 2024-06-13 22:04:33,302] Trial 447 finished with value: 0.3127175381447497 and parameters: {'lambda_l1': 1.1906883624153676e-06, 'lambda_l2': 3.7809313212897506e-06, 'num_leaves': 23, 'feature_fraction': 0.7742817020204065, 'bagging_fraction': 0.9698826620840854, 'bagging_freq': 5, 'min_child_samples': 61}. Best is trial 249 with value: 0.3373122568842639.\n",
      "[I 2024-06-13 22:04:34,880] Trial 448 finished with value: 0.32233813414843593 and parameters: {'lambda_l1': 5.300861431760166e-06, 'lambda_l2': 7.081320174413586e-07, 'num_leaves': 28, 'feature_fraction': 0.7516780768504321, 'bagging_fraction': 0.993607606762348, 'bagging_freq': 2, 'min_child_samples': 63}. Best is trial 249 with value: 0.3373122568842639.\n",
      "[I 2024-06-13 22:04:36,216] Trial 449 finished with value: 0.3313595069109897 and parameters: {'lambda_l1': 4.11281170920818e-06, 'lambda_l2': 1.974792140098361e-06, 'num_leaves': 18, 'feature_fraction': 0.7243651076353738, 'bagging_fraction': 0.9762803697903641, 'bagging_freq': 4, 'min_child_samples': 57}. Best is trial 249 with value: 0.3373122568842639.\n",
      "[I 2024-06-13 22:04:36,841] Trial 450 finished with value: 0.32219126452798363 and parameters: {'lambda_l1': 2.9890869019737018e-06, 'lambda_l2': 1.0419272963495077e-06, 'num_leaves': 9, 'feature_fraction': 0.7160813164353735, 'bagging_fraction': 0.9875058389876192, 'bagging_freq': 4, 'min_child_samples': 66}. Best is trial 249 with value: 0.3373122568842639.\n",
      "[I 2024-06-13 22:04:37,848] Trial 451 finished with value: 0.31993099259468594 and parameters: {'lambda_l1': 3.517788433671356e-06, 'lambda_l2': 1.8383680842678434e-06, 'num_leaves': 17, 'feature_fraction': 0.6947260915871313, 'bagging_fraction': 0.9994605328834448, 'bagging_freq': 4, 'min_child_samples': 57}. Best is trial 249 with value: 0.3373122568842639.\n",
      "[I 2024-06-13 22:04:39,005] Trial 452 finished with value: 0.3242243470055002 and parameters: {'lambda_l1': 1.8749444572432611e-06, 'lambda_l2': 6.550134396327904e-07, 'num_leaves': 20, 'feature_fraction': 0.710674007389154, 'bagging_fraction': 0.9778792763396791, 'bagging_freq': 4, 'min_child_samples': 61}. Best is trial 249 with value: 0.3373122568842639.\n",
      "[I 2024-06-13 22:04:43,847] Trial 453 finished with value: 0.30228122408619806 and parameters: {'lambda_l1': 6.9218847313000965e-06, 'lambda_l2': 1.2473635344031665e-06, 'num_leaves': 108, 'feature_fraction': 0.7317626364246836, 'bagging_fraction': 0.9704483525582613, 'bagging_freq': 5, 'min_child_samples': 64}. Best is trial 249 with value: 0.3373122568842639.\n",
      "[I 2024-06-13 22:04:44,371] Trial 454 finished with value: 0.30989842319976235 and parameters: {'lambda_l1': 4.675145368127285e-06, 'lambda_l2': 2.0205412455879734e-06, 'num_leaves': 7, 'feature_fraction': 0.7508350408832266, 'bagging_fraction': 0.9787490587432528, 'bagging_freq': 6, 'min_child_samples': 57}. Best is trial 249 with value: 0.3373122568842639.\n",
      "[I 2024-06-13 22:04:45,280] Trial 455 finished with value: 0.32518799359825845 and parameters: {'lambda_l1': 1.0202791599450703e-05, 'lambda_l2': 2.4958591789784696e-06, 'num_leaves': 15, 'feature_fraction': 0.6878151098772666, 'bagging_fraction': 0.9642743780010491, 'bagging_freq': 4, 'min_child_samples': 59}. Best is trial 249 with value: 0.3373122568842639.\n",
      "[I 2024-06-13 22:04:45,988] Trial 456 finished with value: 0.326225934331691 and parameters: {'lambda_l1': 4.256522201920369e-06, 'lambda_l2': 2.1256242044232236e-07, 'num_leaves': 11, 'feature_fraction': 0.7194331505301405, 'bagging_fraction': 0.9872608194069663, 'bagging_freq': 5, 'min_child_samples': 61}. Best is trial 249 with value: 0.3373122568842639.\n",
      "[I 2024-06-13 22:04:47,186] Trial 457 finished with value: 0.33050017462664705 and parameters: {'lambda_l1': 1.18203177358499e-06, 'lambda_l2': 2.593438416761327e-05, 'num_leaves': 21, 'feature_fraction': 0.7898382539499046, 'bagging_fraction': 0.9609502954112042, 'bagging_freq': 2, 'min_child_samples': 55}. Best is trial 249 with value: 0.3373122568842639.\n",
      "[I 2024-06-13 22:04:48,086] Trial 458 finished with value: 0.32094679984553864 and parameters: {'lambda_l1': 2.6956346546224013e-06, 'lambda_l2': 1.532018221122492e-06, 'num_leaves': 15, 'feature_fraction': 0.7301510687765026, 'bagging_fraction': 0.7336730424034406, 'bagging_freq': 4, 'min_child_samples': 60}. Best is trial 249 with value: 0.3373122568842639.\n",
      "[I 2024-06-13 22:04:48,553] Trial 459 finished with value: 0.3093066668912656 and parameters: {'lambda_l1': 6.583308301069978e-06, 'lambda_l2': 4.032047816560601e-05, 'num_leaves': 6, 'feature_fraction': 0.7338097067248479, 'bagging_fraction': 0.9711979960401593, 'bagging_freq': 4, 'min_child_samples': 63}. Best is trial 249 with value: 0.3373122568842639.\n",
      "[I 2024-06-13 22:04:49,661] Trial 460 finished with value: 0.310826720079461 and parameters: {'lambda_l1': 2.07068019115664e-06, 'lambda_l2': 3.3866747529604945e-08, 'num_leaves': 19, 'feature_fraction': 0.678156750087882, 'bagging_fraction': 0.9991365714946931, 'bagging_freq': 2, 'min_child_samples': 59}. Best is trial 249 with value: 0.3373122568842639.\n",
      "[I 2024-06-13 22:04:50,389] Trial 461 finished with value: 0.323603535389113 and parameters: {'lambda_l1': 0.00027949956999272506, 'lambda_l2': 9.589138183701076e-07, 'num_leaves': 11, 'feature_fraction': 0.6965307871607164, 'bagging_fraction': 0.956459776985174, 'bagging_freq': 3, 'min_child_samples': 65}. Best is trial 249 with value: 0.3373122568842639.\n",
      "[I 2024-06-13 22:04:51,748] Trial 462 finished with value: 0.32081381352914606 and parameters: {'lambda_l1': 9.045250229825886e-06, 'lambda_l2': 0.57371082328707, 'num_leaves': 24, 'feature_fraction': 0.7255218616544865, 'bagging_fraction': 0.9777706290646307, 'bagging_freq': 3, 'min_child_samples': 71}. Best is trial 249 with value: 0.3373122568842639.\n",
      "[I 2024-06-13 22:04:52,678] Trial 463 finished with value: 0.32487395425287 and parameters: {'lambda_l1': 4.580630519737376e-06, 'lambda_l2': 3.665495509271512e-06, 'num_leaves': 15, 'feature_fraction': 0.6743467881583715, 'bagging_fraction': 0.9488169611892606, 'bagging_freq': 5, 'min_child_samples': 58}. Best is trial 249 with value: 0.3373122568842639.\n",
      "[I 2024-06-13 22:04:53,943] Trial 464 finished with value: 0.3151672324684246 and parameters: {'lambda_l1': 2.4454075792393946, 'lambda_l2': 1.690341306142462e-05, 'num_leaves': 21, 'feature_fraction': 0.7067204190625114, 'bagging_fraction': 0.830659294943351, 'bagging_freq': 3, 'min_child_samples': 57}. Best is trial 249 with value: 0.3373122568842639.\n",
      "[I 2024-06-13 22:04:54,658] Trial 465 finished with value: 0.3193356366190161 and parameters: {'lambda_l1': 8.899528500521422, 'lambda_l2': 2.201702526152485e-06, 'num_leaves': 10, 'feature_fraction': 0.8316770215116938, 'bagging_fraction': 0.968843539012801, 'bagging_freq': 3, 'min_child_samples': 69}. Best is trial 249 with value: 0.3373122568842639.\n",
      "[I 2024-06-13 22:04:54,895] Trial 466 finished with value: 0.2706280377898662 and parameters: {'lambda_l1': 3.051971336905396e-06, 'lambda_l2': 6.322300083036273e-06, 'num_leaves': 2, 'feature_fraction': 0.7429706379951426, 'bagging_fraction': 0.9857339673919562, 'bagging_freq': 3, 'min_child_samples': 74}. Best is trial 249 with value: 0.3373122568842639.\n",
      "[I 2024-06-13 22:04:56,328] Trial 467 finished with value: 0.31454590522480286 and parameters: {'lambda_l1': 0.4379866913732845, 'lambda_l2': 4.3203671851378843e-07, 'num_leaves': 26, 'feature_fraction': 0.8933026154677776, 'bagging_fraction': 0.9573558767849009, 'bagging_freq': 3, 'min_child_samples': 53}. Best is trial 249 with value: 0.3373122568842639.\n",
      "[I 2024-06-13 22:04:57,494] Trial 468 finished with value: 0.3167614547445964 and parameters: {'lambda_l1': 5.353292245936725, 'lambda_l2': 1.1751568395810135e-05, 'num_leaves': 18, 'feature_fraction': 0.6430514485722275, 'bagging_fraction': 0.9417991567526413, 'bagging_freq': 3, 'min_child_samples': 69}. Best is trial 249 with value: 0.3373122568842639.\n",
      "[I 2024-06-13 22:04:59,186] Trial 469 finished with value: 0.32336444680183785 and parameters: {'lambda_l1': 1.2407549564972277e-05, 'lambda_l2': 3.198247616914412e-06, 'num_leaves': 31, 'feature_fraction': 0.9854727911944664, 'bagging_fraction': 0.9735035605772895, 'bagging_freq': 3, 'min_child_samples': 73}. Best is trial 249 with value: 0.3373122568842639.\n",
      "[I 2024-06-13 22:05:00,085] Trial 470 finished with value: 0.31788931028344425 and parameters: {'lambda_l1': 1.9345516728858614, 'lambda_l2': 1.5535863086791592e-06, 'num_leaves': 14, 'feature_fraction': 0.8134970272912847, 'bagging_fraction': 0.9619687544462343, 'bagging_freq': 4, 'min_child_samples': 62}. Best is trial 249 with value: 0.3373122568842639.\n",
      "[I 2024-06-13 22:05:00,581] Trial 471 finished with value: 0.3069415350014384 and parameters: {'lambda_l1': 5.943919649572913e-06, 'lambda_l2': 8.07571211704024e-05, 'num_leaves': 6, 'feature_fraction': 0.7012070854274426, 'bagging_fraction': 0.9877841122940951, 'bagging_freq': 3, 'min_child_samples': 71}. Best is trial 249 with value: 0.3373122568842639.\n",
      "[I 2024-06-13 22:05:01,933] Trial 472 finished with value: 0.32876208070984414 and parameters: {'lambda_l1': 8.345529874511188e-06, 'lambda_l2': 5.219944433683163e-06, 'num_leaves': 24, 'feature_fraction': 0.9855379910953831, 'bagging_fraction': 0.9516029426598018, 'bagging_freq': 2, 'min_child_samples': 75}. Best is trial 249 with value: 0.3373122568842639.\n",
      "[I 2024-06-13 22:05:02,974] Trial 473 finished with value: 0.32823179083629217 and parameters: {'lambda_l1': 3.821621507706556e-06, 'lambda_l2': 1.012717752777107e-06, 'num_leaves': 18, 'feature_fraction': 0.8561181049192237, 'bagging_fraction': 0.9746008872363047, 'bagging_freq': 6, 'min_child_samples': 65}. Best is trial 249 with value: 0.3373122568842639.\n",
      "[I 2024-06-13 22:05:03,747] Trial 474 finished with value: 0.3288114477621602 and parameters: {'lambda_l1': 1.92652307088438e-05, 'lambda_l2': 2.701658867049117e-06, 'num_leaves': 11, 'feature_fraction': 0.8010679712685209, 'bagging_fraction': 0.9378624591235558, 'bagging_freq': 3, 'min_child_samples': 67}. Best is trial 249 with value: 0.3373122568842639.\n",
      "[I 2024-06-13 22:05:05,702] Trial 475 finished with value: 0.3181788353568952 and parameters: {'lambda_l1': 0.908186318703805, 'lambda_l2': 2.410546133772052e-05, 'num_leaves': 35, 'feature_fraction': 0.7636836565282358, 'bagging_fraction': 0.963457586434199, 'bagging_freq': 3, 'min_child_samples': 75}. Best is trial 249 with value: 0.3373122568842639.\n",
      "[I 2024-06-13 22:05:06,952] Trial 476 finished with value: 0.33981475370302705 and parameters: {'lambda_l1': 0.0005567828802954572, 'lambda_l2': 2.0503057116618643e-08, 'num_leaves': 22, 'feature_fraction': 0.9717159963697858, 'bagging_fraction': 0.9495299077926683, 'bagging_freq': 3, 'min_child_samples': 72}. Best is trial 476 with value: 0.33981475370302705.\n",
      "[I 2024-06-13 22:05:08,664] Trial 477 finished with value: 0.31452404055130423 and parameters: {'lambda_l1': 0.000994862088466837, 'lambda_l2': 1.4569648262206617e-08, 'num_leaves': 31, 'feature_fraction': 0.9119204297147342, 'bagging_fraction': 0.9388993423287844, 'bagging_freq': 3, 'min_child_samples': 70}. Best is trial 476 with value: 0.33981475370302705.\n",
      "[I 2024-06-13 22:05:10,259] Trial 478 finished with value: 0.32061498642633757 and parameters: {'lambda_l1': 0.003227289620360873, 'lambda_l2': 3.1960092816958056e-08, 'num_leaves': 26, 'feature_fraction': 0.950256933348944, 'bagging_fraction': 0.8096540664818304, 'bagging_freq': 3, 'min_child_samples': 72}. Best is trial 476 with value: 0.33981475370302705.\n",
      "[I 2024-06-13 22:05:11,512] Trial 479 finished with value: 0.3266231319031889 and parameters: {'lambda_l1': 0.0002951911516175918, 'lambda_l2': 1.6211864019466547e-08, 'num_leaves': 22, 'feature_fraction': 0.9287970260735406, 'bagging_fraction': 0.9503402025085729, 'bagging_freq': 3, 'min_child_samples': 69}. Best is trial 476 with value: 0.33981475370302705.\n",
      "[I 2024-06-13 22:05:13,517] Trial 480 finished with value: 0.3200832784235218 and parameters: {'lambda_l1': 1.4157303448190542e-06, 'lambda_l2': 1.001658843464161e-08, 'num_leaves': 39, 'feature_fraction': 0.9753253323119047, 'bagging_fraction': 0.9503836529668611, 'bagging_freq': 3, 'min_child_samples': 71}. Best is trial 476 with value: 0.33981475370302705.\n",
      "[I 2024-06-13 22:05:14,973] Trial 481 finished with value: 0.3398778237844051 and parameters: {'lambda_l1': 0.0002170062432587807, 'lambda_l2': 1.7953379601555623e-08, 'num_leaves': 27, 'feature_fraction': 0.9695121610372494, 'bagging_fraction': 0.9342335305865344, 'bagging_freq': 3, 'min_child_samples': 47}. Best is trial 481 with value: 0.3398778237844051.\n",
      "[I 2024-06-13 22:05:16,729] Trial 482 finished with value: 0.33984817199979755 and parameters: {'lambda_l1': 0.00016087021698681737, 'lambda_l2': 3.1741213833381944e-08, 'num_leaves': 34, 'feature_fraction': 0.9690131875724715, 'bagging_fraction': 0.9359860777366837, 'bagging_freq': 3, 'min_child_samples': 46}. Best is trial 481 with value: 0.3398778237844051.\n",
      "[I 2024-06-13 22:05:18,905] Trial 483 finished with value: 0.32208017477984785 and parameters: {'lambda_l1': 0.00018717541228720726, 'lambda_l2': 4.2096266002108424e-08, 'num_leaves': 41, 'feature_fraction': 0.9547102829542734, 'bagging_fraction': 0.9293031922700463, 'bagging_freq': 3, 'min_child_samples': 46}. Best is trial 481 with value: 0.3398778237844051.\n",
      "[I 2024-06-13 22:05:20,570] Trial 484 finished with value: 0.3303986493482216 and parameters: {'lambda_l1': 0.00014380819696578498, 'lambda_l2': 2.3537797646392763e-08, 'num_leaves': 32, 'feature_fraction': 0.9685243947377109, 'bagging_fraction': 0.9191272313273007, 'bagging_freq': 3, 'min_child_samples': 50}. Best is trial 481 with value: 0.3398778237844051.\n",
      "[I 2024-06-13 22:05:23,080] Trial 485 finished with value: 0.3238654088155607 and parameters: {'lambda_l1': 0.0006807015004016169, 'lambda_l2': 2.0749169767445494e-08, 'num_leaves': 50, 'feature_fraction': 0.9593473997231725, 'bagging_fraction': 0.9336082245610562, 'bagging_freq': 3, 'min_child_samples': 41}. Best is trial 481 with value: 0.3398778237844051.\n",
      "[I 2024-06-13 22:05:25,021] Trial 486 finished with value: 0.32599843241181603 and parameters: {'lambda_l1': 0.00017508692628649737, 'lambda_l2': 1.842446357488723e-08, 'num_leaves': 37, 'feature_fraction': 0.9429396809151369, 'bagging_fraction': 0.9111492209334144, 'bagging_freq': 3, 'min_child_samples': 41}. Best is trial 481 with value: 0.3398778237844051.\n",
      "[I 2024-06-13 22:05:26,974] Trial 487 finished with value: 0.307264847493804 and parameters: {'lambda_l1': 0.0004955893681577646, 'lambda_l2': 1.2646989686392483e-08, 'num_leaves': 34, 'feature_fraction': 0.96859632252724, 'bagging_fraction': 0.41543085674000607, 'bagging_freq': 3, 'min_child_samples': 49}. Best is trial 481 with value: 0.3398778237844051.\n",
      "[I 2024-06-13 22:05:28,850] Trial 488 finished with value: 0.3148064484177605 and parameters: {'lambda_l1': 0.012654440361144995, 'lambda_l2': 2.6303619378029315e-08, 'num_leaves': 31, 'feature_fraction': 0.9356460512761662, 'bagging_fraction': 0.9272547682729108, 'bagging_freq': 3, 'min_child_samples': 48}. Best is trial 481 with value: 0.3398778237844051.\n",
      "[I 2024-06-13 22:05:30,471] Trial 489 finished with value: 0.3183579587854518 and parameters: {'lambda_l1': 0.00027496104439866644, 'lambda_l2': 2.715365521613253e-08, 'num_leaves': 29, 'feature_fraction': 0.9554441730206792, 'bagging_fraction': 0.9030946346807333, 'bagging_freq': 3, 'min_child_samples': 43}. Best is trial 481 with value: 0.3398778237844051.\n",
      "[I 2024-06-13 22:05:31,988] Trial 490 finished with value: 0.3181551823292984 and parameters: {'lambda_l1': 0.00011026328380328582, 'lambda_l2': 1.650043223312832e-08, 'num_leaves': 25, 'feature_fraction': 0.9700599540819321, 'bagging_fraction': 0.9370287137628909, 'bagging_freq': 3, 'min_child_samples': 45}. Best is trial 481 with value: 0.3398778237844051.\n",
      "[I 2024-06-13 22:05:33,881] Trial 491 finished with value: 0.3180041882156631 and parameters: {'lambda_l1': 0.0002896642549486632, 'lambda_l2': 1.9998007846866188e-08, 'num_leaves': 35, 'feature_fraction': 0.9458876285002529, 'bagging_fraction': 0.9415396834124815, 'bagging_freq': 3, 'min_child_samples': 68}. Best is trial 481 with value: 0.3398778237844051.\n",
      "[I 2024-06-13 22:05:35,997] Trial 492 finished with value: 0.3208305005218758 and parameters: {'lambda_l1': 0.0004279698192857559, 'lambda_l2': 1.0975557242153051e-08, 'num_leaves': 41, 'feature_fraction': 0.9581936260929922, 'bagging_fraction': 0.8959493074989276, 'bagging_freq': 3, 'min_child_samples': 45}. Best is trial 481 with value: 0.3398778237844051.\n",
      "[I 2024-06-13 22:05:37,389] Trial 493 finished with value: 0.3375853381515497 and parameters: {'lambda_l1': 0.00019907396248451087, 'lambda_l2': 5.967691083794867e-08, 'num_leaves': 27, 'feature_fraction': 0.976063795653348, 'bagging_fraction': 0.5354323615724381, 'bagging_freq': 1, 'min_child_samples': 48}. Best is trial 481 with value: 0.3398778237844051.\n",
      "[I 2024-06-13 22:05:38,853] Trial 494 finished with value: 0.32193195232502037 and parameters: {'lambda_l1': 0.00016263528626915956, 'lambda_l2': 2.1832043357323265e-08, 'num_leaves': 27, 'feature_fraction': 0.9735248449174307, 'bagging_fraction': 0.5485993276496998, 'bagging_freq': 3, 'min_child_samples': 47}. Best is trial 481 with value: 0.3398778237844051.\n",
      "[I 2024-06-13 22:05:40,415] Trial 495 finished with value: 0.3165927018216237 and parameters: {'lambda_l1': 9.21782206438096e-05, 'lambda_l2': 4.026951201407743e-08, 'num_leaves': 28, 'feature_fraction': 0.9781159627853113, 'bagging_fraction': 0.608213782616908, 'bagging_freq': 3, 'min_child_samples': 49}. Best is trial 481 with value: 0.3398778237844051.\n",
      "[I 2024-06-13 22:05:41,714] Trial 496 finished with value: 0.3226388189800643 and parameters: {'lambda_l1': 0.00022832834055480853, 'lambda_l2': 1.4691303890594984e-08, 'num_leaves': 24, 'feature_fraction': 0.9656810758132875, 'bagging_fraction': 0.9342334865545375, 'bagging_freq': 3, 'min_child_samples': 51}. Best is trial 481 with value: 0.3398778237844051.\n",
      "[I 2024-06-13 22:05:42,890] Trial 497 finished with value: 0.3221672349705902 and parameters: {'lambda_l1': 0.00043283494383517397, 'lambda_l2': 6.429797253792383e-08, 'num_leaves': 22, 'feature_fraction': 0.9544770037619273, 'bagging_fraction': 0.5798258341989356, 'bagging_freq': 1, 'min_child_samples': 43}. Best is trial 481 with value: 0.3398778237844051.\n",
      "[I 2024-06-13 22:05:44,519] Trial 498 finished with value: 0.31101409342955366 and parameters: {'lambda_l1': 0.0001531810388357373, 'lambda_l2': 4.5184249617390264e-08, 'num_leaves': 31, 'feature_fraction': 0.9801025844452649, 'bagging_fraction': 0.6958475203114642, 'bagging_freq': 3, 'min_child_samples': 48}. Best is trial 481 with value: 0.3398778237844051.\n",
      "[I 2024-06-13 22:05:45,937] Trial 499 finished with value: 0.3260508694963362 and parameters: {'lambda_l1': 0.0002566832813119564, 'lambda_l2': 8.56640651412041e-08, 'num_leaves': 26, 'feature_fraction': 0.934622116200658, 'bagging_fraction': 0.7591310497293808, 'bagging_freq': 3, 'min_child_samples': 47}. Best is trial 481 with value: 0.3398778237844051.\n"
     ]
    }
   ],
   "source": [
    "study = optuna.create_study(direction='maximize',\n",
    "                            storage=\"sqlite:///db.sqlite3\",  # Specify the storage URL here.\n",
    "                            study_name=\"04 - LGB Multiclass\",\n",
    "                            load_if_exists=True)\n",
    "study.optimize(lgb_objective, n_trials=100)"
   ]
  },
  {
   "cell_type": "code",
   "execution_count": 23,
   "metadata": {},
   "outputs": [
    {
     "data": {
      "application/vnd.plotly.v1+json": {
       "config": {
        "plotlyServerURL": "https://plot.ly"
       },
       "data": [
        {
         "type": "heatmap",
         "x": [
          0,
          1,
          2,
          3,
          4
         ],
         "y": [
          0,
          1,
          2,
          3,
          4
         ],
         "z": [
          [
           9.75609756097561,
           35.36585365853659,
           31.70731707317073,
           7.317073170731707,
           15.853658536585366
          ],
          [
           0.6472491909385114,
           35.43689320388349,
           36.084142394822,
           8.090614886731391,
           19.741100323624593
          ],
          [
           0,
           23.915737298636927,
           37.9182156133829,
           11.648079306071871,
           26.517967781908304
          ],
          [
           0.15337423312883436,
           17.33128834355828,
           33.282208588957054,
           18.55828220858896,
           30.67484662576687
          ],
          [
           0,
           11.428571428571429,
           20.476190476190474,
           6.666666666666667,
           61.42857142857143
          ]
         ]
        }
       ],
       "layout": {
        "annotations": [
         {
          "font": {
           "color": "white"
          },
          "showarrow": false,
          "text": "9.8 - 8",
          "x": 0,
          "xref": "x",
          "y": 0,
          "yref": "y"
         },
         {
          "font": {
           "color": "white"
          },
          "showarrow": false,
          "text": "35.4 - 29",
          "x": 1,
          "xref": "x",
          "y": 0,
          "yref": "y"
         },
         {
          "font": {
           "color": "white"
          },
          "showarrow": false,
          "text": "31.7 - 26",
          "x": 2,
          "xref": "x",
          "y": 0,
          "yref": "y"
         },
         {
          "font": {
           "color": "white"
          },
          "showarrow": false,
          "text": "7.3 - 6",
          "x": 3,
          "xref": "x",
          "y": 0,
          "yref": "y"
         },
         {
          "font": {
           "color": "white"
          },
          "showarrow": false,
          "text": "15.9 - 13",
          "x": 4,
          "xref": "x",
          "y": 0,
          "yref": "y"
         },
         {
          "font": {
           "color": "white"
          },
          "showarrow": false,
          "text": "0.6 - 4",
          "x": 0,
          "xref": "x",
          "y": 1,
          "yref": "y"
         },
         {
          "font": {
           "color": "white"
          },
          "showarrow": false,
          "text": "35.4 - 219",
          "x": 1,
          "xref": "x",
          "y": 1,
          "yref": "y"
         },
         {
          "font": {
           "color": "white"
          },
          "showarrow": false,
          "text": "36.1 - 223",
          "x": 2,
          "xref": "x",
          "y": 1,
          "yref": "y"
         },
         {
          "font": {
           "color": "white"
          },
          "showarrow": false,
          "text": "8.1 - 50",
          "x": 3,
          "xref": "x",
          "y": 1,
          "yref": "y"
         },
         {
          "font": {
           "color": "white"
          },
          "showarrow": false,
          "text": "19.7 - 122",
          "x": 4,
          "xref": "x",
          "y": 1,
          "yref": "y"
         },
         {
          "font": {
           "color": "white"
          },
          "showarrow": false,
          "text": "0.0 - 0",
          "x": 0,
          "xref": "x",
          "y": 2,
          "yref": "y"
         },
         {
          "font": {
           "color": "white"
          },
          "showarrow": false,
          "text": "23.9 - 193",
          "x": 1,
          "xref": "x",
          "y": 2,
          "yref": "y"
         },
         {
          "font": {
           "color": "white"
          },
          "showarrow": false,
          "text": "37.9 - 306",
          "x": 2,
          "xref": "x",
          "y": 2,
          "yref": "y"
         },
         {
          "font": {
           "color": "white"
          },
          "showarrow": false,
          "text": "11.6 - 94",
          "x": 3,
          "xref": "x",
          "y": 2,
          "yref": "y"
         },
         {
          "font": {
           "color": "white"
          },
          "showarrow": false,
          "text": "26.5 - 214",
          "x": 4,
          "xref": "x",
          "y": 2,
          "yref": "y"
         },
         {
          "font": {
           "color": "white"
          },
          "showarrow": false,
          "text": "0.2 - 1",
          "x": 0,
          "xref": "x",
          "y": 3,
          "yref": "y"
         },
         {
          "font": {
           "color": "white"
          },
          "showarrow": false,
          "text": "17.3 - 113",
          "x": 1,
          "xref": "x",
          "y": 3,
          "yref": "y"
         },
         {
          "font": {
           "color": "white"
          },
          "showarrow": false,
          "text": "33.3 - 217",
          "x": 2,
          "xref": "x",
          "y": 3,
          "yref": "y"
         },
         {
          "font": {
           "color": "white"
          },
          "showarrow": false,
          "text": "18.6 - 121",
          "x": 3,
          "xref": "x",
          "y": 3,
          "yref": "y"
         },
         {
          "font": {
           "color": "white"
          },
          "showarrow": false,
          "text": "30.7 - 200",
          "x": 4,
          "xref": "x",
          "y": 3,
          "yref": "y"
         },
         {
          "font": {
           "color": "white"
          },
          "showarrow": false,
          "text": "0.0 - 0",
          "x": 0,
          "xref": "x",
          "y": 4,
          "yref": "y"
         },
         {
          "font": {
           "color": "white"
          },
          "showarrow": false,
          "text": "11.4 - 96",
          "x": 1,
          "xref": "x",
          "y": 4,
          "yref": "y"
         },
         {
          "font": {
           "color": "white"
          },
          "showarrow": false,
          "text": "20.5 - 172",
          "x": 2,
          "xref": "x",
          "y": 4,
          "yref": "y"
         },
         {
          "font": {
           "color": "white"
          },
          "showarrow": false,
          "text": "6.7 - 56",
          "x": 3,
          "xref": "x",
          "y": 4,
          "yref": "y"
         },
         {
          "font": {
           "color": "white"
          },
          "showarrow": false,
          "text": "61.4 - 516",
          "x": 4,
          "xref": "x",
          "y": 4,
          "yref": "y"
         }
        ],
        "height": 800,
        "template": {
         "data": {
          "bar": [
           {
            "error_x": {
             "color": "#2a3f5f"
            },
            "error_y": {
             "color": "#2a3f5f"
            },
            "marker": {
             "line": {
              "color": "#E5ECF6",
              "width": 0.5
             },
             "pattern": {
              "fillmode": "overlay",
              "size": 10,
              "solidity": 0.2
             }
            },
            "type": "bar"
           }
          ],
          "barpolar": [
           {
            "marker": {
             "line": {
              "color": "#E5ECF6",
              "width": 0.5
             },
             "pattern": {
              "fillmode": "overlay",
              "size": 10,
              "solidity": 0.2
             }
            },
            "type": "barpolar"
           }
          ],
          "carpet": [
           {
            "aaxis": {
             "endlinecolor": "#2a3f5f",
             "gridcolor": "white",
             "linecolor": "white",
             "minorgridcolor": "white",
             "startlinecolor": "#2a3f5f"
            },
            "baxis": {
             "endlinecolor": "#2a3f5f",
             "gridcolor": "white",
             "linecolor": "white",
             "minorgridcolor": "white",
             "startlinecolor": "#2a3f5f"
            },
            "type": "carpet"
           }
          ],
          "choropleth": [
           {
            "colorbar": {
             "outlinewidth": 0,
             "ticks": ""
            },
            "type": "choropleth"
           }
          ],
          "contour": [
           {
            "colorbar": {
             "outlinewidth": 0,
             "ticks": ""
            },
            "colorscale": [
             [
              0,
              "#0d0887"
             ],
             [
              0.1111111111111111,
              "#46039f"
             ],
             [
              0.2222222222222222,
              "#7201a8"
             ],
             [
              0.3333333333333333,
              "#9c179e"
             ],
             [
              0.4444444444444444,
              "#bd3786"
             ],
             [
              0.5555555555555556,
              "#d8576b"
             ],
             [
              0.6666666666666666,
              "#ed7953"
             ],
             [
              0.7777777777777778,
              "#fb9f3a"
             ],
             [
              0.8888888888888888,
              "#fdca26"
             ],
             [
              1,
              "#f0f921"
             ]
            ],
            "type": "contour"
           }
          ],
          "contourcarpet": [
           {
            "colorbar": {
             "outlinewidth": 0,
             "ticks": ""
            },
            "type": "contourcarpet"
           }
          ],
          "heatmap": [
           {
            "colorbar": {
             "outlinewidth": 0,
             "ticks": ""
            },
            "colorscale": [
             [
              0,
              "#0d0887"
             ],
             [
              0.1111111111111111,
              "#46039f"
             ],
             [
              0.2222222222222222,
              "#7201a8"
             ],
             [
              0.3333333333333333,
              "#9c179e"
             ],
             [
              0.4444444444444444,
              "#bd3786"
             ],
             [
              0.5555555555555556,
              "#d8576b"
             ],
             [
              0.6666666666666666,
              "#ed7953"
             ],
             [
              0.7777777777777778,
              "#fb9f3a"
             ],
             [
              0.8888888888888888,
              "#fdca26"
             ],
             [
              1,
              "#f0f921"
             ]
            ],
            "type": "heatmap"
           }
          ],
          "heatmapgl": [
           {
            "colorbar": {
             "outlinewidth": 0,
             "ticks": ""
            },
            "colorscale": [
             [
              0,
              "#0d0887"
             ],
             [
              0.1111111111111111,
              "#46039f"
             ],
             [
              0.2222222222222222,
              "#7201a8"
             ],
             [
              0.3333333333333333,
              "#9c179e"
             ],
             [
              0.4444444444444444,
              "#bd3786"
             ],
             [
              0.5555555555555556,
              "#d8576b"
             ],
             [
              0.6666666666666666,
              "#ed7953"
             ],
             [
              0.7777777777777778,
              "#fb9f3a"
             ],
             [
              0.8888888888888888,
              "#fdca26"
             ],
             [
              1,
              "#f0f921"
             ]
            ],
            "type": "heatmapgl"
           }
          ],
          "histogram": [
           {
            "marker": {
             "pattern": {
              "fillmode": "overlay",
              "size": 10,
              "solidity": 0.2
             }
            },
            "type": "histogram"
           }
          ],
          "histogram2d": [
           {
            "colorbar": {
             "outlinewidth": 0,
             "ticks": ""
            },
            "colorscale": [
             [
              0,
              "#0d0887"
             ],
             [
              0.1111111111111111,
              "#46039f"
             ],
             [
              0.2222222222222222,
              "#7201a8"
             ],
             [
              0.3333333333333333,
              "#9c179e"
             ],
             [
              0.4444444444444444,
              "#bd3786"
             ],
             [
              0.5555555555555556,
              "#d8576b"
             ],
             [
              0.6666666666666666,
              "#ed7953"
             ],
             [
              0.7777777777777778,
              "#fb9f3a"
             ],
             [
              0.8888888888888888,
              "#fdca26"
             ],
             [
              1,
              "#f0f921"
             ]
            ],
            "type": "histogram2d"
           }
          ],
          "histogram2dcontour": [
           {
            "colorbar": {
             "outlinewidth": 0,
             "ticks": ""
            },
            "colorscale": [
             [
              0,
              "#0d0887"
             ],
             [
              0.1111111111111111,
              "#46039f"
             ],
             [
              0.2222222222222222,
              "#7201a8"
             ],
             [
              0.3333333333333333,
              "#9c179e"
             ],
             [
              0.4444444444444444,
              "#bd3786"
             ],
             [
              0.5555555555555556,
              "#d8576b"
             ],
             [
              0.6666666666666666,
              "#ed7953"
             ],
             [
              0.7777777777777778,
              "#fb9f3a"
             ],
             [
              0.8888888888888888,
              "#fdca26"
             ],
             [
              1,
              "#f0f921"
             ]
            ],
            "type": "histogram2dcontour"
           }
          ],
          "mesh3d": [
           {
            "colorbar": {
             "outlinewidth": 0,
             "ticks": ""
            },
            "type": "mesh3d"
           }
          ],
          "parcoords": [
           {
            "line": {
             "colorbar": {
              "outlinewidth": 0,
              "ticks": ""
             }
            },
            "type": "parcoords"
           }
          ],
          "pie": [
           {
            "automargin": true,
            "type": "pie"
           }
          ],
          "scatter": [
           {
            "fillpattern": {
             "fillmode": "overlay",
             "size": 10,
             "solidity": 0.2
            },
            "type": "scatter"
           }
          ],
          "scatter3d": [
           {
            "line": {
             "colorbar": {
              "outlinewidth": 0,
              "ticks": ""
             }
            },
            "marker": {
             "colorbar": {
              "outlinewidth": 0,
              "ticks": ""
             }
            },
            "type": "scatter3d"
           }
          ],
          "scattercarpet": [
           {
            "marker": {
             "colorbar": {
              "outlinewidth": 0,
              "ticks": ""
             }
            },
            "type": "scattercarpet"
           }
          ],
          "scattergeo": [
           {
            "marker": {
             "colorbar": {
              "outlinewidth": 0,
              "ticks": ""
             }
            },
            "type": "scattergeo"
           }
          ],
          "scattergl": [
           {
            "marker": {
             "colorbar": {
              "outlinewidth": 0,
              "ticks": ""
             }
            },
            "type": "scattergl"
           }
          ],
          "scattermapbox": [
           {
            "marker": {
             "colorbar": {
              "outlinewidth": 0,
              "ticks": ""
             }
            },
            "type": "scattermapbox"
           }
          ],
          "scatterpolar": [
           {
            "marker": {
             "colorbar": {
              "outlinewidth": 0,
              "ticks": ""
             }
            },
            "type": "scatterpolar"
           }
          ],
          "scatterpolargl": [
           {
            "marker": {
             "colorbar": {
              "outlinewidth": 0,
              "ticks": ""
             }
            },
            "type": "scatterpolargl"
           }
          ],
          "scatterternary": [
           {
            "marker": {
             "colorbar": {
              "outlinewidth": 0,
              "ticks": ""
             }
            },
            "type": "scatterternary"
           }
          ],
          "surface": [
           {
            "colorbar": {
             "outlinewidth": 0,
             "ticks": ""
            },
            "colorscale": [
             [
              0,
              "#0d0887"
             ],
             [
              0.1111111111111111,
              "#46039f"
             ],
             [
              0.2222222222222222,
              "#7201a8"
             ],
             [
              0.3333333333333333,
              "#9c179e"
             ],
             [
              0.4444444444444444,
              "#bd3786"
             ],
             [
              0.5555555555555556,
              "#d8576b"
             ],
             [
              0.6666666666666666,
              "#ed7953"
             ],
             [
              0.7777777777777778,
              "#fb9f3a"
             ],
             [
              0.8888888888888888,
              "#fdca26"
             ],
             [
              1,
              "#f0f921"
             ]
            ],
            "type": "surface"
           }
          ],
          "table": [
           {
            "cells": {
             "fill": {
              "color": "#EBF0F8"
             },
             "line": {
              "color": "white"
             }
            },
            "header": {
             "fill": {
              "color": "#C8D4E3"
             },
             "line": {
              "color": "white"
             }
            },
            "type": "table"
           }
          ]
         },
         "layout": {
          "annotationdefaults": {
           "arrowcolor": "#2a3f5f",
           "arrowhead": 0,
           "arrowwidth": 1
          },
          "autotypenumbers": "strict",
          "coloraxis": {
           "colorbar": {
            "outlinewidth": 0,
            "ticks": ""
           }
          },
          "colorscale": {
           "diverging": [
            [
             0,
             "#8e0152"
            ],
            [
             0.1,
             "#c51b7d"
            ],
            [
             0.2,
             "#de77ae"
            ],
            [
             0.3,
             "#f1b6da"
            ],
            [
             0.4,
             "#fde0ef"
            ],
            [
             0.5,
             "#f7f7f7"
            ],
            [
             0.6,
             "#e6f5d0"
            ],
            [
             0.7,
             "#b8e186"
            ],
            [
             0.8,
             "#7fbc41"
            ],
            [
             0.9,
             "#4d9221"
            ],
            [
             1,
             "#276419"
            ]
           ],
           "sequential": [
            [
             0,
             "#0d0887"
            ],
            [
             0.1111111111111111,
             "#46039f"
            ],
            [
             0.2222222222222222,
             "#7201a8"
            ],
            [
             0.3333333333333333,
             "#9c179e"
            ],
            [
             0.4444444444444444,
             "#bd3786"
            ],
            [
             0.5555555555555556,
             "#d8576b"
            ],
            [
             0.6666666666666666,
             "#ed7953"
            ],
            [
             0.7777777777777778,
             "#fb9f3a"
            ],
            [
             0.8888888888888888,
             "#fdca26"
            ],
            [
             1,
             "#f0f921"
            ]
           ],
           "sequentialminus": [
            [
             0,
             "#0d0887"
            ],
            [
             0.1111111111111111,
             "#46039f"
            ],
            [
             0.2222222222222222,
             "#7201a8"
            ],
            [
             0.3333333333333333,
             "#9c179e"
            ],
            [
             0.4444444444444444,
             "#bd3786"
            ],
            [
             0.5555555555555556,
             "#d8576b"
            ],
            [
             0.6666666666666666,
             "#ed7953"
            ],
            [
             0.7777777777777778,
             "#fb9f3a"
            ],
            [
             0.8888888888888888,
             "#fdca26"
            ],
            [
             1,
             "#f0f921"
            ]
           ]
          },
          "colorway": [
           "#636efa",
           "#EF553B",
           "#00cc96",
           "#ab63fa",
           "#FFA15A",
           "#19d3f3",
           "#FF6692",
           "#B6E880",
           "#FF97FF",
           "#FECB52"
          ],
          "font": {
           "color": "#2a3f5f"
          },
          "geo": {
           "bgcolor": "white",
           "lakecolor": "white",
           "landcolor": "#E5ECF6",
           "showlakes": true,
           "showland": true,
           "subunitcolor": "white"
          },
          "hoverlabel": {
           "align": "left"
          },
          "hovermode": "closest",
          "mapbox": {
           "style": "light"
          },
          "paper_bgcolor": "white",
          "plot_bgcolor": "#E5ECF6",
          "polar": {
           "angularaxis": {
            "gridcolor": "white",
            "linecolor": "white",
            "ticks": ""
           },
           "bgcolor": "#E5ECF6",
           "radialaxis": {
            "gridcolor": "white",
            "linecolor": "white",
            "ticks": ""
           }
          },
          "scene": {
           "xaxis": {
            "backgroundcolor": "#E5ECF6",
            "gridcolor": "white",
            "gridwidth": 2,
            "linecolor": "white",
            "showbackground": true,
            "ticks": "",
            "zerolinecolor": "white"
           },
           "yaxis": {
            "backgroundcolor": "#E5ECF6",
            "gridcolor": "white",
            "gridwidth": 2,
            "linecolor": "white",
            "showbackground": true,
            "ticks": "",
            "zerolinecolor": "white"
           },
           "zaxis": {
            "backgroundcolor": "#E5ECF6",
            "gridcolor": "white",
            "gridwidth": 2,
            "linecolor": "white",
            "showbackground": true,
            "ticks": "",
            "zerolinecolor": "white"
           }
          },
          "shapedefaults": {
           "line": {
            "color": "#2a3f5f"
           }
          },
          "ternary": {
           "aaxis": {
            "gridcolor": "white",
            "linecolor": "white",
            "ticks": ""
           },
           "baxis": {
            "gridcolor": "white",
            "linecolor": "white",
            "ticks": ""
           },
           "bgcolor": "#E5ECF6",
           "caxis": {
            "gridcolor": "white",
            "linecolor": "white",
            "ticks": ""
           }
          },
          "title": {
           "x": 0.05
          },
          "xaxis": {
           "automargin": true,
           "gridcolor": "white",
           "linecolor": "white",
           "ticks": "",
           "title": {
            "standoff": 15
           },
           "zerolinecolor": "white",
           "zerolinewidth": 2
          },
          "yaxis": {
           "automargin": true,
           "gridcolor": "white",
           "linecolor": "white",
           "ticks": "",
           "title": {
            "standoff": 15
           },
           "zerolinecolor": "white",
           "zerolinewidth": 2
          }
         }
        },
        "title": {
         "text": "Conf Matrix"
        },
        "width": 800,
        "xaxis": {
         "title": {
          "text": "Predicted value"
         }
        },
        "yaxis": {
         "title": {
          "text": "Real value"
         }
        }
       }
      }
     },
     "metadata": {},
     "output_type": "display_data"
    }
   ],
   "source": [
    "lgb_params =  {      \n",
    "                        'objective': 'multiclass',\n",
    "                        'verbosity':-1,\n",
    "                        'num_class': len(y_train.unique())} | study.best_params\n",
    "\n",
    "lgb_train_dataset = lgb.Dataset(data=X_train,\n",
    "                                label=y_train)\n",
    "\n",
    "\n",
    "lgb_model = lgb.train(lgb_params,\n",
    "                    lgb_train_dataset)\n",
    "\n",
    "display(plot_confusion_matrix(y_test,lgb_model.predict(X_test).argmax(axis=1)))\n"
   ]
  },
  {
   "cell_type": "code",
   "execution_count": 24,
   "metadata": {},
   "outputs": [],
   "source": [
    "import matplotlib.pyplot as plt\n"
   ]
  },
  {
   "cell_type": "code",
   "execution_count": 25,
   "metadata": {},
   "outputs": [],
   "source": [
    "# Definir parámetros base de LightGBM\n",
    "lgb_params = {\n",
    "    'objective': 'multiclass',\n",
    "    'verbosity': -1,\n",
    "    'num_class': len(y_train.unique())\n",
    "}\n",
    "\n",
    "# Actualizar lgb_params con study.best_params\n",
    "lgb_params.update(study.best_params)\n",
    "\n",
    "# Crear el dataset de entrenamiento de LightGBM\n",
    "lgb_train_dataset = lgb.Dataset(data=X_train, label=y_train)\n",
    "\n",
    "# Entrenar el modelo de LightGBM\n",
    "lgb_model = lgb.train(lgb_params, lgb_train_dataset)\n",
    "\n",
    "# Mostrar la matriz de confusión\n",
    "plot_confusion_matrix(y_test, lgb_model.predict(X_test).argmax(axis=1))\n",
    "plt.show()\n"
   ]
  },
  {
   "cell_type": "code",
   "execution_count": 26,
   "metadata": {},
   "outputs": [],
   "source": [
    "def lgb_custom_metric_kappa(dy_pred, dy_true):\n",
    "\n",
    "    metric_name = 'kappa'\n",
    "    value = cohen_kappa_score(dy_true.get_label(),dy_pred.argmax(axis=1),weights = 'quadratic')\n",
    "    is_higher_better = True\n",
    "    return(metric_name, value, is_higher_better)\n",
    "\n",
    "def cv_es_lgb_objective(trial):\n",
    "\n",
    "    lgb_params = {      \n",
    "                        'objective': 'multiclass',\n",
    "                        'verbosity':-1,\n",
    "                        'num_class': len(y_train.unique()),\n",
    "                        'lambda_l1': trial.suggest_float('lambda_l1', 1e-8, 10.0, log=True),\n",
    "                        'lambda_l2': trial.suggest_float('lambda_l2', 1e-8, 10.0, log=True),\n",
    "                        'num_leaves': trial.suggest_int('num_leaves', 2, 256),\n",
    "                        'feature_fraction': trial.suggest_float('feature_fraction', 0.4, 1.0),\n",
    "                        'bagging_fraction': trial.suggest_float('bagging_fraction', 0.4, 1.0),\n",
    "                        'bagging_freq': trial.suggest_int('bagging_freq', 1, 7),\n",
    "                        'min_child_samples': trial.suggest_int('min_child_samples', 5, 100),\n",
    "                        } \n",
    "\n",
    "    scores_ensemble = np.zeros((len(y_test),len(y_train.unique())))\n",
    "    score_folds = 0\n",
    "    n_splits = 5\n",
    "\n",
    "\n",
    "    skf = StratifiedKFold(n_splits=n_splits)\n",
    "\n",
    "    for i, (if_index, oof_index) in enumerate(skf.split(X_train, y_train)):\n",
    "        \n",
    "        lgb_if_dataset = lgb.Dataset(data=X_train.iloc[if_index],\n",
    "                                        label=y_train.iloc[if_index],\n",
    "                                        free_raw_data=False)\n",
    "        \n",
    "        lgb_oof_dataset = lgb.Dataset(data=X_train.iloc[oof_index],\n",
    "                                        label=y_train.iloc[oof_index],\n",
    "                                        free_raw_data=False)\n",
    "\n",
    "        lgb_model = lgb.train(lgb_params,\n",
    "                                lgb_if_dataset,\n",
    "                                valid_sets=lgb_oof_dataset,\n",
    "                                callbacks=[lgb.early_stopping(10, verbose=False)],\n",
    "                                feval = lgb_custom_metric_kappa\n",
    "                                )\n",
    "        \n",
    "        scores_ensemble = scores_ensemble + lgb_model.predict(X_test) #prediction!!!!\n",
    "        \n",
    "        score_folds = score_folds + cohen_kappa_score(y_train.iloc[oof_index], \n",
    "                                                            lgb_model.predict(X_train.iloc[oof_index]).argmax(axis=1),weights = 'quadratic')/n_splits\n",
    "\n",
    "\n",
    "    predicted_filename = os.path.join(PATH_TO_TEMP_FILES,f'test_{trial.study.study_name}_{trial.number}.joblib')\n",
    "    predicted_df = test.copy()\n",
    "    predicted_df['pred'] = [scores_ensemble[p,:] for p in range(scores_ensemble.shape[0])]\n",
    "    dump(predicted_df, predicted_filename)\n",
    "    upload_artifact(trial, predicted_filename, artifact_store)    \n",
    "\n",
    "    cm_filename = os.path.join(PATH_TO_TEMP_FILES,f'cm_{trial.study.study_name}_{trial.number}.jpg')\n",
    "    plot_confusion_matrix(y_test,scores_ensemble.argmax(axis=1)).write_image(cm_filename)\n",
    "    upload_artifact(trial, cm_filename, artifact_store)\n",
    "\n",
    "    test_score = cohen_kappa_score(y_test,scores_ensemble.argmax(axis=1),weights = 'quadratic')\n",
    "    trial.set_user_attr(\"test_score\", test_score)\n",
    "\n",
    "    return(score_folds)"
   ]
  },
  {
   "cell_type": "code",
   "execution_count": 27,
   "metadata": {},
   "outputs": [
    {
     "name": "stderr",
     "output_type": "stream",
     "text": [
      "/var/folders/l7/l93x40d92cvcv2gjmhtlx83m0000gn/T/ipykernel_44390/3012677449.py:1: ExperimentalWarning:\n",
      "\n",
      "FileSystemArtifactStore is experimental (supported from v3.3.0). The interface can change in the future.\n",
      "\n",
      "[I 2024-06-13 22:05:49,105] Using an existing study with name '04 - LGB Multiclass CV' instead of creating a new one.\n",
      "/var/folders/l7/l93x40d92cvcv2gjmhtlx83m0000gn/T/ipykernel_44390/1344764334.py:57: ExperimentalWarning:\n",
      "\n",
      "upload_artifact is experimental (supported from v3.3.0). The interface can change in the future.\n",
      "\n",
      "/var/folders/l7/l93x40d92cvcv2gjmhtlx83m0000gn/T/ipykernel_44390/1344764334.py:61: ExperimentalWarning:\n",
      "\n",
      "upload_artifact is experimental (supported from v3.3.0). The interface can change in the future.\n",
      "\n",
      "[I 2024-06-13 22:05:59,943] Trial 1 finished with value: 0.3430791462736516 and parameters: {'lambda_l1': 0.07727481504513307, 'lambda_l2': 8.051625974550176e-08, 'num_leaves': 183, 'feature_fraction': 0.9302648525910353, 'bagging_fraction': 0.8668788940015361, 'bagging_freq': 1, 'min_child_samples': 56}. Best is trial 1 with value: 0.3430791462736516.\n",
      "/var/folders/l7/l93x40d92cvcv2gjmhtlx83m0000gn/T/ipykernel_44390/1344764334.py:57: ExperimentalWarning:\n",
      "\n",
      "upload_artifact is experimental (supported from v3.3.0). The interface can change in the future.\n",
      "\n",
      "/var/folders/l7/l93x40d92cvcv2gjmhtlx83m0000gn/T/ipykernel_44390/1344764334.py:61: ExperimentalWarning:\n",
      "\n",
      "upload_artifact is experimental (supported from v3.3.0). The interface can change in the future.\n",
      "\n",
      "[I 2024-06-13 22:06:06,268] Trial 2 finished with value: 0.3536275010707617 and parameters: {'lambda_l1': 8.758794925474626e-08, 'lambda_l2': 2.986763717502528e-08, 'num_leaves': 32, 'feature_fraction': 0.41408569154392144, 'bagging_fraction': 0.6328989153729498, 'bagging_freq': 3, 'min_child_samples': 78}. Best is trial 2 with value: 0.3536275010707617.\n",
      "/var/folders/l7/l93x40d92cvcv2gjmhtlx83m0000gn/T/ipykernel_44390/1344764334.py:57: ExperimentalWarning:\n",
      "\n",
      "upload_artifact is experimental (supported from v3.3.0). The interface can change in the future.\n",
      "\n",
      "/var/folders/l7/l93x40d92cvcv2gjmhtlx83m0000gn/T/ipykernel_44390/1344764334.py:61: ExperimentalWarning:\n",
      "\n",
      "upload_artifact is experimental (supported from v3.3.0). The interface can change in the future.\n",
      "\n",
      "[I 2024-06-13 22:06:09,024] Trial 3 finished with value: 0.3457781548481005 and parameters: {'lambda_l1': 0.0002471999637041976, 'lambda_l2': 1.7285507240489965e-05, 'num_leaves': 6, 'feature_fraction': 0.8888581260076565, 'bagging_fraction': 0.7790542545683851, 'bagging_freq': 7, 'min_child_samples': 21}. Best is trial 2 with value: 0.3536275010707617.\n",
      "/var/folders/l7/l93x40d92cvcv2gjmhtlx83m0000gn/T/ipykernel_44390/1344764334.py:57: ExperimentalWarning:\n",
      "\n",
      "upload_artifact is experimental (supported from v3.3.0). The interface can change in the future.\n",
      "\n",
      "/var/folders/l7/l93x40d92cvcv2gjmhtlx83m0000gn/T/ipykernel_44390/1344764334.py:61: ExperimentalWarning:\n",
      "\n",
      "upload_artifact is experimental (supported from v3.3.0). The interface can change in the future.\n",
      "\n",
      "[I 2024-06-13 22:06:13,297] Trial 4 finished with value: 0.3489885670177887 and parameters: {'lambda_l1': 0.00020960375841269725, 'lambda_l2': 4.042682350313092e-08, 'num_leaves': 41, 'feature_fraction': 0.7635216406292693, 'bagging_fraction': 0.8150807829445575, 'bagging_freq': 4, 'min_child_samples': 33}. Best is trial 2 with value: 0.3536275010707617.\n",
      "/var/folders/l7/l93x40d92cvcv2gjmhtlx83m0000gn/T/ipykernel_44390/1344764334.py:57: ExperimentalWarning:\n",
      "\n",
      "upload_artifact is experimental (supported from v3.3.0). The interface can change in the future.\n",
      "\n",
      "/var/folders/l7/l93x40d92cvcv2gjmhtlx83m0000gn/T/ipykernel_44390/1344764334.py:61: ExperimentalWarning:\n",
      "\n",
      "upload_artifact is experimental (supported from v3.3.0). The interface can change in the future.\n",
      "\n",
      "[I 2024-06-13 22:06:18,140] Trial 5 finished with value: 0.34498764567656 and parameters: {'lambda_l1': 4.3769726307527034e-05, 'lambda_l2': 8.868817272216463e-05, 'num_leaves': 163, 'feature_fraction': 0.8779758414252705, 'bagging_fraction': 0.6799503742663485, 'bagging_freq': 7, 'min_child_samples': 92}. Best is trial 2 with value: 0.3536275010707617.\n",
      "/var/folders/l7/l93x40d92cvcv2gjmhtlx83m0000gn/T/ipykernel_44390/1344764334.py:57: ExperimentalWarning:\n",
      "\n",
      "upload_artifact is experimental (supported from v3.3.0). The interface can change in the future.\n",
      "\n",
      "/var/folders/l7/l93x40d92cvcv2gjmhtlx83m0000gn/T/ipykernel_44390/1344764334.py:61: ExperimentalWarning:\n",
      "\n",
      "upload_artifact is experimental (supported from v3.3.0). The interface can change in the future.\n",
      "\n",
      "[I 2024-06-13 22:06:29,237] Trial 6 finished with value: 0.3387542639284909 and parameters: {'lambda_l1': 2.336283493633084e-06, 'lambda_l2': 6.674546673942346e-07, 'num_leaves': 248, 'feature_fraction': 0.9138182475749971, 'bagging_fraction': 0.8118545047005729, 'bagging_freq': 1, 'min_child_samples': 25}. Best is trial 2 with value: 0.3536275010707617.\n",
      "/var/folders/l7/l93x40d92cvcv2gjmhtlx83m0000gn/T/ipykernel_44390/1344764334.py:57: ExperimentalWarning:\n",
      "\n",
      "upload_artifact is experimental (supported from v3.3.0). The interface can change in the future.\n",
      "\n",
      "/var/folders/l7/l93x40d92cvcv2gjmhtlx83m0000gn/T/ipykernel_44390/1344764334.py:61: ExperimentalWarning:\n",
      "\n",
      "upload_artifact is experimental (supported from v3.3.0). The interface can change in the future.\n",
      "\n",
      "[I 2024-06-13 22:06:33,772] Trial 7 finished with value: 0.34564570297684716 and parameters: {'lambda_l1': 2.7453557134481107e-06, 'lambda_l2': 1.42814451471307, 'num_leaves': 133, 'feature_fraction': 0.8583152954770841, 'bagging_fraction': 0.5005905163098888, 'bagging_freq': 7, 'min_child_samples': 75}. Best is trial 2 with value: 0.3536275010707617.\n",
      "/var/folders/l7/l93x40d92cvcv2gjmhtlx83m0000gn/T/ipykernel_44390/1344764334.py:57: ExperimentalWarning:\n",
      "\n",
      "upload_artifact is experimental (supported from v3.3.0). The interface can change in the future.\n",
      "\n",
      "/var/folders/l7/l93x40d92cvcv2gjmhtlx83m0000gn/T/ipykernel_44390/1344764334.py:61: ExperimentalWarning:\n",
      "\n",
      "upload_artifact is experimental (supported from v3.3.0). The interface can change in the future.\n",
      "\n",
      "[I 2024-06-13 22:06:38,584] Trial 8 finished with value: 0.34001718981800977 and parameters: {'lambda_l1': 1.2301836594496023e-05, 'lambda_l2': 0.023118885596505885, 'num_leaves': 200, 'feature_fraction': 0.6761503613761052, 'bagging_fraction': 0.5084486226242588, 'bagging_freq': 5, 'min_child_samples': 89}. Best is trial 2 with value: 0.3536275010707617.\n",
      "/var/folders/l7/l93x40d92cvcv2gjmhtlx83m0000gn/T/ipykernel_44390/1344764334.py:57: ExperimentalWarning:\n",
      "\n",
      "upload_artifact is experimental (supported from v3.3.0). The interface can change in the future.\n",
      "\n",
      "/var/folders/l7/l93x40d92cvcv2gjmhtlx83m0000gn/T/ipykernel_44390/1344764334.py:61: ExperimentalWarning:\n",
      "\n",
      "upload_artifact is experimental (supported from v3.3.0). The interface can change in the future.\n",
      "\n",
      "[I 2024-06-13 22:06:44,892] Trial 9 finished with value: 0.3545873381461556 and parameters: {'lambda_l1': 2.2709291437768452e-05, 'lambda_l2': 0.00020899348511394121, 'num_leaves': 160, 'feature_fraction': 0.7349641250001466, 'bagging_fraction': 0.7948395664141535, 'bagging_freq': 7, 'min_child_samples': 83}. Best is trial 9 with value: 0.3545873381461556.\n",
      "/var/folders/l7/l93x40d92cvcv2gjmhtlx83m0000gn/T/ipykernel_44390/1344764334.py:57: ExperimentalWarning:\n",
      "\n",
      "upload_artifact is experimental (supported from v3.3.0). The interface can change in the future.\n",
      "\n",
      "/var/folders/l7/l93x40d92cvcv2gjmhtlx83m0000gn/T/ipykernel_44390/1344764334.py:61: ExperimentalWarning:\n",
      "\n",
      "upload_artifact is experimental (supported from v3.3.0). The interface can change in the future.\n",
      "\n",
      "[I 2024-06-13 22:06:55,029] Trial 10 finished with value: 0.3552643658592431 and parameters: {'lambda_l1': 0.02075665721791944, 'lambda_l2': 0.2694465994656927, 'num_leaves': 122, 'feature_fraction': 0.4439603177481471, 'bagging_fraction': 0.7619391182264782, 'bagging_freq': 2, 'min_child_samples': 64}. Best is trial 10 with value: 0.3552643658592431.\n",
      "/var/folders/l7/l93x40d92cvcv2gjmhtlx83m0000gn/T/ipykernel_44390/1344764334.py:57: ExperimentalWarning:\n",
      "\n",
      "upload_artifact is experimental (supported from v3.3.0). The interface can change in the future.\n",
      "\n",
      "/var/folders/l7/l93x40d92cvcv2gjmhtlx83m0000gn/T/ipykernel_44390/1344764334.py:61: ExperimentalWarning:\n",
      "\n",
      "upload_artifact is experimental (supported from v3.3.0). The interface can change in the future.\n",
      "\n",
      "[I 2024-06-13 22:07:00,488] Trial 11 finished with value: 0.34719911721043184 and parameters: {'lambda_l1': 7.556893978531704, 'lambda_l2': 1.9484738667844523, 'num_leaves': 85, 'feature_fraction': 0.4238683636581375, 'bagging_fraction': 0.9740318251632132, 'bagging_freq': 2, 'min_child_samples': 48}. Best is trial 10 with value: 0.3552643658592431.\n",
      "/var/folders/l7/l93x40d92cvcv2gjmhtlx83m0000gn/T/ipykernel_44390/1344764334.py:57: ExperimentalWarning:\n",
      "\n",
      "upload_artifact is experimental (supported from v3.3.0). The interface can change in the future.\n",
      "\n",
      "/var/folders/l7/l93x40d92cvcv2gjmhtlx83m0000gn/T/ipykernel_44390/1344764334.py:61: ExperimentalWarning:\n",
      "\n",
      "upload_artifact is experimental (supported from v3.3.0). The interface can change in the future.\n",
      "\n",
      "[I 2024-06-13 22:07:09,103] Trial 12 finished with value: 0.3515826657536901 and parameters: {'lambda_l1': 0.057791770466347564, 'lambda_l2': 0.00562733735047916, 'num_leaves': 105, 'feature_fraction': 0.5946452728750224, 'bagging_fraction': 0.932190457319034, 'bagging_freq': 5, 'min_child_samples': 62}. Best is trial 10 with value: 0.3552643658592431.\n",
      "/var/folders/l7/l93x40d92cvcv2gjmhtlx83m0000gn/T/ipykernel_44390/1344764334.py:57: ExperimentalWarning:\n",
      "\n",
      "upload_artifact is experimental (supported from v3.3.0). The interface can change in the future.\n",
      "\n",
      "/var/folders/l7/l93x40d92cvcv2gjmhtlx83m0000gn/T/ipykernel_44390/1344764334.py:61: ExperimentalWarning:\n",
      "\n",
      "upload_artifact is experimental (supported from v3.3.0). The interface can change in the future.\n",
      "\n",
      "[I 2024-06-13 22:07:21,444] Trial 13 finished with value: 0.3447321144202528 and parameters: {'lambda_l1': 0.008897876105901825, 'lambda_l2': 0.008433267017485585, 'num_leaves': 139, 'feature_fraction': 0.5528983132152964, 'bagging_fraction': 0.6315119874455863, 'bagging_freq': 3, 'min_child_samples': 5}. Best is trial 10 with value: 0.3552643658592431.\n",
      "/var/folders/l7/l93x40d92cvcv2gjmhtlx83m0000gn/T/ipykernel_44390/1344764334.py:57: ExperimentalWarning:\n",
      "\n",
      "upload_artifact is experimental (supported from v3.3.0). The interface can change in the future.\n",
      "\n",
      "/var/folders/l7/l93x40d92cvcv2gjmhtlx83m0000gn/T/ipykernel_44390/1344764334.py:61: ExperimentalWarning:\n",
      "\n",
      "upload_artifact is experimental (supported from v3.3.0). The interface can change in the future.\n",
      "\n",
      "[I 2024-06-13 22:07:26,686] Trial 14 finished with value: 0.3494561893792565 and parameters: {'lambda_l1': 0.003276174186214451, 'lambda_l2': 0.09595467743058159, 'num_leaves': 85, 'feature_fraction': 0.7526195483184572, 'bagging_fraction': 0.7369149786014141, 'bagging_freq': 5, 'min_child_samples': 72}. Best is trial 10 with value: 0.3552643658592431.\n",
      "/var/folders/l7/l93x40d92cvcv2gjmhtlx83m0000gn/T/ipykernel_44390/1344764334.py:57: ExperimentalWarning:\n",
      "\n",
      "upload_artifact is experimental (supported from v3.3.0). The interface can change in the future.\n",
      "\n",
      "/var/folders/l7/l93x40d92cvcv2gjmhtlx83m0000gn/T/ipykernel_44390/1344764334.py:61: ExperimentalWarning:\n",
      "\n",
      "upload_artifact is experimental (supported from v3.3.0). The interface can change in the future.\n",
      "\n",
      "[I 2024-06-13 22:07:36,713] Trial 15 finished with value: 0.35943241948602794 and parameters: {'lambda_l1': 1.2510318966724123, 'lambda_l2': 0.0007065485570240518, 'num_leaves': 222, 'feature_fraction': 0.5251178175117512, 'bagging_fraction': 0.8884885028662112, 'bagging_freq': 6, 'min_child_samples': 41}. Best is trial 15 with value: 0.35943241948602794.\n",
      "/var/folders/l7/l93x40d92cvcv2gjmhtlx83m0000gn/T/ipykernel_44390/1344764334.py:57: ExperimentalWarning:\n",
      "\n",
      "upload_artifact is experimental (supported from v3.3.0). The interface can change in the future.\n",
      "\n",
      "/var/folders/l7/l93x40d92cvcv2gjmhtlx83m0000gn/T/ipykernel_44390/1344764334.py:61: ExperimentalWarning:\n",
      "\n",
      "upload_artifact is experimental (supported from v3.3.0). The interface can change in the future.\n",
      "\n",
      "[I 2024-06-13 22:07:41,256] Trial 16 finished with value: 0.3480730973874989 and parameters: {'lambda_l1': 8.063157539685605, 'lambda_l2': 5.738758283552502e-06, 'num_leaves': 255, 'feature_fraction': 0.5085014263095851, 'bagging_fraction': 0.8926002875434595, 'bagging_freq': 6, 'min_child_samples': 43}. Best is trial 15 with value: 0.35943241948602794.\n",
      "/var/folders/l7/l93x40d92cvcv2gjmhtlx83m0000gn/T/ipykernel_44390/1344764334.py:57: ExperimentalWarning:\n",
      "\n",
      "upload_artifact is experimental (supported from v3.3.0). The interface can change in the future.\n",
      "\n",
      "/var/folders/l7/l93x40d92cvcv2gjmhtlx83m0000gn/T/ipykernel_44390/1344764334.py:61: ExperimentalWarning:\n",
      "\n",
      "upload_artifact is experimental (supported from v3.3.0). The interface can change in the future.\n",
      "\n",
      "[I 2024-06-13 22:07:50,197] Trial 17 finished with value: 0.3544930408886002 and parameters: {'lambda_l1': 0.5764252245186391, 'lambda_l2': 0.0009517143939207313, 'num_leaves': 212, 'feature_fraction': 0.494011612292497, 'bagging_fraction': 0.9957110379666464, 'bagging_freq': 3, 'min_child_samples': 64}. Best is trial 15 with value: 0.35943241948602794.\n",
      "/var/folders/l7/l93x40d92cvcv2gjmhtlx83m0000gn/T/ipykernel_44390/1344764334.py:57: ExperimentalWarning:\n",
      "\n",
      "upload_artifact is experimental (supported from v3.3.0). The interface can change in the future.\n",
      "\n",
      "/var/folders/l7/l93x40d92cvcv2gjmhtlx83m0000gn/T/ipykernel_44390/1344764334.py:61: ExperimentalWarning:\n",
      "\n",
      "upload_artifact is experimental (supported from v3.3.0). The interface can change in the future.\n",
      "\n",
      "[I 2024-06-13 22:07:55,068] Trial 18 finished with value: 0.3551233657889129 and parameters: {'lambda_l1': 0.5291302370033251, 'lambda_l2': 9.182681614957659, 'num_leaves': 106, 'feature_fraction': 0.6203629080860675, 'bagging_fraction': 0.4207889811262601, 'bagging_freq': 2, 'min_child_samples': 47}. Best is trial 15 with value: 0.35943241948602794.\n",
      "/var/folders/l7/l93x40d92cvcv2gjmhtlx83m0000gn/T/ipykernel_44390/1344764334.py:57: ExperimentalWarning:\n",
      "\n",
      "upload_artifact is experimental (supported from v3.3.0). The interface can change in the future.\n",
      "\n",
      "/var/folders/l7/l93x40d92cvcv2gjmhtlx83m0000gn/T/ipykernel_44390/1344764334.py:61: ExperimentalWarning:\n",
      "\n",
      "upload_artifact is experimental (supported from v3.3.0). The interface can change in the future.\n",
      "\n",
      "[I 2024-06-13 22:08:08,467] Trial 19 finished with value: 0.3535301675929151 and parameters: {'lambda_l1': 0.0026854572341295725, 'lambda_l2': 0.1626124184979668, 'num_leaves': 216, 'feature_fraction': 0.48796176297414656, 'bagging_fraction': 0.8736615778989961, 'bagging_freq': 4, 'min_child_samples': 37}. Best is trial 15 with value: 0.35943241948602794.\n",
      "/var/folders/l7/l93x40d92cvcv2gjmhtlx83m0000gn/T/ipykernel_44390/1344764334.py:57: ExperimentalWarning:\n",
      "\n",
      "upload_artifact is experimental (supported from v3.3.0). The interface can change in the future.\n",
      "\n",
      "/var/folders/l7/l93x40d92cvcv2gjmhtlx83m0000gn/T/ipykernel_44390/1344764334.py:61: ExperimentalWarning:\n",
      "\n",
      "upload_artifact is experimental (supported from v3.3.0). The interface can change in the future.\n",
      "\n",
      "[I 2024-06-13 22:08:14,582] Trial 20 finished with value: 0.35315843815386927 and parameters: {'lambda_l1': 0.3524286651139933, 'lambda_l2': 0.000833651564979283, 'num_leaves': 63, 'feature_fraction': 0.6554342489114328, 'bagging_fraction': 0.7086849704545789, 'bagging_freq': 6, 'min_child_samples': 58}. Best is trial 15 with value: 0.35943241948602794.\n",
      "/var/folders/l7/l93x40d92cvcv2gjmhtlx83m0000gn/T/ipykernel_44390/1344764334.py:57: ExperimentalWarning:\n",
      "\n",
      "upload_artifact is experimental (supported from v3.3.0). The interface can change in the future.\n",
      "\n",
      "/var/folders/l7/l93x40d92cvcv2gjmhtlx83m0000gn/T/ipykernel_44390/1344764334.py:61: ExperimentalWarning:\n",
      "\n",
      "upload_artifact is experimental (supported from v3.3.0). The interface can change in the future.\n",
      "\n",
      "[I 2024-06-13 22:08:28,602] Trial 21 finished with value: 0.34654136630048 and parameters: {'lambda_l1': 0.02883089311911062, 'lambda_l2': 0.29974421265045026, 'num_leaves': 162, 'feature_fraction': 0.5508760582185417, 'bagging_fraction': 0.5899832108530498, 'bagging_freq': 2, 'min_child_samples': 16}. Best is trial 15 with value: 0.35943241948602794.\n",
      "/var/folders/l7/l93x40d92cvcv2gjmhtlx83m0000gn/T/ipykernel_44390/1344764334.py:57: ExperimentalWarning:\n",
      "\n",
      "upload_artifact is experimental (supported from v3.3.0). The interface can change in the future.\n",
      "\n",
      "/var/folders/l7/l93x40d92cvcv2gjmhtlx83m0000gn/T/ipykernel_44390/1344764334.py:61: ExperimentalWarning:\n",
      "\n",
      "upload_artifact is experimental (supported from v3.3.0). The interface can change in the future.\n",
      "\n",
      "[I 2024-06-13 22:08:35,208] Trial 22 finished with value: 0.35475125339406877 and parameters: {'lambda_l1': 0.7614018851290092, 'lambda_l2': 4.483260160064369, 'num_leaves': 112, 'feature_fraction': 0.6071087202229772, 'bagging_fraction': 0.5581340984860159, 'bagging_freq': 2, 'min_child_samples': 47}. Best is trial 15 with value: 0.35943241948602794.\n",
      "/var/folders/l7/l93x40d92cvcv2gjmhtlx83m0000gn/T/ipykernel_44390/1344764334.py:57: ExperimentalWarning:\n",
      "\n",
      "upload_artifact is experimental (supported from v3.3.0). The interface can change in the future.\n",
      "\n",
      "/var/folders/l7/l93x40d92cvcv2gjmhtlx83m0000gn/T/ipykernel_44390/1344764334.py:61: ExperimentalWarning:\n",
      "\n",
      "upload_artifact is experimental (supported from v3.3.0). The interface can change in the future.\n",
      "\n",
      "[I 2024-06-13 22:08:39,847] Trial 23 finished with value: 0.34569752040019663 and parameters: {'lambda_l1': 1.634519263703277, 'lambda_l2': 7.6161987312659996, 'num_leaves': 111, 'feature_fraction': 0.4576979423910794, 'bagging_fraction': 0.4134313679371639, 'bagging_freq': 1, 'min_child_samples': 100}. Best is trial 15 with value: 0.35943241948602794.\n",
      "/var/folders/l7/l93x40d92cvcv2gjmhtlx83m0000gn/T/ipykernel_44390/1344764334.py:57: ExperimentalWarning:\n",
      "\n",
      "upload_artifact is experimental (supported from v3.3.0). The interface can change in the future.\n",
      "\n",
      "/var/folders/l7/l93x40d92cvcv2gjmhtlx83m0000gn/T/ipykernel_44390/1344764334.py:61: ExperimentalWarning:\n",
      "\n",
      "upload_artifact is experimental (supported from v3.3.0). The interface can change in the future.\n",
      "\n",
      "[I 2024-06-13 22:08:46,781] Trial 24 finished with value: 0.3458329126353321 and parameters: {'lambda_l1': 0.15185988017008897, 'lambda_l2': 0.43856368185130834, 'num_leaves': 76, 'feature_fraction': 0.6016139682632429, 'bagging_fraction': 0.42443100686127266, 'bagging_freq': 4, 'min_child_samples': 33}. Best is trial 15 with value: 0.35943241948602794.\n",
      "/var/folders/l7/l93x40d92cvcv2gjmhtlx83m0000gn/T/ipykernel_44390/1344764334.py:57: ExperimentalWarning:\n",
      "\n",
      "upload_artifact is experimental (supported from v3.3.0). The interface can change in the future.\n",
      "\n",
      "/var/folders/l7/l93x40d92cvcv2gjmhtlx83m0000gn/T/ipykernel_44390/1344764334.py:61: ExperimentalWarning:\n",
      "\n",
      "upload_artifact is experimental (supported from v3.3.0). The interface can change in the future.\n",
      "\n",
      "[I 2024-06-13 22:08:54,508] Trial 25 finished with value: 0.35840922665213304 and parameters: {'lambda_l1': 0.009820251465476526, 'lambda_l2': 0.02047551769790165, 'num_leaves': 145, 'feature_fraction': 0.5629542396172788, 'bagging_fraction': 0.7328550166962265, 'bagging_freq': 2, 'min_child_samples': 67}. Best is trial 15 with value: 0.35943241948602794.\n",
      "/var/folders/l7/l93x40d92cvcv2gjmhtlx83m0000gn/T/ipykernel_44390/1344764334.py:57: ExperimentalWarning:\n",
      "\n",
      "upload_artifact is experimental (supported from v3.3.0). The interface can change in the future.\n",
      "\n",
      "/var/folders/l7/l93x40d92cvcv2gjmhtlx83m0000gn/T/ipykernel_44390/1344764334.py:61: ExperimentalWarning:\n",
      "\n",
      "upload_artifact is experimental (supported from v3.3.0). The interface can change in the future.\n",
      "\n",
      "[I 2024-06-13 22:09:03,064] Trial 26 finished with value: 0.35646740119134435 and parameters: {'lambda_l1': 0.0011241005547557182, 'lambda_l2': 0.018429801469095102, 'num_leaves': 230, 'feature_fraction': 0.5264975754400759, 'bagging_fraction': 0.753236874683896, 'bagging_freq': 3, 'min_child_samples': 67}. Best is trial 15 with value: 0.35943241948602794.\n",
      "/var/folders/l7/l93x40d92cvcv2gjmhtlx83m0000gn/T/ipykernel_44390/1344764334.py:57: ExperimentalWarning:\n",
      "\n",
      "upload_artifact is experimental (supported from v3.3.0). The interface can change in the future.\n",
      "\n",
      "/var/folders/l7/l93x40d92cvcv2gjmhtlx83m0000gn/T/ipykernel_44390/1344764334.py:61: ExperimentalWarning:\n",
      "\n",
      "upload_artifact is experimental (supported from v3.3.0). The interface can change in the future.\n",
      "\n",
      "[I 2024-06-13 22:09:10,188] Trial 27 finished with value: 0.3472966652517251 and parameters: {'lambda_l1': 0.0011821587535501279, 'lambda_l2': 0.0032033123084500175, 'num_leaves': 225, 'feature_fraction': 0.5264786084686578, 'bagging_fraction': 0.6889720153184067, 'bagging_freq': 3, 'min_child_samples': 70}. Best is trial 15 with value: 0.35943241948602794.\n",
      "/var/folders/l7/l93x40d92cvcv2gjmhtlx83m0000gn/T/ipykernel_44390/1344764334.py:57: ExperimentalWarning:\n",
      "\n",
      "upload_artifact is experimental (supported from v3.3.0). The interface can change in the future.\n",
      "\n",
      "/var/folders/l7/l93x40d92cvcv2gjmhtlx83m0000gn/T/ipykernel_44390/1344764334.py:61: ExperimentalWarning:\n",
      "\n",
      "upload_artifact is experimental (supported from v3.3.0). The interface can change in the future.\n",
      "\n",
      "[I 2024-06-13 22:09:18,610] Trial 28 finished with value: 0.3569332963503592 and parameters: {'lambda_l1': 0.0005596858709733835, 'lambda_l2': 0.021576784459376802, 'num_leaves': 232, 'feature_fraction': 0.5499271298896542, 'bagging_fraction': 0.8451793876848155, 'bagging_freq': 6, 'min_child_samples': 67}. Best is trial 15 with value: 0.35943241948602794.\n",
      "/var/folders/l7/l93x40d92cvcv2gjmhtlx83m0000gn/T/ipykernel_44390/1344764334.py:57: ExperimentalWarning:\n",
      "\n",
      "upload_artifact is experimental (supported from v3.3.0). The interface can change in the future.\n",
      "\n",
      "/var/folders/l7/l93x40d92cvcv2gjmhtlx83m0000gn/T/ipykernel_44390/1344764334.py:61: ExperimentalWarning:\n",
      "\n",
      "upload_artifact is experimental (supported from v3.3.0). The interface can change in the future.\n",
      "\n",
      "[I 2024-06-13 22:09:27,736] Trial 29 finished with value: 0.35385882350588804 and parameters: {'lambda_l1': 0.00010202099024416817, 'lambda_l2': 0.050463582525373335, 'num_leaves': 189, 'feature_fraction': 0.5682144116718131, 'bagging_fraction': 0.8401574308698141, 'bagging_freq': 6, 'min_child_samples': 54}. Best is trial 15 with value: 0.35943241948602794.\n",
      "/var/folders/l7/l93x40d92cvcv2gjmhtlx83m0000gn/T/ipykernel_44390/1344764334.py:57: ExperimentalWarning:\n",
      "\n",
      "upload_artifact is experimental (supported from v3.3.0). The interface can change in the future.\n",
      "\n",
      "/var/folders/l7/l93x40d92cvcv2gjmhtlx83m0000gn/T/ipykernel_44390/1344764334.py:61: ExperimentalWarning:\n",
      "\n",
      "upload_artifact is experimental (supported from v3.3.0). The interface can change in the future.\n",
      "\n",
      "[I 2024-06-13 22:09:34,635] Trial 30 finished with value: 0.35060554261573496 and parameters: {'lambda_l1': 0.007708846489751026, 'lambda_l2': 4.673821764541261e-05, 'num_leaves': 182, 'feature_fraction': 0.9798764899663674, 'bagging_fraction': 0.9154233295033625, 'bagging_freq': 6, 'min_child_samples': 81}. Best is trial 15 with value: 0.35943241948602794.\n",
      "/var/folders/l7/l93x40d92cvcv2gjmhtlx83m0000gn/T/ipykernel_44390/1344764334.py:57: ExperimentalWarning:\n",
      "\n",
      "upload_artifact is experimental (supported from v3.3.0). The interface can change in the future.\n",
      "\n",
      "/var/folders/l7/l93x40d92cvcv2gjmhtlx83m0000gn/T/ipykernel_44390/1344764334.py:61: ExperimentalWarning:\n",
      "\n",
      "upload_artifact is experimental (supported from v3.3.0). The interface can change in the future.\n",
      "\n",
      "[I 2024-06-13 22:09:41,215] Trial 31 finished with value: 0.3477429238802445 and parameters: {'lambda_l1': 4.296332775847854e-08, 'lambda_l2': 0.001557369074969343, 'num_leaves': 241, 'feature_fraction': 0.7965978059506629, 'bagging_fraction': 0.8475131965976787, 'bagging_freq': 5, 'min_child_samples': 56}. Best is trial 15 with value: 0.35943241948602794.\n",
      "/var/folders/l7/l93x40d92cvcv2gjmhtlx83m0000gn/T/ipykernel_44390/1344764334.py:57: ExperimentalWarning:\n",
      "\n",
      "upload_artifact is experimental (supported from v3.3.0). The interface can change in the future.\n",
      "\n",
      "/var/folders/l7/l93x40d92cvcv2gjmhtlx83m0000gn/T/ipykernel_44390/1344764334.py:61: ExperimentalWarning:\n",
      "\n",
      "upload_artifact is experimental (supported from v3.3.0). The interface can change in the future.\n",
      "\n",
      "[I 2024-06-13 22:09:47,427] Trial 32 finished with value: 0.35485460589966533 and parameters: {'lambda_l1': 0.0006922296837088796, 'lambda_l2': 0.023427806510546895, 'num_leaves': 234, 'feature_fraction': 0.6417659510647619, 'bagging_fraction': 0.7446970283197795, 'bagging_freq': 4, 'min_child_samples': 69}. Best is trial 15 with value: 0.35943241948602794.\n",
      "/var/folders/l7/l93x40d92cvcv2gjmhtlx83m0000gn/T/ipykernel_44390/1344764334.py:57: ExperimentalWarning:\n",
      "\n",
      "upload_artifact is experimental (supported from v3.3.0). The interface can change in the future.\n",
      "\n",
      "/var/folders/l7/l93x40d92cvcv2gjmhtlx83m0000gn/T/ipykernel_44390/1344764334.py:61: ExperimentalWarning:\n",
      "\n",
      "upload_artifact is experimental (supported from v3.3.0). The interface can change in the future.\n",
      "\n",
      "[I 2024-06-13 22:09:57,837] Trial 33 finished with value: 0.3607766477363895 and parameters: {'lambda_l1': 0.0008494027571289975, 'lambda_l2': 0.01293499229027026, 'num_leaves': 193, 'feature_fraction': 0.5356961485864495, 'bagging_fraction': 0.9419928883934328, 'bagging_freq': 3, 'min_child_samples': 65}. Best is trial 33 with value: 0.3607766477363895.\n",
      "/var/folders/l7/l93x40d92cvcv2gjmhtlx83m0000gn/T/ipykernel_44390/1344764334.py:57: ExperimentalWarning:\n",
      "\n",
      "upload_artifact is experimental (supported from v3.3.0). The interface can change in the future.\n",
      "\n",
      "/var/folders/l7/l93x40d92cvcv2gjmhtlx83m0000gn/T/ipykernel_44390/1344764334.py:61: ExperimentalWarning:\n",
      "\n",
      "upload_artifact is experimental (supported from v3.3.0). The interface can change in the future.\n",
      "\n",
      "[I 2024-06-13 22:10:08,887] Trial 34 finished with value: 0.35371389314420937 and parameters: {'lambda_l1': 3.6214231013241555e-07, 'lambda_l2': 0.00030122013137705723, 'num_leaves': 180, 'feature_fraction': 0.46551140470134933, 'bagging_fraction': 0.9422691689294652, 'bagging_freq': 1, 'min_child_samples': 60}. Best is trial 33 with value: 0.3607766477363895.\n",
      "/var/folders/l7/l93x40d92cvcv2gjmhtlx83m0000gn/T/ipykernel_44390/1344764334.py:57: ExperimentalWarning:\n",
      "\n",
      "upload_artifact is experimental (supported from v3.3.0). The interface can change in the future.\n",
      "\n",
      "/var/folders/l7/l93x40d92cvcv2gjmhtlx83m0000gn/T/ipykernel_44390/1344764334.py:61: ExperimentalWarning:\n",
      "\n",
      "upload_artifact is experimental (supported from v3.3.0). The interface can change in the future.\n",
      "\n",
      "[I 2024-06-13 22:10:19,053] Trial 35 finished with value: 0.34870073250433575 and parameters: {'lambda_l1': 9.365391355690624e-05, 'lambda_l2': 0.0038355845485422632, 'num_leaves': 198, 'feature_fraction': 0.40670498382109965, 'bagging_fraction': 0.8929270375747096, 'bagging_freq': 6, 'min_child_samples': 52}. Best is trial 33 with value: 0.3607766477363895.\n",
      "/var/folders/l7/l93x40d92cvcv2gjmhtlx83m0000gn/T/ipykernel_44390/1344764334.py:57: ExperimentalWarning:\n",
      "\n",
      "upload_artifact is experimental (supported from v3.3.0). The interface can change in the future.\n",
      "\n",
      "/var/folders/l7/l93x40d92cvcv2gjmhtlx83m0000gn/T/ipykernel_44390/1344764334.py:61: ExperimentalWarning:\n",
      "\n",
      "upload_artifact is experimental (supported from v3.3.0). The interface can change in the future.\n",
      "\n",
      "[I 2024-06-13 22:10:29,297] Trial 36 finished with value: 0.3512647628385788 and parameters: {'lambda_l1': 0.00038280771141106177, 'lambda_l2': 0.058057419680556756, 'num_leaves': 147, 'feature_fraction': 0.7065957503544199, 'bagging_fraction': 0.9509558648513611, 'bagging_freq': 4, 'min_child_samples': 39}. Best is trial 33 with value: 0.3607766477363895.\n",
      "/var/folders/l7/l93x40d92cvcv2gjmhtlx83m0000gn/T/ipykernel_44390/1344764334.py:57: ExperimentalWarning:\n",
      "\n",
      "upload_artifact is experimental (supported from v3.3.0). The interface can change in the future.\n",
      "\n",
      "/var/folders/l7/l93x40d92cvcv2gjmhtlx83m0000gn/T/ipykernel_44390/1344764334.py:61: ExperimentalWarning:\n",
      "\n",
      "upload_artifact is experimental (supported from v3.3.0). The interface can change in the future.\n",
      "\n",
      "[I 2024-06-13 22:10:37,592] Trial 37 finished with value: 0.3524563262849608 and parameters: {'lambda_l1': 0.11454776074887639, 'lambda_l2': 5.220620492051239e-06, 'num_leaves': 208, 'feature_fraction': 0.5703407824501598, 'bagging_fraction': 0.8311469281556841, 'bagging_freq': 5, 'min_child_samples': 78}. Best is trial 33 with value: 0.3607766477363895.\n",
      "/var/folders/l7/l93x40d92cvcv2gjmhtlx83m0000gn/T/ipykernel_44390/1344764334.py:57: ExperimentalWarning:\n",
      "\n",
      "upload_artifact is experimental (supported from v3.3.0). The interface can change in the future.\n",
      "\n",
      "/var/folders/l7/l93x40d92cvcv2gjmhtlx83m0000gn/T/ipykernel_44390/1344764334.py:61: ExperimentalWarning:\n",
      "\n",
      "upload_artifact is experimental (supported from v3.3.0). The interface can change in the future.\n",
      "\n",
      "[I 2024-06-13 22:10:45,895] Trial 38 finished with value: 0.36038859218969443 and parameters: {'lambda_l1': 4.462910046183193e-06, 'lambda_l2': 1.794460749078068e-07, 'num_leaves': 174, 'feature_fraction': 0.5369765113535777, 'bagging_fraction': 0.875639851878436, 'bagging_freq': 3, 'min_child_samples': 84}. Best is trial 33 with value: 0.3607766477363895.\n",
      "/var/folders/l7/l93x40d92cvcv2gjmhtlx83m0000gn/T/ipykernel_44390/1344764334.py:57: ExperimentalWarning:\n",
      "\n",
      "upload_artifact is experimental (supported from v3.3.0). The interface can change in the future.\n",
      "\n",
      "/var/folders/l7/l93x40d92cvcv2gjmhtlx83m0000gn/T/ipykernel_44390/1344764334.py:61: ExperimentalWarning:\n",
      "\n",
      "upload_artifact is experimental (supported from v3.3.0). The interface can change in the future.\n",
      "\n",
      "[I 2024-06-13 22:10:55,515] Trial 39 finished with value: 0.3523629433741675 and parameters: {'lambda_l1': 4.002765213931748e-06, 'lambda_l2': 2.949660867854146e-07, 'num_leaves': 173, 'feature_fraction': 0.47809565606225946, 'bagging_fraction': 0.9744356280609412, 'bagging_freq': 3, 'min_child_samples': 88}. Best is trial 33 with value: 0.3607766477363895.\n",
      "/var/folders/l7/l93x40d92cvcv2gjmhtlx83m0000gn/T/ipykernel_44390/1344764334.py:57: ExperimentalWarning:\n",
      "\n",
      "upload_artifact is experimental (supported from v3.3.0). The interface can change in the future.\n",
      "\n",
      "/var/folders/l7/l93x40d92cvcv2gjmhtlx83m0000gn/T/ipykernel_44390/1344764334.py:61: ExperimentalWarning:\n",
      "\n",
      "upload_artifact is experimental (supported from v3.3.0). The interface can change in the future.\n",
      "\n",
      "[I 2024-06-13 22:11:01,266] Trial 40 finished with value: 0.3563767535943167 and parameters: {'lambda_l1': 9.856364324137736e-07, 'lambda_l2': 1.9178391559681245e-08, 'num_leaves': 157, 'feature_fraction': 0.6917926318292109, 'bagging_fraction': 0.9088657290217329, 'bagging_freq': 3, 'min_child_samples': 99}. Best is trial 33 with value: 0.3607766477363895.\n",
      "/var/folders/l7/l93x40d92cvcv2gjmhtlx83m0000gn/T/ipykernel_44390/1344764334.py:57: ExperimentalWarning:\n",
      "\n",
      "upload_artifact is experimental (supported from v3.3.0). The interface can change in the future.\n",
      "\n",
      "/var/folders/l7/l93x40d92cvcv2gjmhtlx83m0000gn/T/ipykernel_44390/1344764334.py:61: ExperimentalWarning:\n",
      "\n",
      "upload_artifact is experimental (supported from v3.3.0). The interface can change in the future.\n",
      "\n",
      "[I 2024-06-13 22:11:04,550] Trial 41 finished with value: 0.35534186806055235 and parameters: {'lambda_l1': 1.795212026745924e-07, 'lambda_l2': 1.7382224901130936e-07, 'num_leaves': 12, 'feature_fraction': 0.5172346218328713, 'bagging_fraction': 0.7886304343709428, 'bagging_freq': 2, 'min_child_samples': 76}. Best is trial 33 with value: 0.3607766477363895.\n",
      "/var/folders/l7/l93x40d92cvcv2gjmhtlx83m0000gn/T/ipykernel_44390/1344764334.py:57: ExperimentalWarning:\n",
      "\n",
      "upload_artifact is experimental (supported from v3.3.0). The interface can change in the future.\n",
      "\n",
      "/var/folders/l7/l93x40d92cvcv2gjmhtlx83m0000gn/T/ipykernel_44390/1344764334.py:61: ExperimentalWarning:\n",
      "\n",
      "upload_artifact is experimental (supported from v3.3.0). The interface can change in the future.\n",
      "\n",
      "[I 2024-06-13 22:11:12,750] Trial 42 finished with value: 0.35266088108159066 and parameters: {'lambda_l1': 8.56513124890891e-06, 'lambda_l2': 0.00013959882762697523, 'num_leaves': 197, 'feature_fraction': 0.5440700608759679, 'bagging_fraction': 0.8098898125269527, 'bagging_freq': 7, 'min_child_samples': 84}. Best is trial 33 with value: 0.3607766477363895.\n",
      "/var/folders/l7/l93x40d92cvcv2gjmhtlx83m0000gn/T/ipykernel_44390/1344764334.py:57: ExperimentalWarning:\n",
      "\n",
      "upload_artifact is experimental (supported from v3.3.0). The interface can change in the future.\n",
      "\n",
      "/var/folders/l7/l93x40d92cvcv2gjmhtlx83m0000gn/T/ipykernel_44390/1344764334.py:61: ExperimentalWarning:\n",
      "\n",
      "upload_artifact is experimental (supported from v3.3.0). The interface can change in the future.\n",
      "\n",
      "[I 2024-06-13 22:11:20,221] Trial 43 finished with value: 0.35458404722543957 and parameters: {'lambda_l1': 1.5078095287294734e-08, 'lambda_l2': 4.100129397552729e-05, 'num_leaves': 174, 'feature_fraction': 0.5837807933024052, 'bagging_fraction': 0.8734604874829264, 'bagging_freq': 2, 'min_child_samples': 95}. Best is trial 33 with value: 0.3607766477363895.\n",
      "/var/folders/l7/l93x40d92cvcv2gjmhtlx83m0000gn/T/ipykernel_44390/1344764334.py:57: ExperimentalWarning:\n",
      "\n",
      "upload_artifact is experimental (supported from v3.3.0). The interface can change in the future.\n",
      "\n",
      "/var/folders/l7/l93x40d92cvcv2gjmhtlx83m0000gn/T/ipykernel_44390/1344764334.py:61: ExperimentalWarning:\n",
      "\n",
      "upload_artifact is experimental (supported from v3.3.0). The interface can change in the future.\n",
      "\n",
      "[I 2024-06-13 22:11:34,481] Trial 44 finished with value: 0.34945805019196474 and parameters: {'lambda_l1': 4.125130546663579e-05, 'lambda_l2': 0.010159633537605869, 'num_leaves': 222, 'feature_fraction': 0.6359649577412829, 'bagging_fraction': 0.8625757334334886, 'bagging_freq': 3, 'min_child_samples': 26}. Best is trial 33 with value: 0.3607766477363895.\n",
      "/var/folders/l7/l93x40d92cvcv2gjmhtlx83m0000gn/T/ipykernel_44390/1344764334.py:57: ExperimentalWarning:\n",
      "\n",
      "upload_artifact is experimental (supported from v3.3.0). The interface can change in the future.\n",
      "\n",
      "/var/folders/l7/l93x40d92cvcv2gjmhtlx83m0000gn/T/ipykernel_44390/1344764334.py:61: ExperimentalWarning:\n",
      "\n",
      "upload_artifact is experimental (supported from v3.3.0). The interface can change in the future.\n",
      "\n",
      "[I 2024-06-13 22:11:41,201] Trial 45 finished with value: 0.3516639834419996 and parameters: {'lambda_l1': 0.00017153727837578876, 'lambda_l2': 0.0005583269283615884, 'num_leaves': 150, 'feature_fraction': 0.5412763417130952, 'bagging_fraction': 0.640976480962116, 'bagging_freq': 4, 'min_child_samples': 72}. Best is trial 33 with value: 0.3607766477363895.\n",
      "/var/folders/l7/l93x40d92cvcv2gjmhtlx83m0000gn/T/ipykernel_44390/1344764334.py:57: ExperimentalWarning:\n",
      "\n",
      "upload_artifact is experimental (supported from v3.3.0). The interface can change in the future.\n",
      "\n",
      "/var/folders/l7/l93x40d92cvcv2gjmhtlx83m0000gn/T/ipykernel_44390/1344764334.py:61: ExperimentalWarning:\n",
      "\n",
      "upload_artifact is experimental (supported from v3.3.0). The interface can change in the future.\n",
      "\n",
      "[I 2024-06-13 22:11:53,296] Trial 46 finished with value: 0.34878311819936575 and parameters: {'lambda_l1': 0.005375882618919759, 'lambda_l2': 2.2033437928000283e-06, 'num_leaves': 247, 'feature_fraction': 0.4447844422870809, 'bagging_fraction': 0.9614218503641084, 'bagging_freq': 7, 'min_child_samples': 51}. Best is trial 33 with value: 0.3607766477363895.\n",
      "/var/folders/l7/l93x40d92cvcv2gjmhtlx83m0000gn/T/ipykernel_44390/1344764334.py:57: ExperimentalWarning:\n",
      "\n",
      "upload_artifact is experimental (supported from v3.3.0). The interface can change in the future.\n",
      "\n",
      "/var/folders/l7/l93x40d92cvcv2gjmhtlx83m0000gn/T/ipykernel_44390/1344764334.py:61: ExperimentalWarning:\n",
      "\n",
      "upload_artifact is experimental (supported from v3.3.0). The interface can change in the future.\n",
      "\n",
      "[I 2024-06-13 22:12:00,616] Trial 47 finished with value: 0.36096698104505553 and parameters: {'lambda_l1': 2.48197644999945, 'lambda_l2': 0.6373850079658464, 'num_leaves': 206, 'feature_fraction': 0.5038547939706263, 'bagging_fraction': 0.9997093594484495, 'bagging_freq': 3, 'min_child_samples': 66}. Best is trial 47 with value: 0.36096698104505553.\n",
      "/var/folders/l7/l93x40d92cvcv2gjmhtlx83m0000gn/T/ipykernel_44390/1344764334.py:57: ExperimentalWarning:\n",
      "\n",
      "upload_artifact is experimental (supported from v3.3.0). The interface can change in the future.\n",
      "\n",
      "/var/folders/l7/l93x40d92cvcv2gjmhtlx83m0000gn/T/ipykernel_44390/1344764334.py:61: ExperimentalWarning:\n",
      "\n",
      "upload_artifact is experimental (supported from v3.3.0). The interface can change in the future.\n",
      "\n",
      "[I 2024-06-13 22:12:06,724] Trial 48 finished with value: 0.3460715195346832 and parameters: {'lambda_l1': 2.7978523916571607, 'lambda_l2': 4.8020945212472996e-08, 'num_leaves': 191, 'feature_fraction': 0.4280992373799058, 'bagging_fraction': 0.997595682244885, 'bagging_freq': 3, 'min_child_samples': 88}. Best is trial 47 with value: 0.36096698104505553.\n",
      "/var/folders/l7/l93x40d92cvcv2gjmhtlx83m0000gn/T/ipykernel_44390/1344764334.py:57: ExperimentalWarning:\n",
      "\n",
      "upload_artifact is experimental (supported from v3.3.0). The interface can change in the future.\n",
      "\n",
      "/var/folders/l7/l93x40d92cvcv2gjmhtlx83m0000gn/T/ipykernel_44390/1344764334.py:61: ExperimentalWarning:\n",
      "\n",
      "upload_artifact is experimental (supported from v3.3.0). The interface can change in the future.\n",
      "\n",
      "[I 2024-06-13 22:12:14,342] Trial 49 finished with value: 0.3515003712955801 and parameters: {'lambda_l1': 3.1138651138928446, 'lambda_l2': 0.7973512937050388, 'num_leaves': 127, 'feature_fraction': 0.49302377411085196, 'bagging_fraction': 0.9191038943334684, 'bagging_freq': 1, 'min_child_samples': 62}. Best is trial 47 with value: 0.36096698104505553.\n",
      "/var/folders/l7/l93x40d92cvcv2gjmhtlx83m0000gn/T/ipykernel_44390/1344764334.py:57: ExperimentalWarning:\n",
      "\n",
      "upload_artifact is experimental (supported from v3.3.0). The interface can change in the future.\n",
      "\n",
      "/var/folders/l7/l93x40d92cvcv2gjmhtlx83m0000gn/T/ipykernel_44390/1344764334.py:61: ExperimentalWarning:\n",
      "\n",
      "upload_artifact is experimental (supported from v3.3.0). The interface can change in the future.\n",
      "\n",
      "[I 2024-06-13 22:12:20,813] Trial 50 finished with value: 0.35711699701131017 and parameters: {'lambda_l1': 0.05241798481411397, 'lambda_l2': 0.0021119376042680552, 'num_leaves': 207, 'feature_fraction': 0.8383218998130442, 'bagging_fraction': 0.9799961185280193, 'bagging_freq': 3, 'min_child_samples': 74}. Best is trial 47 with value: 0.36096698104505553.\n",
      "/var/folders/l7/l93x40d92cvcv2gjmhtlx83m0000gn/T/ipykernel_44390/1344764334.py:57: ExperimentalWarning:\n",
      "\n",
      "upload_artifact is experimental (supported from v3.3.0). The interface can change in the future.\n",
      "\n",
      "/var/folders/l7/l93x40d92cvcv2gjmhtlx83m0000gn/T/ipykernel_44390/1344764334.py:61: ExperimentalWarning:\n",
      "\n",
      "upload_artifact is experimental (supported from v3.3.0). The interface can change in the future.\n",
      "\n",
      "[I 2024-06-13 22:12:28,979] Trial 51 finished with value: 0.35680674256706657 and parameters: {'lambda_l1': 0.2116220624512047, 'lambda_l2': 1.4745113318965422, 'num_leaves': 168, 'feature_fraction': 0.5022795461520737, 'bagging_fraction': 0.9452376138451453, 'bagging_freq': 2, 'min_child_samples': 79}. Best is trial 47 with value: 0.36096698104505553.\n",
      "/var/folders/l7/l93x40d92cvcv2gjmhtlx83m0000gn/T/ipykernel_44390/1344764334.py:57: ExperimentalWarning:\n",
      "\n",
      "upload_artifact is experimental (supported from v3.3.0). The interface can change in the future.\n",
      "\n",
      "/var/folders/l7/l93x40d92cvcv2gjmhtlx83m0000gn/T/ipykernel_44390/1344764334.py:61: ExperimentalWarning:\n",
      "\n",
      "upload_artifact is experimental (supported from v3.3.0). The interface can change in the future.\n",
      "\n",
      "[I 2024-06-13 22:12:35,047] Trial 52 finished with value: 0.35203183404279476 and parameters: {'lambda_l1': 0.0346928361692594, 'lambda_l2': 0.001407785842436572, 'num_leaves': 210, 'feature_fraction': 0.863337700487773, 'bagging_fraction': 0.9793292337970962, 'bagging_freq': 3, 'min_child_samples': 73}. Best is trial 47 with value: 0.36096698104505553.\n",
      "/var/folders/l7/l93x40d92cvcv2gjmhtlx83m0000gn/T/ipykernel_44390/1344764334.py:57: ExperimentalWarning:\n",
      "\n",
      "upload_artifact is experimental (supported from v3.3.0). The interface can change in the future.\n",
      "\n",
      "/var/folders/l7/l93x40d92cvcv2gjmhtlx83m0000gn/T/ipykernel_44390/1344764334.py:61: ExperimentalWarning:\n",
      "\n",
      "upload_artifact is experimental (supported from v3.3.0). The interface can change in the future.\n",
      "\n",
      "[I 2024-06-13 22:12:41,629] Trial 53 finished with value: 0.3494677239886925 and parameters: {'lambda_l1': 0.012259373361746588, 'lambda_l2': 0.003411456661905677, 'num_leaves': 203, 'feature_fraction': 0.7985481804738739, 'bagging_fraction': 0.9984374227301015, 'bagging_freq': 4, 'min_child_samples': 85}. Best is trial 47 with value: 0.36096698104505553.\n",
      "/var/folders/l7/l93x40d92cvcv2gjmhtlx83m0000gn/T/ipykernel_44390/1344764334.py:57: ExperimentalWarning:\n",
      "\n",
      "upload_artifact is experimental (supported from v3.3.0). The interface can change in the future.\n",
      "\n",
      "/var/folders/l7/l93x40d92cvcv2gjmhtlx83m0000gn/T/ipykernel_44390/1344764334.py:61: ExperimentalWarning:\n",
      "\n",
      "upload_artifact is experimental (supported from v3.3.0). The interface can change in the future.\n",
      "\n",
      "[I 2024-06-13 22:12:49,562] Trial 54 finished with value: 0.34753766224780014 and parameters: {'lambda_l1': 0.05753174194860903, 'lambda_l2': 0.06923221038112462, 'num_leaves': 140, 'feature_fraction': 0.9184323292259409, 'bagging_fraction': 0.8902976678301565, 'bagging_freq': 3, 'min_child_samples': 65}. Best is trial 47 with value: 0.36096698104505553.\n",
      "/var/folders/l7/l93x40d92cvcv2gjmhtlx83m0000gn/T/ipykernel_44390/1344764334.py:57: ExperimentalWarning:\n",
      "\n",
      "upload_artifact is experimental (supported from v3.3.0). The interface can change in the future.\n",
      "\n",
      "/var/folders/l7/l93x40d92cvcv2gjmhtlx83m0000gn/T/ipykernel_44390/1344764334.py:61: ExperimentalWarning:\n",
      "\n",
      "upload_artifact is experimental (supported from v3.3.0). The interface can change in the future.\n",
      "\n",
      "[I 2024-06-13 22:12:55,864] Trial 55 finished with value: 0.34939836868160495 and parameters: {'lambda_l1': 1.0580836624052226, 'lambda_l2': 0.0003379552414847131, 'num_leaves': 216, 'feature_fraction': 0.9763711003176689, 'bagging_fraction': 0.9262860545229041, 'bagging_freq': 2, 'min_child_samples': 76}. Best is trial 47 with value: 0.36096698104505553.\n",
      "/var/folders/l7/l93x40d92cvcv2gjmhtlx83m0000gn/T/ipykernel_44390/1344764334.py:57: ExperimentalWarning:\n",
      "\n",
      "upload_artifact is experimental (supported from v3.3.0). The interface can change in the future.\n",
      "\n",
      "/var/folders/l7/l93x40d92cvcv2gjmhtlx83m0000gn/T/ipykernel_44390/1344764334.py:61: ExperimentalWarning:\n",
      "\n",
      "upload_artifact is experimental (supported from v3.3.0). The interface can change in the future.\n",
      "\n",
      "[I 2024-06-13 22:13:05,158] Trial 56 finished with value: 0.35619369807062534 and parameters: {'lambda_l1': 0.0027026835860663174, 'lambda_l2': 0.008394971919606704, 'num_leaves': 191, 'feature_fraction': 0.5749289579293784, 'bagging_fraction': 0.9653977451494336, 'bagging_freq': 4, 'min_child_samples': 58}. Best is trial 47 with value: 0.36096698104505553.\n",
      "/var/folders/l7/l93x40d92cvcv2gjmhtlx83m0000gn/T/ipykernel_44390/1344764334.py:57: ExperimentalWarning:\n",
      "\n",
      "upload_artifact is experimental (supported from v3.3.0). The interface can change in the future.\n",
      "\n",
      "/var/folders/l7/l93x40d92cvcv2gjmhtlx83m0000gn/T/ipykernel_44390/1344764334.py:61: ExperimentalWarning:\n",
      "\n",
      "upload_artifact is experimental (supported from v3.3.0). The interface can change in the future.\n",
      "\n",
      "[I 2024-06-13 22:13:11,164] Trial 57 finished with value: 0.36014690786448367 and parameters: {'lambda_l1': 4.44767730885235, 'lambda_l2': 0.0001065383239699587, 'num_leaves': 177, 'feature_fraction': 0.8325815340433352, 'bagging_fraction': 0.8951477008456031, 'bagging_freq': 3, 'min_child_samples': 92}. Best is trial 47 with value: 0.36096698104505553.\n",
      "/var/folders/l7/l93x40d92cvcv2gjmhtlx83m0000gn/T/ipykernel_44390/1344764334.py:57: ExperimentalWarning:\n",
      "\n",
      "upload_artifact is experimental (supported from v3.3.0). The interface can change in the future.\n",
      "\n",
      "/var/folders/l7/l93x40d92cvcv2gjmhtlx83m0000gn/T/ipykernel_44390/1344764334.py:61: ExperimentalWarning:\n",
      "\n",
      "upload_artifact is experimental (supported from v3.3.0). The interface can change in the future.\n",
      "\n",
      "[I 2024-06-13 22:13:15,863] Trial 58 finished with value: 0.35330472349501413 and parameters: {'lambda_l1': 5.022297775843861, 'lambda_l2': 0.14269490226452056, 'num_leaves': 155, 'feature_fraction': 0.516468981327385, 'bagging_fraction': 0.896100409656121, 'bagging_freq': 2, 'min_child_samples': 93}. Best is trial 47 with value: 0.36096698104505553.\n",
      "/var/folders/l7/l93x40d92cvcv2gjmhtlx83m0000gn/T/ipykernel_44390/1344764334.py:57: ExperimentalWarning:\n",
      "\n",
      "upload_artifact is experimental (supported from v3.3.0). The interface can change in the future.\n",
      "\n",
      "/var/folders/l7/l93x40d92cvcv2gjmhtlx83m0000gn/T/ipykernel_44390/1344764334.py:61: ExperimentalWarning:\n",
      "\n",
      "upload_artifact is experimental (supported from v3.3.0). The interface can change in the future.\n",
      "\n",
      "[I 2024-06-13 22:13:19,896] Trial 59 finished with value: 0.3458553452877534 and parameters: {'lambda_l1': 9.816374778267354, 'lambda_l2': 2.8196172942049827e-05, 'num_leaves': 168, 'feature_fraction': 0.6632988389307897, 'bagging_fraction': 0.8163247826245343, 'bagging_freq': 3, 'min_child_samples': 41}. Best is trial 47 with value: 0.36096698104505553.\n",
      "/var/folders/l7/l93x40d92cvcv2gjmhtlx83m0000gn/T/ipykernel_44390/1344764334.py:57: ExperimentalWarning:\n",
      "\n",
      "upload_artifact is experimental (supported from v3.3.0). The interface can change in the future.\n",
      "\n",
      "/var/folders/l7/l93x40d92cvcv2gjmhtlx83m0000gn/T/ipykernel_44390/1344764334.py:61: ExperimentalWarning:\n",
      "\n",
      "upload_artifact is experimental (supported from v3.3.0). The interface can change in the future.\n",
      "\n",
      "[I 2024-06-13 22:13:28,466] Trial 60 finished with value: 0.3530676616878561 and parameters: {'lambda_l1': 0.3767575018557843, 'lambda_l2': 9.30206795516218e-06, 'num_leaves': 137, 'feature_fraction': 0.6162527510157018, 'bagging_fraction': 0.7234552012380374, 'bagging_freq': 2, 'min_child_samples': 45}. Best is trial 47 with value: 0.36096698104505553.\n",
      "/var/folders/l7/l93x40d92cvcv2gjmhtlx83m0000gn/T/ipykernel_44390/1344764334.py:57: ExperimentalWarning:\n",
      "\n",
      "upload_artifact is experimental (supported from v3.3.0). The interface can change in the future.\n",
      "\n",
      "/var/folders/l7/l93x40d92cvcv2gjmhtlx83m0000gn/T/ipykernel_44390/1344764334.py:61: ExperimentalWarning:\n",
      "\n",
      "upload_artifact is experimental (supported from v3.3.0). The interface can change in the future.\n",
      "\n",
      "[I 2024-06-13 22:13:32,904] Trial 61 finished with value: 0.35304820566777373 and parameters: {'lambda_l1': 1.1214162013744216, 'lambda_l2': 0.00010123967498464538, 'num_leaves': 183, 'feature_fraction': 0.7334790260689771, 'bagging_fraction': 0.7674702133032567, 'bagging_freq': 4, 'min_child_samples': 97}. Best is trial 47 with value: 0.36096698104505553.\n",
      "/var/folders/l7/l93x40d92cvcv2gjmhtlx83m0000gn/T/ipykernel_44390/1344764334.py:57: ExperimentalWarning:\n",
      "\n",
      "upload_artifact is experimental (supported from v3.3.0). The interface can change in the future.\n",
      "\n",
      "/var/folders/l7/l93x40d92cvcv2gjmhtlx83m0000gn/T/ipykernel_44390/1344764334.py:61: ExperimentalWarning:\n",
      "\n",
      "upload_artifact is experimental (supported from v3.3.0). The interface can change in the future.\n",
      "\n",
      "[I 2024-06-13 22:13:37,736] Trial 62 finished with value: 0.348680511032255 and parameters: {'lambda_l1': 2.0704800079108527, 'lambda_l2': 9.375693989991354e-07, 'num_leaves': 201, 'feature_fraction': 0.8207666677701015, 'bagging_fraction': 0.9384453864007086, 'bagging_freq': 3, 'min_child_samples': 90}. Best is trial 47 with value: 0.36096698104505553.\n",
      "/var/folders/l7/l93x40d92cvcv2gjmhtlx83m0000gn/T/ipykernel_44390/1344764334.py:57: ExperimentalWarning:\n",
      "\n",
      "upload_artifact is experimental (supported from v3.3.0). The interface can change in the future.\n",
      "\n",
      "/var/folders/l7/l93x40d92cvcv2gjmhtlx83m0000gn/T/ipykernel_44390/1344764334.py:61: ExperimentalWarning:\n",
      "\n",
      "upload_artifact is experimental (supported from v3.3.0). The interface can change in the future.\n",
      "\n",
      "[I 2024-06-13 22:13:44,469] Trial 63 finished with value: 0.35319938399532275 and parameters: {'lambda_l1': 0.0740180009450197, 'lambda_l2': 0.0016668336513637986, 'num_leaves': 187, 'feature_fraction': 0.8418231288659933, 'bagging_fraction': 0.9808772693841018, 'bagging_freq': 3, 'min_child_samples': 69}. Best is trial 47 with value: 0.36096698104505553.\n",
      "/var/folders/l7/l93x40d92cvcv2gjmhtlx83m0000gn/T/ipykernel_44390/1344764334.py:57: ExperimentalWarning:\n",
      "\n",
      "upload_artifact is experimental (supported from v3.3.0). The interface can change in the future.\n",
      "\n",
      "/var/folders/l7/l93x40d92cvcv2gjmhtlx83m0000gn/T/ipykernel_44390/1344764334.py:61: ExperimentalWarning:\n",
      "\n",
      "upload_artifact is experimental (supported from v3.3.0). The interface can change in the future.\n",
      "\n",
      "[I 2024-06-13 22:13:50,624] Trial 64 finished with value: 0.34692726893945075 and parameters: {'lambda_l1': 0.2180717124239449, 'lambda_l2': 3.378868773113811, 'num_leaves': 222, 'feature_fraction': 0.8994955841075042, 'bagging_fraction': 0.9262610294041608, 'bagging_freq': 3, 'min_child_samples': 81}. Best is trial 47 with value: 0.36096698104505553.\n",
      "/var/folders/l7/l93x40d92cvcv2gjmhtlx83m0000gn/T/ipykernel_44390/1344764334.py:57: ExperimentalWarning:\n",
      "\n",
      "upload_artifact is experimental (supported from v3.3.0). The interface can change in the future.\n",
      "\n",
      "/var/folders/l7/l93x40d92cvcv2gjmhtlx83m0000gn/T/ipykernel_44390/1344764334.py:61: ExperimentalWarning:\n",
      "\n",
      "upload_artifact is experimental (supported from v3.3.0). The interface can change in the future.\n",
      "\n",
      "[I 2024-06-13 22:13:55,673] Trial 65 finished with value: 0.3523146124681503 and parameters: {'lambda_l1': 5.629510161300352, 'lambda_l2': 0.012511213695270315, 'num_leaves': 174, 'feature_fraction': 0.7789057889335776, 'bagging_fraction': 0.859874031979031, 'bagging_freq': 3, 'min_child_samples': 74}. Best is trial 47 with value: 0.36096698104505553.\n",
      "/var/folders/l7/l93x40d92cvcv2gjmhtlx83m0000gn/T/ipykernel_44390/1344764334.py:57: ExperimentalWarning:\n",
      "\n",
      "upload_artifact is experimental (supported from v3.3.0). The interface can change in the future.\n",
      "\n",
      "/var/folders/l7/l93x40d92cvcv2gjmhtlx83m0000gn/T/ipykernel_44390/1344764334.py:61: ExperimentalWarning:\n",
      "\n",
      "upload_artifact is experimental (supported from v3.3.0). The interface can change in the future.\n",
      "\n",
      "[I 2024-06-13 22:14:01,501] Trial 66 finished with value: 0.33961287985386956 and parameters: {'lambda_l1': 0.018137664201958434, 'lambda_l2': 0.02690357172631412, 'num_leaves': 239, 'feature_fraction': 0.9529384433425228, 'bagging_fraction': 0.6615039480538113, 'bagging_freq': 4, 'min_child_samples': 62}. Best is trial 47 with value: 0.36096698104505553.\n",
      "/var/folders/l7/l93x40d92cvcv2gjmhtlx83m0000gn/T/ipykernel_44390/1344764334.py:57: ExperimentalWarning:\n",
      "\n",
      "upload_artifact is experimental (supported from v3.3.0). The interface can change in the future.\n",
      "\n",
      "/var/folders/l7/l93x40d92cvcv2gjmhtlx83m0000gn/T/ipykernel_44390/1344764334.py:61: ExperimentalWarning:\n",
      "\n",
      "upload_artifact is experimental (supported from v3.3.0). The interface can change in the future.\n",
      "\n",
      "[I 2024-06-13 22:14:10,212] Trial 67 finished with value: 0.3492158653584173 and parameters: {'lambda_l1': 0.001399294389883404, 'lambda_l2': 0.0005115240122421078, 'num_leaves': 215, 'feature_fraction': 0.46510680041803754, 'bagging_fraction': 0.9580231594568123, 'bagging_freq': 2, 'min_child_samples': 85}. Best is trial 47 with value: 0.36096698104505553.\n",
      "/var/folders/l7/l93x40d92cvcv2gjmhtlx83m0000gn/T/ipykernel_44390/1344764334.py:57: ExperimentalWarning:\n",
      "\n",
      "upload_artifact is experimental (supported from v3.3.0). The interface can change in the future.\n",
      "\n",
      "/var/folders/l7/l93x40d92cvcv2gjmhtlx83m0000gn/T/ipykernel_44390/1344764334.py:61: ExperimentalWarning:\n",
      "\n",
      "upload_artifact is experimental (supported from v3.3.0). The interface can change in the future.\n",
      "\n",
      "[I 2024-06-13 22:14:16,829] Trial 68 finished with value: 0.35292733732907977 and parameters: {'lambda_l1': 0.5661909601566584, 'lambda_l2': 0.0033982650031959875, 'num_leaves': 205, 'feature_fraction': 0.8773975926202515, 'bagging_fraction': 0.5706530269024835, 'bagging_freq': 1, 'min_child_samples': 34}. Best is trial 47 with value: 0.36096698104505553.\n",
      "/var/folders/l7/l93x40d92cvcv2gjmhtlx83m0000gn/T/ipykernel_44390/1344764334.py:57: ExperimentalWarning:\n",
      "\n",
      "upload_artifact is experimental (supported from v3.3.0). The interface can change in the future.\n",
      "\n",
      "/var/folders/l7/l93x40d92cvcv2gjmhtlx83m0000gn/T/ipykernel_44390/1344764334.py:61: ExperimentalWarning:\n",
      "\n",
      "upload_artifact is experimental (supported from v3.3.0). The interface can change in the future.\n",
      "\n",
      "[I 2024-06-13 22:14:22,261] Trial 69 finished with value: 0.35477290284111573 and parameters: {'lambda_l1': 4.03978893621042, 'lambda_l2': 0.005465545530682286, 'num_leaves': 119, 'feature_fraction': 0.8393027629318668, 'bagging_fraction': 0.9007195041679807, 'bagging_freq': 4, 'min_child_samples': 66}. Best is trial 47 with value: 0.36096698104505553.\n",
      "/var/folders/l7/l93x40d92cvcv2gjmhtlx83m0000gn/T/ipykernel_44390/1344764334.py:57: ExperimentalWarning:\n",
      "\n",
      "upload_artifact is experimental (supported from v3.3.0). The interface can change in the future.\n",
      "\n",
      "/var/folders/l7/l93x40d92cvcv2gjmhtlx83m0000gn/T/ipykernel_44390/1344764334.py:61: ExperimentalWarning:\n",
      "\n",
      "upload_artifact is experimental (supported from v3.3.0). The interface can change in the future.\n",
      "\n",
      "[I 2024-06-13 22:14:29,248] Trial 70 finished with value: 0.3544082274587043 and parameters: {'lambda_l1': 1.5413310639690714, 'lambda_l2': 0.4475139404565891, 'num_leaves': 164, 'feature_fraction': 0.4817722097685027, 'bagging_fraction': 0.8778007644910022, 'bagging_freq': 2, 'min_child_samples': 80}. Best is trial 47 with value: 0.36096698104505553.\n",
      "/var/folders/l7/l93x40d92cvcv2gjmhtlx83m0000gn/T/ipykernel_44390/1344764334.py:57: ExperimentalWarning:\n",
      "\n",
      "upload_artifact is experimental (supported from v3.3.0). The interface can change in the future.\n",
      "\n",
      "/var/folders/l7/l93x40d92cvcv2gjmhtlx83m0000gn/T/ipykernel_44390/1344764334.py:61: ExperimentalWarning:\n",
      "\n",
      "upload_artifact is experimental (supported from v3.3.0). The interface can change in the future.\n",
      "\n",
      "[I 2024-06-13 22:14:34,676] Trial 71 finished with value: 0.34552990444061904 and parameters: {'lambda_l1': 0.005774012725588757, 'lambda_l2': 0.03909663616780771, 'num_leaves': 180, 'feature_fraction': 0.5871107710740989, 'bagging_fraction': 0.4688902243944492, 'bagging_freq': 5, 'min_child_samples': 71}. Best is trial 47 with value: 0.36096698104505553.\n",
      "/var/folders/l7/l93x40d92cvcv2gjmhtlx83m0000gn/T/ipykernel_44390/1344764334.py:57: ExperimentalWarning:\n",
      "\n",
      "upload_artifact is experimental (supported from v3.3.0). The interface can change in the future.\n",
      "\n",
      "/var/folders/l7/l93x40d92cvcv2gjmhtlx83m0000gn/T/ipykernel_44390/1344764334.py:61: ExperimentalWarning:\n",
      "\n",
      "upload_artifact is experimental (supported from v3.3.0). The interface can change in the future.\n",
      "\n",
      "[I 2024-06-13 22:14:43,890] Trial 72 finished with value: 0.35706671542634705 and parameters: {'lambda_l1': 0.0004851713107753219, 'lambda_l2': 0.12272296217383367, 'num_leaves': 231, 'feature_fraction': 0.5508756979532371, 'bagging_fraction': 0.8505029083208419, 'bagging_freq': 6, 'min_child_samples': 59}. Best is trial 47 with value: 0.36096698104505553.\n",
      "/var/folders/l7/l93x40d92cvcv2gjmhtlx83m0000gn/T/ipykernel_44390/1344764334.py:57: ExperimentalWarning:\n",
      "\n",
      "upload_artifact is experimental (supported from v3.3.0). The interface can change in the future.\n",
      "\n",
      "/var/folders/l7/l93x40d92cvcv2gjmhtlx83m0000gn/T/ipykernel_44390/1344764334.py:61: ExperimentalWarning:\n",
      "\n",
      "upload_artifact is experimental (supported from v3.3.0). The interface can change in the future.\n",
      "\n",
      "[I 2024-06-13 22:14:54,184] Trial 73 finished with value: 0.35579100888569204 and parameters: {'lambda_l1': 0.0003274677962681023, 'lambda_l2': 0.11647803585723476, 'num_leaves': 250, 'feature_fraction': 0.5349541835216075, 'bagging_fraction': 0.8228707363901737, 'bagging_freq': 6, 'min_child_samples': 49}. Best is trial 47 with value: 0.36096698104505553.\n",
      "/var/folders/l7/l93x40d92cvcv2gjmhtlx83m0000gn/T/ipykernel_44390/1344764334.py:57: ExperimentalWarning:\n",
      "\n",
      "upload_artifact is experimental (supported from v3.3.0). The interface can change in the future.\n",
      "\n",
      "/var/folders/l7/l93x40d92cvcv2gjmhtlx83m0000gn/T/ipykernel_44390/1344764334.py:61: ExperimentalWarning:\n",
      "\n",
      "upload_artifact is experimental (supported from v3.3.0). The interface can change in the future.\n",
      "\n",
      "[I 2024-06-13 22:15:02,969] Trial 74 finished with value: 0.35555914271462796 and parameters: {'lambda_l1': 0.0015856467540731412, 'lambda_l2': 0.8457311814853775, 'num_leaves': 228, 'feature_fraction': 0.5558315438928746, 'bagging_fraction': 0.7984153913547194, 'bagging_freq': 3, 'min_child_samples': 57}. Best is trial 47 with value: 0.36096698104505553.\n",
      "/var/folders/l7/l93x40d92cvcv2gjmhtlx83m0000gn/T/ipykernel_44390/1344764334.py:57: ExperimentalWarning:\n",
      "\n",
      "upload_artifact is experimental (supported from v3.3.0). The interface can change in the future.\n",
      "\n",
      "/var/folders/l7/l93x40d92cvcv2gjmhtlx83m0000gn/T/ipykernel_44390/1344764334.py:61: ExperimentalWarning:\n",
      "\n",
      "upload_artifact is experimental (supported from v3.3.0). The interface can change in the future.\n",
      "\n",
      "[I 2024-06-13 22:15:13,395] Trial 75 finished with value: 0.35264276207055517 and parameters: {'lambda_l1': 4.7221283173362973e-05, 'lambda_l2': 0.19170851327391975, 'num_leaves': 197, 'feature_fraction': 0.5089789648273026, 'bagging_fraction': 0.9111509257117687, 'bagging_freq': 5, 'min_child_samples': 55}. Best is trial 47 with value: 0.36096698104505553.\n",
      "/var/folders/l7/l93x40d92cvcv2gjmhtlx83m0000gn/T/ipykernel_44390/1344764334.py:57: ExperimentalWarning:\n",
      "\n",
      "upload_artifact is experimental (supported from v3.3.0). The interface can change in the future.\n",
      "\n",
      "/var/folders/l7/l93x40d92cvcv2gjmhtlx83m0000gn/T/ipykernel_44390/1344764334.py:61: ExperimentalWarning:\n",
      "\n",
      "upload_artifact is experimental (supported from v3.3.0). The interface can change in the future.\n",
      "\n",
      "[I 2024-06-13 22:15:26,623] Trial 76 finished with value: 0.3466515441805888 and parameters: {'lambda_l1': 0.00015286093850958317, 'lambda_l2': 0.015004918563168579, 'num_leaves': 217, 'feature_fraction': 0.5611272899367098, 'bagging_fraction': 0.853521782932041, 'bagging_freq': 7, 'min_child_samples': 27}. Best is trial 47 with value: 0.36096698104505553.\n",
      "/var/folders/l7/l93x40d92cvcv2gjmhtlx83m0000gn/T/ipykernel_44390/1344764334.py:57: ExperimentalWarning:\n",
      "\n",
      "upload_artifact is experimental (supported from v3.3.0). The interface can change in the future.\n",
      "\n",
      "/var/folders/l7/l93x40d92cvcv2gjmhtlx83m0000gn/T/ipykernel_44390/1344764334.py:61: ExperimentalWarning:\n",
      "\n",
      "upload_artifact is experimental (supported from v3.3.0). The interface can change in the future.\n",
      "\n",
      "[I 2024-06-13 22:15:36,427] Trial 77 finished with value: 0.3588442867059126 and parameters: {'lambda_l1': 0.03907592554195422, 'lambda_l2': 0.29758490527091624, 'num_leaves': 238, 'feature_fraction': 0.535886161918265, 'bagging_fraction': 0.8783602697446187, 'bagging_freq': 6, 'min_child_samples': 59}. Best is trial 47 with value: 0.36096698104505553.\n",
      "/var/folders/l7/l93x40d92cvcv2gjmhtlx83m0000gn/T/ipykernel_44390/1344764334.py:57: ExperimentalWarning:\n",
      "\n",
      "upload_artifact is experimental (supported from v3.3.0). The interface can change in the future.\n",
      "\n",
      "/var/folders/l7/l93x40d92cvcv2gjmhtlx83m0000gn/T/ipykernel_44390/1344764334.py:61: ExperimentalWarning:\n",
      "\n",
      "upload_artifact is experimental (supported from v3.3.0). The interface can change in the future.\n",
      "\n",
      "[I 2024-06-13 22:15:46,936] Trial 78 finished with value: 0.35407510794162556 and parameters: {'lambda_l1': 0.03471191832799377, 'lambda_l2': 0.27590675285039024, 'num_leaves': 244, 'feature_fraction': 0.5255440657018088, 'bagging_fraction': 0.9863177705813785, 'bagging_freq': 3, 'min_child_samples': 63}. Best is trial 47 with value: 0.36096698104505553.\n",
      "/var/folders/l7/l93x40d92cvcv2gjmhtlx83m0000gn/T/ipykernel_44390/1344764334.py:57: ExperimentalWarning:\n",
      "\n",
      "upload_artifact is experimental (supported from v3.3.0). The interface can change in the future.\n",
      "\n",
      "/var/folders/l7/l93x40d92cvcv2gjmhtlx83m0000gn/T/ipykernel_44390/1344764334.py:61: ExperimentalWarning:\n",
      "\n",
      "upload_artifact is experimental (supported from v3.3.0). The interface can change in the future.\n",
      "\n",
      "[I 2024-06-13 22:15:56,474] Trial 79 finished with value: 0.35616494280913225 and parameters: {'lambda_l1': 0.27864758087165886, 'lambda_l2': 0.00021648502298432835, 'num_leaves': 253, 'feature_fraction': 0.43594474925814636, 'bagging_fraction': 0.8798779301606809, 'bagging_freq': 3, 'min_child_samples': 69}. Best is trial 47 with value: 0.36096698104505553.\n",
      "/var/folders/l7/l93x40d92cvcv2gjmhtlx83m0000gn/T/ipykernel_44390/1344764334.py:57: ExperimentalWarning:\n",
      "\n",
      "upload_artifact is experimental (supported from v3.3.0). The interface can change in the future.\n",
      "\n",
      "/var/folders/l7/l93x40d92cvcv2gjmhtlx83m0000gn/T/ipykernel_44390/1344764334.py:61: ExperimentalWarning:\n",
      "\n",
      "upload_artifact is experimental (supported from v3.3.0). The interface can change in the future.\n",
      "\n",
      "[I 2024-06-13 22:16:13,150] Trial 80 finished with value: 0.3442642417464553 and parameters: {'lambda_l1': 0.018359108359062813, 'lambda_l2': 0.0020297846754742887, 'num_leaves': 238, 'feature_fraction': 0.6054877260594631, 'bagging_fraction': 0.933197781734886, 'bagging_freq': 4, 'min_child_samples': 9}. Best is trial 47 with value: 0.36096698104505553.\n",
      "/var/folders/l7/l93x40d92cvcv2gjmhtlx83m0000gn/T/ipykernel_44390/1344764334.py:57: ExperimentalWarning:\n",
      "\n",
      "upload_artifact is experimental (supported from v3.3.0). The interface can change in the future.\n",
      "\n",
      "/var/folders/l7/l93x40d92cvcv2gjmhtlx83m0000gn/T/ipykernel_44390/1344764334.py:61: ExperimentalWarning:\n",
      "\n",
      "upload_artifact is experimental (supported from v3.3.0). The interface can change in the future.\n",
      "\n",
      "[I 2024-06-13 22:16:23,414] Trial 81 finished with value: 0.3544222571719275 and parameters: {'lambda_l1': 0.13801852009573737, 'lambda_l2': 0.000716255479733892, 'num_leaves': 146, 'feature_fraction': 0.45660823801632744, 'bagging_fraction': 0.951853911203204, 'bagging_freq': 3, 'min_child_samples': 66}. Best is trial 47 with value: 0.36096698104505553.\n",
      "/var/folders/l7/l93x40d92cvcv2gjmhtlx83m0000gn/T/ipykernel_44390/1344764334.py:57: ExperimentalWarning:\n",
      "\n",
      "upload_artifact is experimental (supported from v3.3.0). The interface can change in the future.\n",
      "\n",
      "/var/folders/l7/l93x40d92cvcv2gjmhtlx83m0000gn/T/ipykernel_44390/1344764334.py:61: ExperimentalWarning:\n",
      "\n",
      "upload_artifact is experimental (supported from v3.3.0). The interface can change in the future.\n",
      "\n",
      "[I 2024-06-13 22:16:32,194] Trial 82 finished with value: 0.35929378358752256 and parameters: {'lambda_l1': 0.0008405369918784969, 'lambda_l2': 0.49207685033992205, 'num_leaves': 231, 'feature_fraction': 0.5354901549658801, 'bagging_fraction': 0.837187327481353, 'bagging_freq': 6, 'min_child_samples': 60}. Best is trial 47 with value: 0.36096698104505553.\n",
      "/var/folders/l7/l93x40d92cvcv2gjmhtlx83m0000gn/T/ipykernel_44390/1344764334.py:57: ExperimentalWarning:\n",
      "\n",
      "upload_artifact is experimental (supported from v3.3.0). The interface can change in the future.\n",
      "\n",
      "/var/folders/l7/l93x40d92cvcv2gjmhtlx83m0000gn/T/ipykernel_44390/1344764334.py:61: ExperimentalWarning:\n",
      "\n",
      "upload_artifact is experimental (supported from v3.3.0). The interface can change in the future.\n",
      "\n",
      "[I 2024-06-13 22:16:43,333] Trial 83 finished with value: 0.3550732621972249 and parameters: {'lambda_l1': 0.000696560898111707, 'lambda_l2': 0.8300096191416105, 'num_leaves': 224, 'feature_fraction': 0.4902951430438103, 'bagging_fraction': 0.9101202569467759, 'bagging_freq': 6, 'min_child_samples': 54}. Best is trial 47 with value: 0.36096698104505553.\n",
      "/var/folders/l7/l93x40d92cvcv2gjmhtlx83m0000gn/T/ipykernel_44390/1344764334.py:57: ExperimentalWarning:\n",
      "\n",
      "upload_artifact is experimental (supported from v3.3.0). The interface can change in the future.\n",
      "\n",
      "/var/folders/l7/l93x40d92cvcv2gjmhtlx83m0000gn/T/ipykernel_44390/1344764334.py:61: ExperimentalWarning:\n",
      "\n",
      "upload_artifact is experimental (supported from v3.3.0). The interface can change in the future.\n",
      "\n",
      "[I 2024-06-13 22:16:52,860] Trial 84 finished with value: 0.3585628961048758 and parameters: {'lambda_l1': 0.01189999013331196, 'lambda_l2': 1.16791341616016e-08, 'num_leaves': 208, 'feature_fraction': 0.5275272177279599, 'bagging_fraction': 0.829616054563938, 'bagging_freq': 6, 'min_child_samples': 61}. Best is trial 47 with value: 0.36096698104505553.\n",
      "/var/folders/l7/l93x40d92cvcv2gjmhtlx83m0000gn/T/ipykernel_44390/1344764334.py:57: ExperimentalWarning:\n",
      "\n",
      "upload_artifact is experimental (supported from v3.3.0). The interface can change in the future.\n",
      "\n",
      "/var/folders/l7/l93x40d92cvcv2gjmhtlx83m0000gn/T/ipykernel_44390/1344764334.py:61: ExperimentalWarning:\n",
      "\n",
      "upload_artifact is experimental (supported from v3.3.0). The interface can change in the future.\n",
      "\n",
      "[I 2024-06-13 22:17:01,983] Trial 85 finished with value: 0.3551493516490424 and parameters: {'lambda_l1': 0.0028737133770399344, 'lambda_l2': 5.1152540917978555e-08, 'num_leaves': 194, 'feature_fraction': 0.5305309648509858, 'bagging_fraction': 0.8409790652243809, 'bagging_freq': 6, 'min_child_samples': 60}. Best is trial 47 with value: 0.36096698104505553.\n",
      "/var/folders/l7/l93x40d92cvcv2gjmhtlx83m0000gn/T/ipykernel_44390/1344764334.py:57: ExperimentalWarning:\n",
      "\n",
      "upload_artifact is experimental (supported from v3.3.0). The interface can change in the future.\n",
      "\n",
      "/var/folders/l7/l93x40d92cvcv2gjmhtlx83m0000gn/T/ipykernel_44390/1344764334.py:61: ExperimentalWarning:\n",
      "\n",
      "upload_artifact is experimental (supported from v3.3.0). The interface can change in the future.\n",
      "\n",
      "[I 2024-06-13 22:17:11,245] Trial 86 finished with value: 0.35092855733503636 and parameters: {'lambda_l1': 0.011524289367046915, 'lambda_l2': 1.3508240530933491e-08, 'num_leaves': 236, 'feature_fraction': 0.5016906397021716, 'bagging_fraction': 0.7992105137294225, 'bagging_freq': 6, 'min_child_samples': 50}. Best is trial 47 with value: 0.36096698104505553.\n",
      "/var/folders/l7/l93x40d92cvcv2gjmhtlx83m0000gn/T/ipykernel_44390/1344764334.py:57: ExperimentalWarning:\n",
      "\n",
      "upload_artifact is experimental (supported from v3.3.0). The interface can change in the future.\n",
      "\n",
      "/var/folders/l7/l93x40d92cvcv2gjmhtlx83m0000gn/T/ipykernel_44390/1344764334.py:61: ExperimentalWarning:\n",
      "\n",
      "upload_artifact is experimental (supported from v3.3.0). The interface can change in the future.\n",
      "\n",
      "[I 2024-06-13 22:17:21,534] Trial 87 finished with value: 0.3501839627891133 and parameters: {'lambda_l1': 0.005466485301460213, 'lambda_l2': 2.1129706647005203e-07, 'num_leaves': 205, 'feature_fraction': 0.474594119156794, 'bagging_fraction': 0.8338688959691427, 'bagging_freq': 6, 'min_child_samples': 53}. Best is trial 47 with value: 0.36096698104505553.\n",
      "/var/folders/l7/l93x40d92cvcv2gjmhtlx83m0000gn/T/ipykernel_44390/1344764334.py:57: ExperimentalWarning:\n",
      "\n",
      "upload_artifact is experimental (supported from v3.3.0). The interface can change in the future.\n",
      "\n",
      "/var/folders/l7/l93x40d92cvcv2gjmhtlx83m0000gn/T/ipykernel_44390/1344764334.py:61: ExperimentalWarning:\n",
      "\n",
      "upload_artifact is experimental (supported from v3.3.0). The interface can change in the future.\n",
      "\n",
      "[I 2024-06-13 22:17:29,788] Trial 88 finished with value: 0.35325793892040236 and parameters: {'lambda_l1': 0.000901497493701122, 'lambda_l2': 9.27941015582108e-08, 'num_leaves': 212, 'feature_fraction': 0.5767626025608383, 'bagging_fraction': 0.8849076149131081, 'bagging_freq': 5, 'min_child_samples': 63}. Best is trial 47 with value: 0.36096698104505553.\n",
      "/var/folders/l7/l93x40d92cvcv2gjmhtlx83m0000gn/T/ipykernel_44390/1344764334.py:57: ExperimentalWarning:\n",
      "\n",
      "upload_artifact is experimental (supported from v3.3.0). The interface can change in the future.\n",
      "\n",
      "/var/folders/l7/l93x40d92cvcv2gjmhtlx83m0000gn/T/ipykernel_44390/1344764334.py:61: ExperimentalWarning:\n",
      "\n",
      "upload_artifact is experimental (supported from v3.3.0). The interface can change in the future.\n",
      "\n",
      "[I 2024-06-13 22:17:37,432] Trial 89 finished with value: 0.3616230333369512 and parameters: {'lambda_l1': 2.3374509712849124e-05, 'lambda_l2': 2.3552427057677408, 'num_leaves': 187, 'feature_fraction': 0.5952387084655222, 'bagging_fraction': 0.8686110313512071, 'bagging_freq': 7, 'min_child_samples': 60}. Best is trial 89 with value: 0.3616230333369512.\n",
      "/var/folders/l7/l93x40d92cvcv2gjmhtlx83m0000gn/T/ipykernel_44390/1344764334.py:57: ExperimentalWarning:\n",
      "\n",
      "upload_artifact is experimental (supported from v3.3.0). The interface can change in the future.\n",
      "\n",
      "/var/folders/l7/l93x40d92cvcv2gjmhtlx83m0000gn/T/ipykernel_44390/1344764334.py:61: ExperimentalWarning:\n",
      "\n",
      "upload_artifact is experimental (supported from v3.3.0). The interface can change in the future.\n",
      "\n",
      "[I 2024-06-13 22:17:47,636] Trial 90 finished with value: 0.35302246535332227 and parameters: {'lambda_l1': 1.0439724312498469e-05, 'lambda_l2': 0.4020123348553521, 'num_leaves': 218, 'feature_fraction': 0.595326326487207, 'bagging_fraction': 0.8655786032732349, 'bagging_freq': 7, 'min_child_samples': 46}. Best is trial 89 with value: 0.3616230333369512.\n",
      "/var/folders/l7/l93x40d92cvcv2gjmhtlx83m0000gn/T/ipykernel_44390/1344764334.py:57: ExperimentalWarning:\n",
      "\n",
      "upload_artifact is experimental (supported from v3.3.0). The interface can change in the future.\n",
      "\n",
      "/var/folders/l7/l93x40d92cvcv2gjmhtlx83m0000gn/T/ipykernel_44390/1344764334.py:61: ExperimentalWarning:\n",
      "\n",
      "upload_artifact is experimental (supported from v3.3.0). The interface can change in the future.\n",
      "\n",
      "[I 2024-06-13 22:17:55,911] Trial 91 finished with value: 0.3573546143121493 and parameters: {'lambda_l1': 1.911848978732269e-06, 'lambda_l2': 3.2802912496003676, 'num_leaves': 188, 'feature_fraction': 0.5098140378193469, 'bagging_fraction': 0.8246415500055114, 'bagging_freq': 7, 'min_child_samples': 60}. Best is trial 89 with value: 0.3616230333369512.\n",
      "/var/folders/l7/l93x40d92cvcv2gjmhtlx83m0000gn/T/ipykernel_44390/1344764334.py:57: ExperimentalWarning:\n",
      "\n",
      "upload_artifact is experimental (supported from v3.3.0). The interface can change in the future.\n",
      "\n",
      "/var/folders/l7/l93x40d92cvcv2gjmhtlx83m0000gn/T/ipykernel_44390/1344764334.py:61: ExperimentalWarning:\n",
      "\n",
      "upload_artifact is experimental (supported from v3.3.0). The interface can change in the future.\n",
      "\n",
      "[I 2024-06-13 22:18:04,970] Trial 92 finished with value: 0.3567629984216172 and parameters: {'lambda_l1': 4.636582694724365e-06, 'lambda_l2': 1.8163113981422845, 'num_leaves': 178, 'feature_fraction': 0.5413435838409498, 'bagging_fraction': 0.7811947199816611, 'bagging_freq': 7, 'min_child_samples': 56}. Best is trial 89 with value: 0.3616230333369512.\n",
      "/var/folders/l7/l93x40d92cvcv2gjmhtlx83m0000gn/T/ipykernel_44390/1344764334.py:57: ExperimentalWarning:\n",
      "\n",
      "upload_artifact is experimental (supported from v3.3.0). The interface can change in the future.\n",
      "\n",
      "/var/folders/l7/l93x40d92cvcv2gjmhtlx83m0000gn/T/ipykernel_44390/1344764334.py:61: ExperimentalWarning:\n",
      "\n",
      "upload_artifact is experimental (supported from v3.3.0). The interface can change in the future.\n",
      "\n",
      "[I 2024-06-13 22:18:15,234] Trial 93 finished with value: 0.3583506196375234 and parameters: {'lambda_l1': 2.4000420228068256e-05, 'lambda_l2': 6.782776256954685, 'num_leaves': 256, 'feature_fraction': 0.527390391308854, 'bagging_fraction': 0.8732145690985202, 'bagging_freq': 6, 'min_child_samples': 67}. Best is trial 89 with value: 0.3616230333369512.\n",
      "/var/folders/l7/l93x40d92cvcv2gjmhtlx83m0000gn/T/ipykernel_44390/1344764334.py:57: ExperimentalWarning:\n",
      "\n",
      "upload_artifact is experimental (supported from v3.3.0). The interface can change in the future.\n",
      "\n",
      "/var/folders/l7/l93x40d92cvcv2gjmhtlx83m0000gn/T/ipykernel_44390/1344764334.py:61: ExperimentalWarning:\n",
      "\n",
      "upload_artifact is experimental (supported from v3.3.0). The interface can change in the future.\n",
      "\n",
      "[I 2024-06-13 22:18:25,104] Trial 94 finished with value: 0.35163946026803805 and parameters: {'lambda_l1': 6.561911300823748e-05, 'lambda_l2': 5.812529223056703e-07, 'num_leaves': 186, 'feature_fraction': 0.5648121389214262, 'bagging_fraction': 0.9019517402945587, 'bagging_freq': 5, 'min_child_samples': 60}. Best is trial 89 with value: 0.3616230333369512.\n",
      "/var/folders/l7/l93x40d92cvcv2gjmhtlx83m0000gn/T/ipykernel_44390/1344764334.py:57: ExperimentalWarning:\n",
      "\n",
      "upload_artifact is experimental (supported from v3.3.0). The interface can change in the future.\n",
      "\n",
      "/var/folders/l7/l93x40d92cvcv2gjmhtlx83m0000gn/T/ipykernel_44390/1344764334.py:61: ExperimentalWarning:\n",
      "\n",
      "upload_artifact is experimental (supported from v3.3.0). The interface can change in the future.\n",
      "\n",
      "[I 2024-06-13 22:18:34,340] Trial 95 finished with value: 0.35821226351088375 and parameters: {'lambda_l1': 1.670035670423374e-05, 'lambda_l2': 2.2426728497023185, 'num_leaves': 198, 'feature_fraction': 0.618241606097294, 'bagging_fraction': 0.8633365976562136, 'bagging_freq': 7, 'min_child_samples': 64}. Best is trial 89 with value: 0.3616230333369512.\n",
      "/var/folders/l7/l93x40d92cvcv2gjmhtlx83m0000gn/T/ipykernel_44390/1344764334.py:57: ExperimentalWarning:\n",
      "\n",
      "upload_artifact is experimental (supported from v3.3.0). The interface can change in the future.\n",
      "\n",
      "/var/folders/l7/l93x40d92cvcv2gjmhtlx83m0000gn/T/ipykernel_44390/1344764334.py:61: ExperimentalWarning:\n",
      "\n",
      "upload_artifact is experimental (supported from v3.3.0). The interface can change in the future.\n",
      "\n",
      "[I 2024-06-13 22:18:40,668] Trial 96 finished with value: 0.35123070212614943 and parameters: {'lambda_l1': 6.4998986392596775e-06, 'lambda_l2': 0.5632342485706339, 'num_leaves': 170, 'feature_fraction': 0.5182326555712998, 'bagging_fraction': 0.701870630914418, 'bagging_freq': 6, 'min_child_samples': 93}. Best is trial 89 with value: 0.3616230333369512.\n",
      "/var/folders/l7/l93x40d92cvcv2gjmhtlx83m0000gn/T/ipykernel_44390/1344764334.py:57: ExperimentalWarning:\n",
      "\n",
      "upload_artifact is experimental (supported from v3.3.0). The interface can change in the future.\n",
      "\n",
      "/var/folders/l7/l93x40d92cvcv2gjmhtlx83m0000gn/T/ipykernel_44390/1344764334.py:61: ExperimentalWarning:\n",
      "\n",
      "upload_artifact is experimental (supported from v3.3.0). The interface can change in the future.\n",
      "\n",
      "[I 2024-06-13 22:18:48,198] Trial 97 finished with value: 0.3519770776178977 and parameters: {'lambda_l1': 0.8529724459376996, 'lambda_l2': 0.9437982441975129, 'num_leaves': 154, 'feature_fraction': 0.5848301515226958, 'bagging_fraction': 0.7684458457309169, 'bagging_freq': 6, 'min_child_samples': 58}. Best is trial 89 with value: 0.3616230333369512.\n",
      "/var/folders/l7/l93x40d92cvcv2gjmhtlx83m0000gn/T/ipykernel_44390/1344764334.py:57: ExperimentalWarning:\n",
      "\n",
      "upload_artifact is experimental (supported from v3.3.0). The interface can change in the future.\n",
      "\n",
      "/var/folders/l7/l93x40d92cvcv2gjmhtlx83m0000gn/T/ipykernel_44390/1344764334.py:61: ExperimentalWarning:\n",
      "\n",
      "upload_artifact is experimental (supported from v3.3.0). The interface can change in the future.\n",
      "\n",
      "[I 2024-06-13 22:18:57,562] Trial 98 finished with value: 0.35636993688895174 and parameters: {'lambda_l1': 8.209155690425141e-07, 'lambda_l2': 3.0837127361728045e-08, 'num_leaves': 48, 'feature_fraction': 0.4940543916501938, 'bagging_fraction': 0.812496869975402, 'bagging_freq': 5, 'min_child_samples': 68}. Best is trial 89 with value: 0.3616230333369512.\n",
      "/var/folders/l7/l93x40d92cvcv2gjmhtlx83m0000gn/T/ipykernel_44390/1344764334.py:57: ExperimentalWarning:\n",
      "\n",
      "upload_artifact is experimental (supported from v3.3.0). The interface can change in the future.\n",
      "\n",
      "/var/folders/l7/l93x40d92cvcv2gjmhtlx83m0000gn/T/ipykernel_44390/1344764334.py:61: ExperimentalWarning:\n",
      "\n",
      "upload_artifact is experimental (supported from v3.3.0). The interface can change in the future.\n",
      "\n",
      "[I 2024-06-13 22:19:11,244] Trial 99 finished with value: 0.3502852202677646 and parameters: {'lambda_l1': 0.0038356213154767268, 'lambda_l2': 5.691540373751259, 'num_leaves': 162, 'feature_fraction': 0.6423514635678148, 'bagging_fraction': 0.9254363792380575, 'bagging_freq': 7, 'min_child_samples': 29}. Best is trial 89 with value: 0.3616230333369512.\n",
      "/var/folders/l7/l93x40d92cvcv2gjmhtlx83m0000gn/T/ipykernel_44390/1344764334.py:57: ExperimentalWarning:\n",
      "\n",
      "upload_artifact is experimental (supported from v3.3.0). The interface can change in the future.\n",
      "\n",
      "/var/folders/l7/l93x40d92cvcv2gjmhtlx83m0000gn/T/ipykernel_44390/1344764334.py:61: ExperimentalWarning:\n",
      "\n",
      "upload_artifact is experimental (supported from v3.3.0). The interface can change in the future.\n",
      "\n",
      "[I 2024-06-13 22:19:19,597] Trial 100 finished with value: 0.3598857781508642 and parameters: {'lambda_l1': 0.0018931721504966265, 'lambda_l2': 0.07954273171681975, 'num_leaves': 211, 'feature_fraction': 0.5395743808900416, 'bagging_fraction': 0.8871357599898042, 'bagging_freq': 6, 'min_child_samples': 90}. Best is trial 89 with value: 0.3616230333369512.\n"
     ]
    }
   ],
   "source": [
    "artifact_store = FileSystemArtifactStore(base_path=PATH_TO_OPTUNA_ARTIFACTS)\n",
    "\n",
    "study = optuna.create_study(direction='maximize',\n",
    "                            storage=\"sqlite:///db.sqlite3\",  # Specify the storage URL here.\n",
    "                            study_name=\"04 - LGB Multiclass CV\",\n",
    "                            load_if_exists = True)\n",
    "\n",
    "study.optimize(cv_es_lgb_objective, n_trials=100)"
   ]
  },
  {
   "cell_type": "code",
   "execution_count": null,
   "metadata": {},
   "outputs": [],
   "source": []
  },
  {
   "cell_type": "code",
   "execution_count": null,
   "metadata": {},
   "outputs": [],
   "source": []
  }
 ],
 "metadata": {
  "kernelspec": {
   "display_name": "ldi2",
   "language": "python",
   "name": "python3"
  },
  "language_info": {
   "codemirror_mode": {
    "name": "ipython",
    "version": 3
   },
   "file_extension": ".py",
   "mimetype": "text/x-python",
   "name": "python",
   "nbconvert_exporter": "python",
   "pygments_lexer": "ipython3",
   "version": "3.12.3"
  }
 },
 "nbformat": 4,
 "nbformat_minor": 2
}
